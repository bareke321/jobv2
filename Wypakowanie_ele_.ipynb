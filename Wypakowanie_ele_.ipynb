{
 "cells": [
  {
   "cell_type": "code",
   "execution_count": 1,
   "id": "8c6103b9-84fe-464d-b554-86a461d414c8",
   "metadata": {},
   "outputs": [],
   "source": [
    "from selenium import webdriver\n",
    "from bs4 import BeautifulSoup\n",
    "from selenium.webdriver.common.by import By\n",
    "import pandas as pd\n",
    "import time\n",
    "from bs4 import BeautifulSoup\n",
    "import os\n",
    "import shutil\n",
    "from datetime import datetime\n",
    "import pypdf\n",
    "import re\n",
    "import os"
   ]
  },
  {
   "cell_type": "code",
   "execution_count": 2,
   "id": "171e9ae4-5439-47d1-8862-8dfb1e104dcb",
   "metadata": {},
   "outputs": [],
   "source": [
    "driver = webdriver.Chrome()\n",
    "driver.get(\"https://timesheet.cee.kworld.kpmg.com/\")"
   ]
  },
  {
   "cell_type": "code",
   "execution_count": 4,
   "id": "81d533cc-8d22-44f7-8c4a-62b86de737ca",
   "metadata": {},
   "outputs": [],
   "source": [
    "list_idv = '<div id=\"map-sidebar-content\" class=\"map-sidebar-content\"><div class=\"map-sidebar-item\"><div class=\"station-item\"><div class=\"station-item-header\"><img width=\"40\" height=\"40\" src=\"/_next/static/media/map-pin-zse-available-clean.170e3a1a.svg\" alt=\"map-pin\"><div class=\"station-info\"><p>ZSE Partner Roaming NR Motor-Car</p><p>Bratislavská 3, Nitra, SK</p></div></div><div class=\"station-item-wrapper\"><div class=\"station-photo-wrapper\"></div></div></div></div><div class=\"map-sidebar-item\"><div class=\"station-item\"><div class=\"station-item-header\"><img width=\"40\" height=\"40\" src=\"/_next/static/media/map-pin-zse-available-clean.170e3a1a.svg\" alt=\"map-pin\"><div class=\"station-info\"><p>ZSE Partner Roaming NZ Motor-Car new</p><p>Komárňanská cesta 100, Nové Zámky, SK</p></div></div><div class=\"station-item-wrapper\"><div class=\"station-photo-wrapper\"></div></div></div></div><div class=\"map-sidebar-item\"><div class=\"station-item\"><div class=\"station-item-header\"><img width=\"40\" height=\"40\" src=\"/_next/static/media/map-pin-zse-available-clean.170e3a1a.svg\" alt=\"map-pin\"><div class=\"station-info\"><p>ZSE Partner Roaming NR ORBIS AC WB 1</p><p>Piaristická, Nitra, SK</p></div></div><div class=\"station-item-wrapper\"><div class=\"station-photo-wrapper\"></div></div></div></div><div class=\"map-sidebar-item\"><div class=\"station-item\"><div class=\"station-item-header\"><img width=\"40\" height=\"40\" src=\"/_next/static/media/map-pin-zse-available-clean.170e3a1a.svg\" alt=\"map-pin\"><div class=\"station-info\"><p>ZSE Partner Roaming NR ORBIS AC WB 2</p><p>Piaristická, Nitra, SK</p></div></div><div class=\"station-item-wrapper\"><div class=\"station-photo-wrapper\"></div></div></div></div><div class=\"map-sidebar-item\"><div class=\"station-item\"><div class=\"station-item-header\"><img width=\"40\" height=\"40\" src=\"/_next/static/media/map-pin-zse-available-clean.170e3a1a.svg\" alt=\"map-pin\"><div class=\"station-info\"><p>ZSE Partner Roaming NR ORBIS AC WB 3</p><p>Piaristická, Nitra, SK</p></div></div><div class=\"station-item-wrapper\"><div class=\"station-photo-wrapper\"></div></div></div></div><div class=\"map-sidebar-item\"><div class=\"station-item\"><div class=\"station-item-header\"><img width=\"40\" height=\"40\" src=\"/_next/static/media/map-pin-zse-available-clean.170e3a1a.svg\" alt=\"map-pin\"><div class=\"station-info\"><p>ZSE Partner Roaming NR ORBIS AC WB 4</p><p>Piaristická, Nitra, SK</p></div></div><div class=\"station-item-wrapper\"><div class=\"station-photo-wrapper\"></div></div></div></div><div class=\"map-sidebar-item\"><div class=\"station-item\"><div class=\"station-item-header\"><img width=\"40\" height=\"40\" src=\"/_next/static/media/map-pin-zse-available-clean.170e3a1a.svg\" alt=\"map-pin\"><div class=\"station-info\"><p>ZSE Partner Roaming GA Pierre Baguette AC WB 1</p><p>Veľkoúľanská 1716/9, Sládkovičovo, SK</p></div></div><div class=\"station-item-wrapper\"><div class=\"station-photo-wrapper\"></div></div></div></div><div class=\"map-sidebar-item\"><div class=\"station-item\"><div class=\"station-item-header\"><img width=\"40\" height=\"40\" src=\"/_next/static/media/map-pin-zse-available-clean.170e3a1a.svg\" alt=\"map-pin\"><div class=\"station-info\"><p>ZSE Partner Roaming DS Dunauto</p><p>Hlavná 81/35, Dunajská Streda, SK</p></div></div><div class=\"station-item-wrapper\"><div class=\"station-photo-wrapper\"></div></div></div></div><div class=\"map-sidebar-item\"><div class=\"station-item\"><div class=\"station-item-header\"><img width=\"40\" height=\"40\" src=\"/_next/static/media/map-pin-zse-available-clean.170e3a1a.svg\" alt=\"map-pin\"><div class=\"station-info\"><p>ZSE Partner Roaming BA DOAS Kosicka AC WB 2</p><p>Košická 5590/56, Bratislava, SK</p></div></div><div class=\"station-item-wrapper\"><div class=\"station-photo-wrapper\"></div></div></div></div><div class=\"map-sidebar-item\"><div class=\"station-item\"><div class=\"station-item-header\"><img width=\"40\" height=\"40\" src=\"/_next/static/media/map-pin-zse-clean.9cb50e8a.svg\" alt=\"map-pin\"><div class=\"station-info\"><p>ZSE Partner Roaming BA DOAS Kosicka AC WB 1</p><p>Košická 5590/56, Bratislava, SK</p></div></div><div class=\"station-item-wrapper\"><div class=\"station-photo-wrapper\"></div></div></div></div><div class=\"map-sidebar-item\"><div class=\"station-item\"><div class=\"station-item-header\"><img width=\"40\" height=\"40\" src=\"/_next/static/media/map-pin-zse-available-clean.170e3a1a.svg\" alt=\"map-pin\"><div class=\"station-info\"><p>ZSE Partner Roaming BA DOAS Kosicka AC WB 3</p><p>Košická 5590/56, Bratislava, SK</p></div></div><div class=\"station-item-wrapper\"><div class=\"station-photo-wrapper\"></div></div></div></div><div class=\"map-sidebar-item\"><div class=\"station-item\"><div class=\"station-item-header\"><img width=\"40\" height=\"40\" src=\"/_next/static/media/map-pin-zse-available-clean.170e3a1a.svg\" alt=\"map-pin\"><div class=\"station-info\"><p>ZSE Partner Roaming NR SPU 150</p><p>Trieda Andreja Hlinku 1, Nitra, SK</p></div></div><div class=\"station-item-wrapper\"><div class=\"station-photo-wrapper\"></div></div></div></div><div class=\"map-sidebar-item\"><div class=\"station-item\"><div class=\"station-item-header\"><img width=\"40\" height=\"40\" src=\"/_next/static/media/map-pin-zse-available-clean.170e3a1a.svg\" alt=\"map-pin\"><div class=\"station-info\"><p>ZSE Partner Roaming BA Motor Car Hodonínska</p><p>Hodoninska 7, Bratislava, SK</p></div></div><div class=\"station-item-wrapper\"><div class=\"station-photo-wrapper\"></div></div></div></div><div class=\"map-sidebar-item\"><div class=\"station-item\"><div class=\"station-item-header\"><img width=\"40\" height=\"40\" src=\"/_next/static/media/map-pin-zse-available-clean.170e3a1a.svg\" alt=\"map-pin\"><div class=\"station-info\"><p>ZSE Partner Roaming BA Motor Car Tuhovska</p><p>Tuhovská 5, Bratislava, SK</p></div></div><div class=\"station-item-wrapper\"><div class=\"station-photo-wrapper\"></div></div></div></div><div class=\"map-sidebar-item\"><div class=\"station-item\"><div class=\"station-item-header\"><img width=\"40\" height=\"40\" src=\"/_next/static/media/map-pin-zse-available-clean.170e3a1a.svg\" alt=\"map-pin\"><div class=\"station-info\"><p>ZSE Partner Roaming BA NAY Tuhovská AC WB 4 Socket</p><p>Tuhovská, Bratislava, SK</p></div></div><div class=\"station-item-wrapper\"><div class=\"station-photo-wrapper\"></div></div></div></div><div class=\"map-sidebar-item\"><div class=\"station-item\"><div class=\"station-item-header\"><img width=\"40\" height=\"40\" src=\"/_next/static/media/map-pin-zse-available-clean.170e3a1a.svg\" alt=\"map-pin\"><div class=\"station-info\"><p>ZSE Partner Roaming  NR SPU 75</p><p>Trieda Andreja Hlinku 1, Nitra, SK</p></div></div><div class=\"station-item-wrapper\"><div class=\"station-photo-wrapper\"></div></div></div></div><div class=\"map-sidebar-item\"><div class=\"station-item\"><div class=\"station-item-header\"><img width=\"40\" height=\"40\" src=\"/_next/static/media/map-pin-zse-available-clean.170e3a1a.svg\" alt=\"map-pin\"><div class=\"station-info\"><p>ZSE Partner Roaming GA Pierre Baguette AC WB 2</p><p>Veľkoúľanská 1716/9, Sládkovičovo, SK</p></div></div><div class=\"station-item-wrapper\"><div class=\"station-photo-wrapper\"></div></div></div></div><div class=\"map-sidebar-item\"><div class=\"station-item\"><div class=\"station-item-header\"><img width=\"40\" height=\"40\" src=\"/_next/static/media/map-pin-zse-available-clean.170e3a1a.svg\" alt=\"map-pin\"><div class=\"station-info\"><p>ZSE Partner Roaming BA NAY Tuhovská AC WB 1 Socket</p><p>Tuhovská, Bratislava, SK</p></div></div><div class=\"station-item-wrapper\"><div class=\"station-photo-wrapper\"></div></div></div></div><div class=\"map-sidebar-item\"><div class=\"station-item\"><div class=\"station-item-header\"><img width=\"40\" height=\"40\" src=\"/_next/static/media/map-pin-zse-available-clean.170e3a1a.svg\" alt=\"map-pin\"><div class=\"station-info\"><p>ZSE Partner Roaming KN Coop Jednota Hurbanovo DC</p><p>Novozámocká 211/44, Hurbanovo, SK</p></div></div><div class=\"station-item-wrapper\"><div class=\"station-photo-wrapper\"></div></div></div></div><div class=\"map-sidebar-item\"><div class=\"station-item\"><div class=\"station-item-header\"><img width=\"40\" height=\"40\" src=\"/_next/static/media/map-pin-zse-available-clean.170e3a1a.svg\" alt=\"map-pin\"><div class=\"station-info\"><p>ZSE LV OC Dituria Ultra</p><p>Sv. Michala 5, Levice, SK</p></div></div><div class=\"station-item-wrapper\"><div class=\"station-photo-wrapper\"></div></div></div></div><div class=\"map-sidebar-item\"><div class=\"station-item\"><div class=\"station-item-header\"><img width=\"40\" height=\"40\" src=\"/_next/static/media/map-pin-zse-available-clean.170e3a1a.svg\" alt=\"map-pin\"><div class=\"station-info\"><p>ZSE BA Freshmarket new</p><p>Rožňavská 1A, Bratislava, SK</p></div></div><div class=\"station-item-wrapper\"><div class=\"station-photo-wrapper\"></div></div></div></div><div class=\"map-sidebar-item\"><div class=\"station-item\"><div class=\"station-item-header\"><img width=\"40\" height=\"40\" src=\"/_next/static/media/map-pin-zse-available-clean.170e3a1a.svg\" alt=\"map-pin\"><div class=\"station-info\"><p>ZSE BA Rínok Rača Left</p><p>Rudroffova 3, Rača, SK</p></div></div><div class=\"station-item-wrapper\"><div class=\"station-photo-wrapper\"></div></div></div></div><div class=\"map-sidebar-item\"><div class=\"station-item\"><div class=\"station-item-header\"><img width=\"40\" height=\"40\" src=\"/_next/static/media/map-pin-zse-available-clean.170e3a1a.svg\" alt=\"map-pin\"><div class=\"station-info\"><p>ZSE BA Rínok Rača Right</p><p>Rudroffova 3, Rača, SK</p></div></div><div class=\"station-item-wrapper\"><div class=\"station-photo-wrapper\"></div></div></div></div><div class=\"map-sidebar-item\"><div class=\"station-item\"><div class=\"station-item-header\"><img width=\"40\" height=\"40\" src=\"/_next/static/media/map-pin-zse-available-clean.170e3a1a.svg\" alt=\"map-pin\"><div class=\"station-info\"><p>ZSE BA Bory Mall UFC Centre</p><p>Lamačská brána 6780, Bratislava, SK</p></div></div><div class=\"station-item-wrapper\"><div class=\"station-photo-wrapper\"></div></div></div></div><div class=\"map-sidebar-item\"><div class=\"station-item\"><div class=\"station-item-header\"><img width=\"40\" height=\"40\" src=\"/_next/static/media/map-pin-zse-available-clean.170e3a1a.svg\" alt=\"map-pin\"><div class=\"station-info\"><p>ZSE BA Bory Mall UFC Left</p><p>Lamačská brána 6780, Bratislava, SK</p></div></div><div class=\"station-item-wrapper\"><div class=\"station-photo-wrapper\"></div></div></div></div><div class=\"map-sidebar-item\"><div class=\"station-item\"><div class=\"station-item-header\"><img width=\"40\" height=\"40\" src=\"/_next/static/media/map-pin-zse-available-clean.170e3a1a.svg\" alt=\"map-pin\"><div class=\"station-info\"><p>ZSE BA Landererova UFC 1</p><p>Landererova 7, Bratislava, SK</p></div></div><div class=\"station-item-wrapper\"><div class=\"station-photo-wrapper\"></div></div></div></div><div class=\"map-sidebar-item\"><div class=\"station-item\"><div class=\"station-item-header\"><img width=\"40\" height=\"40\" src=\"/_next/static/media/map-pin-zse-available-clean.170e3a1a.svg\" alt=\"map-pin\"><div class=\"station-info\"><p>ZSE BA Landererova UFC 4</p><p>Landererova 7, Bratislava, SK</p></div></div><div class=\"station-item-wrapper\"><div class=\"station-photo-wrapper\"></div></div></div></div><div class=\"map-sidebar-item\"><div class=\"station-item\"><div class=\"station-item-header\"><img width=\"40\" height=\"40\" src=\"/_next/static/media/map-pin-zse-available-clean.170e3a1a.svg\" alt=\"map-pin\"><div class=\"station-info\"><p>ZSE NZ Aquario Štúrovo</p><p>Hlavná 71, Štúrovo, SK</p></div></div><div class=\"station-item-wrapper\"><div class=\"station-photo-wrapper\"></div></div></div></div><div class=\"map-sidebar-item\"><div class=\"station-item\"><div class=\"station-item-header\"><img width=\"40\" height=\"40\" src=\"/_next/static/media/map-pin-zse-available-clean.170e3a1a.svg\" alt=\"map-pin\"><div class=\"station-info\"><p>ZSE KN OC Klokan Ultra</p><p>Odborárov 5943, Komárno, SK</p></div></div><div class=\"station-item-wrapper\"><div class=\"station-photo-wrapper\"></div></div></div></div><div class=\"map-sidebar-item\"><div class=\"station-item\"><div class=\"station-item-header\"><img width=\"40\" height=\"40\" src=\"/_next/static/media/map-pin-zse-available-clean.170e3a1a.svg\" alt=\"map-pin\"><div class=\"station-info\"><p>ZSE BA Slnečnice AC CL 2A</p><p>Parkovisko pred Billa, Zuzany chalupovej 3, Bratislava, SK</p></div></div><div class=\"station-item-wrapper\"><div class=\"station-photo-wrapper\"></div></div></div></div><div class=\"map-sidebar-item\"><div class=\"station-item\"><div class=\"station-item-header\"><img width=\"40\" height=\"40\" src=\"/_next/static/media/map-pin-zse-available-clean.170e3a1a.svg\" alt=\"map-pin\"><div class=\"station-info\"><p>ZSE BA Rezident Hlavná stanica</p><p>Predstaničné námestie 1, Bratislava, SK</p></div></div><div class=\"station-item-wrapper\"><div class=\"station-photo-wrapper\"></div></div></div></div><div class=\"map-sidebar-item\"><div class=\"station-item\"><div class=\"station-item-header\"><img width=\"40\" height=\"40\" src=\"/_next/static/media/map-pin-zse-available-clean.170e3a1a.svg\" alt=\"map-pin\"><div class=\"station-info\"><p>ZSE BA Rezident Čerešne 1 Polianky AC CL</p><p>Polianky, Bratislava, SK</p></div></div><div class=\"station-item-wrapper\"><div class=\"station-photo-wrapper\"></div></div></div></div><div class=\"map-sidebar-item\"><div class=\"station-item\"><div class=\"station-item-header\"><img width=\"40\" height=\"40\" src=\"/_next/static/media/map-pin-zse-available-clean.170e3a1a.svg\" alt=\"map-pin\"><div class=\"station-info\"><p>ZSE BA Rezident Slnečnice AC CL A1</p><p>Zuzany Chalupovej, Bratislava, SK</p></div></div><div class=\"station-item-wrapper\"><div class=\"station-photo-wrapper\"></div></div></div></div><div class=\"map-sidebar-item\"><div class=\"station-item\"><div class=\"station-item-header\"><img width=\"40\" height=\"40\" src=\"/_next/static/media/map-pin-zse-available-clean.170e3a1a.svg\" alt=\"map-pin\"><div class=\"station-info\"><p>ZSE BA Rezident Slnečnice AC CL A2</p><p>Zuzany Chalupovej, Bratislava, SK</p></div></div><div class=\"station-item-wrapper\"><div class=\"station-photo-wrapper\"></div></div></div></div><div class=\"map-sidebar-item\"><div class=\"station-item\"><div class=\"station-item-header\"><img width=\"40\" height=\"40\" src=\"/_next/static/media/map-pin-zse-available-clean.170e3a1a.svg\" alt=\"map-pin\"><div class=\"station-info\"><p>ZSE BA Rezident Malokarpatské námestie AC CL 2</p><p>Malokarpatské námestie 6518, Bratislava, SK</p></div></div><div class=\"station-item-wrapper\"><div class=\"station-photo-wrapper\"></div></div></div></div><div class=\"map-sidebar-item\"><div class=\"station-item\"><div class=\"station-item-header\"><img width=\"40\" height=\"40\" src=\"/_next/static/media/map-pin-zse-available-clean.170e3a1a.svg\" alt=\"map-pin\"><div class=\"station-info\"><p>ZSE BA Rezident Malokarpatské námestie AC CL 1</p><p>Malokarpatské námestie 6518, Bratislava, SK</p></div></div><div class=\"station-item-wrapper\"><div class=\"station-photo-wrapper\"></div></div></div></div><div class=\"map-sidebar-item\"><div class=\"station-item\"><div class=\"station-item-header\"><img width=\"40\" height=\"40\" src=\"/_next/static/media/map-pin-zse-available-clean.170e3a1a.svg\" alt=\"map-pin\"><div class=\"station-info\"><p>ZSE BA Rezident Nam. Franza Liszta AC CL 1</p><p>Bratislava, Námestie Franza Liszta, Bratislava, SK</p></div></div><div class=\"station-item-wrapper\"><div class=\"station-photo-wrapper\"></div></div></div></div><div class=\"map-sidebar-item\"><div class=\"station-item\"><div class=\"station-item-header\"><img width=\"40\" height=\"40\" src=\"/_next/static/media/map-pin-zse-available-clean.170e3a1a.svg\" alt=\"map-pin\"><div class=\"station-info\"><p>ZSE BA Rezident Nam. Franza Liszta AC CL 2</p><p>Bratislava, Námestie Franza Liszta, Bratislava, SK</p></div></div><div class=\"station-item-wrapper\"><div class=\"station-photo-wrapper\"></div></div></div></div><div class=\"map-sidebar-item\"><div class=\"station-item\"><div class=\"station-item-header\"><img width=\"40\" height=\"40\" src=\"/_next/static/media/map-pin-zse-available-clean.170e3a1a.svg\" alt=\"map-pin\"><div class=\"station-info\"><p>ZSE BA Rezident Drevona AC CL 2</p><p>Výhonská 1, Bratislava, SK</p></div></div><div class=\"station-item-wrapper\"><div class=\"station-photo-wrapper\"></div></div></div></div><div class=\"map-sidebar-item\"><div class=\"station-item\"><div class=\"station-item-header\"><img width=\"40\" height=\"40\" src=\"/_next/static/media/map-pin-zse-available-clean.170e3a1a.svg\" alt=\"map-pin\"><div class=\"station-info\"><p>ZSE BA Rezident Drevona AC CL 1</p><p>Výhonská 1, Bratislava, SK</p></div></div><div class=\"station-item-wrapper\"><div class=\"station-photo-wrapper\"></div></div></div></div></div>'"
   ]
  },
  {
   "cell_type": "code",
   "execution_count": 5,
   "id": "e9e4b458-455a-4d30-ba6d-70a7a8d21d60",
   "metadata": {},
   "outputs": [
    {
     "data": {
      "text/plain": [
       "40"
      ]
     },
     "execution_count": 5,
     "metadata": {},
     "output_type": "execute_result"
    }
   ],
   "source": [
    "list_idv.count(\"map-sidebar-item\")"
   ]
  },
  {
   "cell_type": "code",
   "execution_count": 6,
   "id": "6153f6e4-32c0-462a-94cf-ebeac0d0ff3a",
   "metadata": {},
   "outputs": [],
   "source": [
    "test2 = '<div id=\"map-sidebar-content\" class=\"map-sidebar-content\"><div class=\"map-sidebar-item\"><div class=\"station-item\"><div class=\"station-item-header\"><img width=\"40\" height=\"40\" src=\"/_next/static/media/map-pin-zse-available-clean.170e3a1a.svg\" alt=\"map-pin\"><div class=\"station-info\"><p>ZSE Partner Roaming BB Motor-Car</p><p>Zvolenská cesta 48, Banská Bystrica, SK</p></div></div><div class=\"station-item-wrapper\"><div class=\"station-photo-wrapper\"></div></div></div></div><div class=\"map-sidebar-item\"><div class=\"station-item\"><div class=\"station-item-header\"><img width=\"40\" height=\"40\" src=\"/_next/static/media/map-pin-zse-available-clean.170e3a1a.svg\" alt=\"map-pin\"><div class=\"station-info\"><p>ZSE Partner Roaming BB Motor-Car AC WB 06</p><p>Zvolenská cesta 48, Banská Bystrica, SK</p></div></div><div class=\"station-item-wrapper\"><div class=\"station-photo-wrapper\"></div></div></div></div><div class=\"map-sidebar-item\"><div class=\"station-item\"><div class=\"station-item-header\"><img width=\"40\" height=\"40\" src=\"/_next/static/media/map-pin-zse-available-clean.170e3a1a.svg\" alt=\"map-pin\"><div class=\"station-info\"><p>ZSE Partner Roaming NR Motor-Car</p><p>Bratislavská 3, Nitra, SK</p></div></div><div class=\"station-item-wrapper\"><div class=\"station-photo-wrapper\"></div></div></div></div><div class=\"map-sidebar-item\"><div class=\"station-item\"><div class=\"station-item-header\"><img width=\"40\" height=\"40\" src=\"/_next/static/media/map-pin-zse-available-clean.170e3a1a.svg\" alt=\"map-pin\"><div class=\"station-info\"><p>ZSE Partner Roaming NZ Motor-Car new</p><p>Komárňanská cesta 100, Nové Zámky, SK</p></div></div><div class=\"station-item-wrapper\"><div class=\"station-photo-wrapper\"></div></div></div></div><div class=\"map-sidebar-item\"><div class=\"station-item\"><div class=\"station-item-header\"><img width=\"40\" height=\"40\" src=\"/_next/static/media/map-pin-zse-available-clean.170e3a1a.svg\" alt=\"map-pin\"><div class=\"station-info\"><p>ZSE Partner Roaming NR ORBIS AC WB 1</p><p>Piaristická, Nitra, SK</p></div></div><div class=\"station-item-wrapper\"><div class=\"station-photo-wrapper\"></div></div></div></div><div class=\"map-sidebar-item\"><div class=\"station-item\"><div class=\"station-item-header\"><img width=\"40\" height=\"40\" src=\"/_next/static/media/map-pin-zse-available-clean.170e3a1a.svg\" alt=\"map-pin\"><div class=\"station-info\"><p>ZSE Partner Roaming NR ORBIS AC WB 2</p><p>Piaristická, Nitra, SK</p></div></div><div class=\"station-item-wrapper\"><div class=\"station-photo-wrapper\"></div></div></div></div><div class=\"map-sidebar-item\"><div class=\"station-item\"><div class=\"station-item-header\"><img width=\"40\" height=\"40\" src=\"/_next/static/media/map-pin-zse-available-clean.170e3a1a.svg\" alt=\"map-pin\"><div class=\"station-info\"><p>ZSE Partner Roaming NR ORBIS AC WB 3</p><p>Piaristická, Nitra, SK</p></div></div><div class=\"station-item-wrapper\"><div class=\"station-photo-wrapper\"></div></div></div></div><div class=\"map-sidebar-item\"><div class=\"station-item\"><div class=\"station-item-header\"><img width=\"40\" height=\"40\" src=\"/_next/static/media/map-pin-zse-available-clean.170e3a1a.svg\" alt=\"map-pin\"><div class=\"station-info\"><p>ZSE Partner Roaming NR ORBIS AC WB 4</p><p>Piaristická, Nitra, SK</p></div></div><div class=\"station-item-wrapper\"><div class=\"station-photo-wrapper\"></div></div></div></div><div class=\"map-sidebar-item\"><div class=\"station-item\"><div class=\"station-item-header\"><img width=\"40\" height=\"40\" src=\"/_next/static/media/map-pin-zse-available-clean.170e3a1a.svg\" alt=\"map-pin\"><div class=\"station-info\"><p>ZSE Partner Roaming PK Penzión Modrý Dom AC WB 1</p><p>Piesok 4073/E8, Modra, SK</p></div></div><div class=\"station-item-wrapper\"><div class=\"station-photo-wrapper\"></div></div></div></div><div class=\"map-sidebar-item\"><div class=\"station-item\"><div class=\"station-item-header\"><img width=\"40\" height=\"40\" src=\"/_next/static/media/map-pin-zse-available-clean.170e3a1a.svg\" alt=\"map-pin\"><div class=\"station-info\"><p>ZSE Partner Roaming GA Pierre Baguette AC WB 1</p><p>Veľkoúľanská 1716/9, Sládkovičovo, SK</p></div></div><div class=\"station-item-wrapper\"><div class=\"station-photo-wrapper\"></div></div></div></div><div class=\"map-sidebar-item\"><div class=\"station-item\"><div class=\"station-item-header\"><img width=\"40\" height=\"40\" src=\"/_next/static/media/map-pin-zse-available-clean.170e3a1a.svg\" alt=\"map-pin\"><div class=\"station-info\"><p>ZSE Partner Roaming DS Dunauto</p><p>Hlavná 81/35, Dunajská Streda, SK</p></div></div><div class=\"station-item-wrapper\"><div class=\"station-photo-wrapper\"></div></div></div></div><div class=\"map-sidebar-item\"><div class=\"station-item\"><div class=\"station-item-header\"><img width=\"40\" height=\"40\" src=\"/_next/static/media/map-pin-zse-available-clean.170e3a1a.svg\" alt=\"map-pin\"><div class=\"station-info\"><p>ZSE Partner Roaming BA DOAS Kosicka AC WB 2</p><p>Košická 5590/56, Bratislava, SK</p></div></div><div class=\"station-item-wrapper\"><div class=\"station-photo-wrapper\"></div></div></div></div><div class=\"map-sidebar-item\"><div class=\"station-item\"><div class=\"station-item-header\"><img width=\"40\" height=\"40\" src=\"/_next/static/media/map-pin-zse-clean.9cb50e8a.svg\" alt=\"map-pin\"><div class=\"station-info\"><p>ZSE Partner Roaming BA DOAS Kosicka AC WB 1</p><p>Košická 5590/56, Bratislava, SK</p></div></div><div class=\"station-item-wrapper\"><div class=\"station-photo-wrapper\"></div></div></div></div><div class=\"map-sidebar-item\"><div class=\"station-item\"><div class=\"station-item-header\"><img width=\"40\" height=\"40\" src=\"/_next/static/media/map-pin-zse-available-clean.170e3a1a.svg\" alt=\"map-pin\"><div class=\"station-info\"><p>ZSE Partner Roaming BA DOAS Kosicka AC WB 3</p><p>Košická 5590/56, Bratislava, SK</p></div></div><div class=\"station-item-wrapper\"><div class=\"station-photo-wrapper\"></div></div></div></div><div class=\"map-sidebar-item\"><div class=\"station-item\"><div class=\"station-item-header\"><img width=\"40\" height=\"40\" src=\"/_next/static/media/map-pin-zse-available-clean.170e3a1a.svg\" alt=\"map-pin\"><div class=\"station-info\"><p>ZSE Partner Roaming PK Penzión Modrý Dom AC WB 2</p><p>Piesok 4073/E8, Modra, SK</p></div></div><div class=\"station-item-wrapper\"><div class=\"station-photo-wrapper\"></div></div></div></div><div class=\"map-sidebar-item\"><div class=\"station-item\"><div class=\"station-item-header\"><img width=\"40\" height=\"40\" src=\"/_next/static/media/map-pin-zse-available-clean.170e3a1a.svg\" alt=\"map-pin\"><div class=\"station-info\"><p>ZSE Partner Roaming NR SPU 150</p><p>Trieda Andreja Hlinku 1, Nitra, SK</p></div></div><div class=\"station-item-wrapper\"><div class=\"station-photo-wrapper\"></div></div></div></div><div class=\"map-sidebar-item\"><div class=\"station-item\"><div class=\"station-item-header\"><img width=\"40\" height=\"40\" src=\"/_next/static/media/map-pin-zse-available-clean.170e3a1a.svg\" alt=\"map-pin\"><div class=\"station-info\"><p>ZSE Partner Roaming BA Motor Car Hodonínska</p><p>Hodoninska 7, Bratislava, SK</p></div></div><div class=\"station-item-wrapper\"><div class=\"station-photo-wrapper\"></div></div></div></div><div class=\"map-sidebar-item\"><div class=\"station-item\"><div class=\"station-item-header\"><img width=\"40\" height=\"40\" src=\"/_next/static/media/map-pin-zse-available-clean.170e3a1a.svg\" alt=\"map-pin\"><div class=\"station-info\"><p>ZSE Partner Roaming BA Motor Car Tuhovska</p><p>Tuhovská 5, Bratislava, SK</p></div></div><div class=\"station-item-wrapper\"><div class=\"station-photo-wrapper\"></div></div></div></div><div class=\"map-sidebar-item\"><div class=\"station-item\"><div class=\"station-item-header\"><img width=\"40\" height=\"40\" src=\"/_next/static/media/map-pin-zse-available-clean.170e3a1a.svg\" alt=\"map-pin\"><div class=\"station-info\"><p>ZSE Partner Roaming BA NAY Tuhovská AC WB 4 Socket</p><p>Tuhovská, Bratislava, SK</p></div></div><div class=\"station-item-wrapper\"><div class=\"station-photo-wrapper\"></div></div></div></div><div class=\"map-sidebar-item\"><div class=\"station-item\"><div class=\"station-item-header\"><img width=\"40\" height=\"40\" src=\"/_next/static/media/map-pin-zse-available-clean.170e3a1a.svg\" alt=\"map-pin\"><div class=\"station-info\"><p>ZSE Partner Roaming SE Vaillant group AC WB 2B</p><p>Kaplinské pole, Senica, SK</p></div></div><div class=\"station-item-wrapper\"><div class=\"station-photo-wrapper\"></div></div></div></div><div class=\"map-sidebar-item\"><div class=\"station-item\"><div class=\"station-item-header\"><img width=\"40\" height=\"40\" src=\"/_next/static/media/map-pin-zse-available-clean.170e3a1a.svg\" alt=\"map-pin\"><div class=\"station-info\"><p>ZSE Partner Roaming SE Vaillant group AC WB 3B</p><p>Kaplinské pole, Senica, SK</p></div></div><div class=\"station-item-wrapper\"><div class=\"station-photo-wrapper\"></div></div></div></div><div class=\"map-sidebar-item\"><div class=\"station-item\"><div class=\"station-item-header\"><img width=\"40\" height=\"40\" src=\"/_next/static/media/map-pin-zse-available-clean.170e3a1a.svg\" alt=\"map-pin\"><div class=\"station-info\"><p>ZSE Partner Roaming SE Vaillant group AC WB 2A</p><p>Kaplinské pole, Senica, SK</p></div></div><div class=\"station-item-wrapper\"><div class=\"station-photo-wrapper\"></div></div></div></div><div class=\"map-sidebar-item\"><div class=\"station-item\"><div class=\"station-item-header\"><img width=\"40\" height=\"40\" src=\"/_next/static/media/map-pin-zse-available-clean.170e3a1a.svg\" alt=\"map-pin\"><div class=\"station-info\"><p>ZSE Partner Roaming SE Vaillant group AC WB 4B</p><p>Kaplinské pole, Senica, SK</p></div></div><div class=\"station-item-wrapper\"><div class=\"station-photo-wrapper\"></div></div></div></div><div class=\"map-sidebar-item\"><div class=\"station-item\"><div class=\"station-item-header\"><img width=\"40\" height=\"40\" src=\"/_next/static/media/map-pin-zse-available-clean.170e3a1a.svg\" alt=\"map-pin\"><div class=\"station-info\"><p>ZSE Partner Roaming SE Vaillant group AC WB 4A</p><p>Kaplinské pole, Senica, SK</p></div></div><div class=\"station-item-wrapper\"><div class=\"station-photo-wrapper\"></div></div></div></div><div class=\"map-sidebar-item\"><div class=\"station-item\"><div class=\"station-item-header\"><img width=\"40\" height=\"40\" src=\"/_next/static/media/map-pin-zse-available-clean.170e3a1a.svg\" alt=\"map-pin\"><div class=\"station-info\"><p>ZSE Partner Roaming SE Vaillant group AC WB 3A</p><p>Kaplinské pole, Senica, SK</p></div></div><div class=\"station-item-wrapper\"><div class=\"station-photo-wrapper\"></div></div></div></div><div class=\"map-sidebar-item\"><div class=\"station-item\"><div class=\"station-item-header\"><img width=\"40\" height=\"40\" src=\"/_next/static/media/map-pin-zse-available-clean.170e3a1a.svg\" alt=\"map-pin\"><div class=\"station-info\"><p>ZSE Partner Roaming SE Vaillant group AC WB 5A</p><p>Kaplinské pole, Senica, SK</p></div></div><div class=\"station-item-wrapper\"><div class=\"station-photo-wrapper\"></div></div></div></div><div class=\"map-sidebar-item\"><div class=\"station-item\"><div class=\"station-item-header\"><img width=\"40\" height=\"40\" src=\"/_next/static/media/map-pin-zse-available-clean.170e3a1a.svg\" alt=\"map-pin\"><div class=\"station-info\"><p>ZSE Partner Roaming SE Vaillant group AC WB 1A</p><p>Kaplinské pole, Senica, SK</p></div></div><div class=\"station-item-wrapper\"><div class=\"station-photo-wrapper\"></div></div></div></div><div class=\"map-sidebar-item\"><div class=\"station-item\"><div class=\"station-item-header\"><img width=\"40\" height=\"40\" src=\"/_next/static/media/map-pin-zse-clean.9cb50e8a.svg\" alt=\"map-pin\"><div class=\"station-info\"><p>ZSE Partner Roaming SE Vaillant group AC WB 5B</p><p>Kaplinské pole, Senica, SK</p></div></div><div class=\"station-item-wrapper\"><div class=\"station-photo-wrapper\"></div></div></div></div><div class=\"map-sidebar-item\"><div class=\"station-item\"><div class=\"station-item-header\"><img width=\"40\" height=\"40\" src=\"/_next/static/media/map-pin-zse-available-clean.170e3a1a.svg\" alt=\"map-pin\"><div class=\"station-info\"><p>ZSE Partner Roaming  NR SPU 75</p><p>Trieda Andreja Hlinku 1, Nitra, SK</p></div></div><div class=\"station-item-wrapper\"><div class=\"station-photo-wrapper\"></div></div></div></div><div class=\"map-sidebar-item\"><div class=\"station-item\"><div class=\"station-item-header\"><img width=\"40\" height=\"40\" src=\"/_next/static/media/map-pin-zse-available-clean.170e3a1a.svg\" alt=\"map-pin\"><div class=\"station-info\"><p>ZSE Partner Roaming GA Pierre Baguette AC WB 2</p><p>Veľkoúľanská 1716/9, Sládkovičovo, SK</p></div></div><div class=\"station-item-wrapper\"><div class=\"station-photo-wrapper\"></div></div></div></div><div class=\"map-sidebar-item\"><div class=\"station-item\"><div class=\"station-item-header\"><img width=\"40\" height=\"40\" src=\"/_next/static/media/map-pin-zse-available-clean.170e3a1a.svg\" alt=\"map-pin\"><div class=\"station-info\"><p>ZSE Partner Roaming MA Malacky Auto AC WB 2</p><p>Pezinská 37, Malacky, SK</p></div></div><div class=\"station-item-wrapper\"><div class=\"station-photo-wrapper\"></div></div></div></div><div class=\"map-sidebar-item\"><div class=\"station-item\"><div class=\"station-item-header\"><img width=\"40\" height=\"40\" src=\"/_next/static/media/map-pin-zse-available-clean.170e3a1a.svg\" alt=\"map-pin\"><div class=\"station-info\"><p>ZSE Partner Roaming MA Malacky Auto AC WB 1</p><p>Pezinská 37, Malacky, SK</p></div></div><div class=\"station-item-wrapper\"><div class=\"station-photo-wrapper\"></div></div></div></div><div class=\"map-sidebar-item\"><div class=\"station-item\"><div class=\"station-item-header\"><img width=\"40\" height=\"40\" src=\"/_next/static/media/map-pin-zse-available-clean.170e3a1a.svg\" alt=\"map-pin\"><div class=\"station-info\"><p>ZSE Partner Roaming BA NAY Tuhovská AC WB 1 Socket</p><p>Tuhovská, Bratislava, SK</p></div></div><div class=\"station-item-wrapper\"><div class=\"station-photo-wrapper\"></div></div></div></div><div class=\"map-sidebar-item\"><div class=\"station-item\"><div class=\"station-item-header\"><img width=\"40\" height=\"40\" src=\"/_next/static/media/map-pin-zse-clean.9cb50e8a.svg\" alt=\"map-pin\"><div class=\"station-info\"><p>ZSE Partner Roaming BB Motor-Car AC WB 01</p><p>Zvolenská cesta 48, Banská Bystrica, SK</p></div></div><div class=\"station-item-wrapper\"><div class=\"station-photo-wrapper\"></div></div></div></div><div class=\"map-sidebar-item\"><div class=\"station-item\"><div class=\"station-item-header\"><img width=\"40\" height=\"40\" src=\"/_next/static/media/map-pin-zse-available-clean.170e3a1a.svg\" alt=\"map-pin\"><div class=\"station-info\"><p>ZSE Partner Roaming BB Motor-Car AC WB 04</p><p>Zvolenská cesta 48, Banská Bystrica, SK</p></div></div><div class=\"station-item-wrapper\"><div class=\"station-photo-wrapper\"></div></div></div></div><div class=\"map-sidebar-item\"><div class=\"station-item\"><div class=\"station-item-header\"><img width=\"40\" height=\"40\" src=\"/_next/static/media/map-pin-zse-available-clean.170e3a1a.svg\" alt=\"map-pin\"><div class=\"station-info\"><p>ZSE Partner Roaming BB Motor-Car AC WB 05</p><p>Zvolenská cesta 48, Banská Bystrica, SK</p></div></div><div class=\"station-item-wrapper\"><div class=\"station-photo-wrapper\"></div></div></div></div><div class=\"map-sidebar-item\"><div class=\"station-item\"><div class=\"station-item-header\"><img width=\"40\" height=\"40\" src=\"/_next/static/media/map-pin-zse-available-clean.170e3a1a.svg\" alt=\"map-pin\"><div class=\"station-info\"><p>ZSE Partner Roaming BB Motor-Car AC WB 02</p><p>Zvolenská cesta 48, Banská Bystrica, SK</p></div></div><div class=\"station-item-wrapper\"><div class=\"station-photo-wrapper\"></div></div></div></div><div class=\"map-sidebar-item\"><div class=\"station-item\"><div class=\"station-item-header\"><img width=\"40\" height=\"40\" src=\"/_next/static/media/map-pin-zse-available-clean.170e3a1a.svg\" alt=\"map-pin\"><div class=\"station-info\"><p>ZSE Partner Roaming KN Coop Jednota Hurbanovo DC</p><p>Novozámocká 211/44, Hurbanovo, SK</p></div></div><div class=\"station-item-wrapper\"><div class=\"station-photo-wrapper\"></div></div></div></div><div class=\"map-sidebar-item\"><div class=\"station-item\"><div class=\"station-item-header\"><img width=\"40\" height=\"40\" src=\"/_next/static/media/map-pin-zse-available-clean.170e3a1a.svg\" alt=\"map-pin\"><div class=\"station-info\"><p>ZSE Partner Roaming SE Vaillant group AC WB 1B</p><p>Kaplinské pole, Senica, SK</p></div></div><div class=\"station-item-wrapper\"><div class=\"station-photo-wrapper\"></div></div></div></div><div class=\"map-sidebar-item\"><div class=\"station-item\"><div class=\"station-item-header\"><img width=\"40\" height=\"40\" src=\"/_next/static/media/map-pin-zse-available-clean.170e3a1a.svg\" alt=\"map-pin\"><div class=\"station-info\"><p> ZSE Partner roaming DEUTSCHE TELEKOM AC WB 4</p><p>Moldavská cesta 8A, Košice-Juh, SK</p></div></div><div class=\"station-item-wrapper\"><div class=\"station-photo-wrapper\"></div></div></div></div></div>'"
   ]
  },
  {
   "cell_type": "code",
   "execution_count": 7,
   "id": "efd7516b-ede1-4ef0-9d8d-9761084e4d57",
   "metadata": {},
   "outputs": [
    {
     "data": {
      "text/plain": [
       "40"
      ]
     },
     "execution_count": 7,
     "metadata": {},
     "output_type": "execute_result"
    }
   ],
   "source": [
    "test2.count(\"map-sidebar-item\")"
   ]
  },
  {
   "cell_type": "code",
   "execution_count": 64,
   "id": "3064d718-3312-4615-98e7-2c736bfa01e1",
   "metadata": {},
   "outputs": [],
   "source": [
    "html = driver.page_source"
   ]
  },
  {
   "cell_type": "code",
   "execution_count": 65,
   "id": "99ff2ff0-6992-4165-99c5-a1dad3b52adb",
   "metadata": {},
   "outputs": [],
   "source": [
    "soup = BeautifulSoup(html, 'html.parser')"
   ]
  },
  {
   "cell_type": "code",
   "execution_count": 66,
   "id": "97bc9d17-cdea-45df-9134-0c670067e3f8",
   "metadata": {},
   "outputs": [],
   "source": [
    "divs_station = soup.find_all('div', class_='station-info')"
   ]
  },
  {
   "cell_type": "code",
   "execution_count": 72,
   "id": "adeb75e6-2fc8-4bb5-bb97-9d4c39040bbf",
   "metadata": {},
   "outputs": [],
   "source": [
    "i=0"
   ]
  },
  {
   "cell_type": "code",
   "execution_count": 79,
   "id": "74a0944b-e96e-4470-bb6a-f39e598cebc7",
   "metadata": {},
   "outputs": [],
   "source": [
    "i=1+i\n",
    "html = driver.page_source\n",
    "soup = BeautifulSoup(html, 'html.parser')\n",
    "divs_station = soup.find_all('div', class_='station-info')\n",
    "stacja_dict = {\"station_name\":[],\"station_address\":[]}\n",
    "for x in divs_station:\n",
    "    stacja_dict[\"station_name\"].append(x.find_all(\"p\")[0].text)\n",
    "    stacja_dict[\"station_address\"].append(x.find_all(\"p\")[1].text)\n",
    "pd.DataFrame(stacja_dict).to_excel(f\"ds_{i}.xlsx\",sheet_name=\"data\",index=False)\n",
    "        \n",
    "        \n"
   ]
  },
  {
   "cell_type": "code",
   "execution_count": 81,
   "id": "62b2a1cb-22b6-4eb8-ac08-c894c248eb63",
   "metadata": {},
   "outputs": [],
   "source": [
    "driver = webdriver.Chrome()\n",
    "driver.get(\"https://www.electromaps.com/en/charging-stations/poland\")"
   ]
  },
  {
   "cell_type": "code",
   "execution_count": 90,
   "id": "40b11260-d73d-4918-a278-11fa5a305411",
   "metadata": {},
   "outputs": [],
   "source": [
    "html = driver.page_source\n",
    "soup = BeautifulSoup(html, 'html.parser')\n",
    "place_list = soup.find_all('div', class_='chargepoints-stations-title')"
   ]
  },
  {
   "cell_type": "code",
   "execution_count": 92,
   "id": "ae3ccb34-fe1e-4feb-85e8-6056e8e80769",
   "metadata": {},
   "outputs": [
    {
     "name": "stdout",
     "output_type": "stream",
     "text": [
      "Warszawa\n",
      "Szczecin\n",
      "Poznań\n",
      "Powiat Sosnowiec\n",
      "Powiat Katowice\n",
      "Łódź\n",
      "Powiat Gliwice\n",
      "Wrocław\n",
      "Kraków\n",
      "Bydgoszcz\n",
      "Częstochowa\n",
      "Gdańsk\n",
      "Gorzów Wielkopolski\n",
      "Powiat Łódź\n",
      "Rybnik\n",
      "Katowice\n",
      "Powiat Ruda Śląska\n",
      "Powiat poznański\n",
      "Powiat Bytom\n",
      "Powiat krakowski\n",
      "Opole\n",
      "Powiat Tarnów\n",
      "Powiat pruszkowski\n",
      "Powiat kłodzki\n",
      "Lublin\n",
      "Powiat Warszawa\n",
      "Tychy\n",
      "Powiat tatrzański\n",
      "Powiat Gdynia\n",
      "Powiat cieszyński\n",
      "Powiat lubiński\n",
      "Rzeszów\n",
      "Powiat Wrocław\n",
      "Powiat Częstochowa\n",
      "Powiat warszawski zachodni\n",
      "Powiat ostrowski\n",
      "Płock\n",
      "Powiat Poznań\n",
      "Powiat nowotarski\n",
      "Powiat brzeski\n",
      "Powiat wielicki\n",
      "Powiat wołomiński\n",
      "Powiat zgorzelecki\n",
      "Powiat piaseczyński\n",
      "Powiat bielski\n",
      "Powiat bolesławiecki\n",
      "Powiat świdnicki\n",
      "Bielsko-Biała\n",
      "Powiat średzki\n",
      "Zielona Góra\n",
      "Radom\n",
      "Kalisz\n",
      "Sosnowiec\n",
      "wrocławski\n",
      "Powiat białostocki\n",
      "Powiat Legnica\n",
      "Powiat chrzanowski\n",
      "Powiat Kraków\n",
      "Powiat tczewski\n",
      "Powiat legionowski\n",
      "Powiat pilski\n",
      "Powiat zgierski\n",
      "Olsztyn\n",
      "Poznański\n",
      "Powiat kluczborski\n",
      "Powiat kutnowski\n",
      "Powiat oświęcimski\n",
      "Powiat tarnogórski\n",
      "Toruń\n",
      "Koszalin\n",
      "Białystok\n",
      "Powiat wieluński\n",
      "Legnica\n",
      "Powiat ostrzeszowski\n",
      "Gdynia\n",
      "Powiat pucki\n",
      "Powiat pszczyński\n",
      "Powiat karkonoski\n",
      "Powiat opolski\n",
      "Powiat wejherowski\n",
      "Powiat rawicki\n",
      "Powiat gryficki\n",
      "Powiat pabianicki\n",
      "Powiat nyski\n",
      "Powiat Jelenia Góra\n",
      "Powiat Zabrze\n",
      "Powiat kamieński\n",
      "Powiat żyrardowski\n",
      "Powiat starogardzki\n",
      "Powiat mikołowski\n",
      "Powiat gnieźnieński\n",
      "Powiat gryfiński\n",
      "Powiat żarski\n",
      "Gliwice\n",
      "Siedlce\n",
      "Powiat radomszczański\n",
      "Powiat krośnieński\n",
      "Powiat Gdańsk\n",
      "Powiat buski\n",
      "Powiat jarosławski\n",
      "Powiat gdański\n",
      "Powiat koszaliński\n",
      "Powiat wrocławski\n",
      "Powiat Nowosądecki\n",
      "Zabrze\n",
      "Biała Podlaska\n",
      "Powiat Słupski\n",
      "Powiat kołobrzeski\n",
      "Powiat Grodzki kielecki\n",
      "kołobrzeski\n",
      "Powiat będziński\n",
      "Powiat Gorzów Wielkopolski\n",
      "Powiat Dąbrowa Górnicza\n",
      "Powiat ząbkowicki\n",
      "Powiat Żory\n",
      "Powiat głogowski\n",
      "Powiat oleśnicki\n",
      "Powiat nowodworski\n",
      "Świnoujście\n",
      "Powiat ostródzki\n",
      "Grudziądz\n",
      "Krosno\n",
      "Żory\n",
      "Piotrków Trybunalski\n",
      "Powiat turecki\n",
      "Powiat stalowowolski\n",
      "Powiat świebodziński\n",
      "Powiat brzeziński\n",
      "Powiat wałecki\n",
      "Powiat oławski\n",
      "Powiat żagański\n",
      "Powiat Lublin\n",
      "Powiat lubliniecki\n",
      "Powiat Bielsko-Biała\n",
      "Powiat sławieński\n",
      "Powiat poddębicki\n",
      "Powiat szamotulski\n",
      "Powiat nowotomyski\n",
      "Powiat goleniowski\n",
      "Powiat stargardzki\n",
      "Powiat otwocki\n",
      "Powiat sulęciński\n",
      "Powiat myślenicki\n",
      "Powiat wyszkowski\n",
      "Powiat chojnicki\n",
      "Powiat grodziski\n",
      "Powiat słubicki\n",
      "Powiat bełchatowski\n",
      "Nowy Sącz\n",
      "Powiat piski\n",
      "Sopot\n",
      "Powiat lipnowski\n",
      "Powiat mielecki\n",
      "Powiat Sopot\n",
      "Powiat ostrowiecki\n",
      "Powiat niżański\n",
      "Powiat lęborski\n",
      "Powiat brodnicki\n",
      "Powiat wschowski\n",
      "Powiat krapkowicki\n",
      "Powiat strzelecki\n",
      "Powiat polkowicki\n",
      "Powiat kędzierzyńsko-kozielski\n",
      "Powiat Jaworzno\n",
      "Powiat Zielona Góra\n",
      "Powiat giżycki\n",
      "Powiat puławski\n",
      "Powiat płoński\n",
      "Powiat iławski\n",
      "Powiat Rzeszów\n",
      "Powiat policki\n",
      "Powiat rzeszowski\n",
      "Powiat przasnyski\n",
      "Powiat olsztyński\n",
      "Powiat zawierciański\n",
      "Powiat miński\n",
      "Powiat włocławski\n",
      "Powiat inowrocławski\n",
      "Kielce\n",
      "Unknown region (temporary)\n",
      "Tarnów\n",
      "Powiat ropczycko-sędziszowski\n",
      "Leszno\n",
      "Powiat olkuski\n",
      "Powiat świecki\n",
      "Powiat białobrzeski\n",
      "Chorzów\n",
      "Powiat wrzesiński\n",
      "Suwałki\n",
      "Powiat wąbrzeski\n",
      "Powiat kępiński\n",
      "Jelenia Góra\n",
      "Łomża\n",
      "Wałbrzych\n",
      "Powiat Siedlecki\n",
      "rzeszowski\n",
      "gliwicki\n",
      "Powiat myszkowski\n",
      "Powiat Koszalin\n",
      "Powiat gostyński\n",
      "Powiat prudnicki\n",
      "Powiat krasnostawski\n",
      "Powiat Chełm\n",
      "Powiat bocheński\n",
      "Powiat tarnowski\n",
      "Powiat częstochowski\n",
      "Powiat trzebnicki\n",
      "Powiat sieradzki\n",
      "Powiat zduńskowolski\n",
      "Powiat wągrowiecki\n",
      "Powiat nowosolski\n",
      "Powiat Szczecin\n",
      "Powiat bartoszycki\n",
      "Powiat gorzowski\n",
      "Powiat szydłowiecki\n",
      "Powiat czarnkowsko-trzcianecki\n",
      "Powiat jarociński\n",
      "Powiat biłgorajski\n",
      "Włocławek\n",
      "Powiat łęczycki\n",
      "Powiat mrągowski\n",
      "Bytom\n",
      "Powiat wałbrzyski\n",
      "Powiat ciechanowski\n",
      "Powiat makowski\n",
      "Powiat bieszczadzki\n",
      "Powiat kościerski\n",
      "Powiat żywiecki\n",
      "żagański\n",
      "koniński\n",
      "jeleniogórski\n",
      "Powiat kozienicki\n",
      "Powiat sokólski\n",
      "Powiat Konin\n",
      "Powiat dąbrowski\n",
      "Powiat międzychodzki\n",
      "Powiat Radom\n",
      "Powiat Elbląg\n",
      "Powiat opatowski\n",
      "Powiat Rybnik\n",
      "Powiat gorlicki\n",
      "Powiat dębicki\n",
      "Powiat Piekary Śląskie\n",
      "Powiat Mysłowice\n",
      "Powiat Tychy\n",
      "Powiat Wałbrzych\n",
      "Powiat Chorzów\n",
      "Powiat sępoleński\n",
      "Powiat sandomierski\n",
      "Powiat świdwiński\n",
      "Powiat gołdapski\n",
      "Powiat ełcki\n",
      "Powiat zielonogórski\n",
      "Powiat Płock\n",
      "Powiat grójecki\n",
      "Powiat żniński\n",
      "Powiat bydgoski\n",
      "Powiat jaworski\n",
      "Powiat milicki\n",
      "Powiat kazimierski\n",
      "Powiat płocki\n",
      "Powiat tucholski\n",
      "Powiat starachowicki\n",
      "Powiat kraśnicki\n",
      "Powiat sochaczewski\n",
      "Powiat krotoszyński\n",
      "Ruda Śląska\n",
      "Powiat ostrołęcki\n",
      "Powiat radomski\n",
      "Powiat wieruszowski\n",
      "Powiat oleski\n",
      "Powiat gostyniński\n",
      "Powiat drawski\n",
      "Powiat pleszewski\n",
      "Powiat szczecinecki\n",
      "Powiat lubański\n",
      "Powiat łowicki\n",
      "Powiat miechowski\n",
      "Powiat elbląski\n",
      "Piekary Śląskie\n",
      "Pomorskie\n",
      "Powiat białogardzki\n",
      "Powiat wadowicki\n",
      "Powiat legnicki\n",
      "Jastrzębie-Zdrój\n",
      "Powiat łódzki wschodni\n",
      "Konin\n",
      "Powiat rycki\n",
      "Powiat augustowski\n",
      "Powiat sanocki\n",
      "świdnicki\n",
      "myśliborski\n",
      "zamojski\n",
      "zielonogórski\n",
      "żniński\n",
      "Powiat garwoliński\n",
      "Powiat strzelecko-drezdenecki\n",
      "Elbląg\n",
      "Powiat aleksandrowski\n",
      "krakowski\n",
      "Powiat Kalisz\n",
      "Powiat Toruń\n",
      "Powiat staszowski\n",
      "Powiat kwidzyński\n",
      "Powiat Bydgoszcz\n",
      "Powiat Świętochłowice\n",
      "Powiat Suwałki\n",
      "Powiat Białystok\n",
      "Powiat międzyrzecki\n",
      "Powiat kłobucki\n",
      "Powiat lubelski\n",
      "Powiat Opole\n",
      "Powiat Leszno\n",
      "Powiat chodzieski\n",
      "Powiat tomaszowski\n",
      "Siemianowice Śląskie\n",
      "Powiat pyrzycki\n",
      "Powiat zwoleński\n",
      "Powiat leszczyński\n",
      "Powiat janowski\n",
      "Powiat bialski\n",
      "Powiat kościański\n",
      "Powiat górowski\n",
      "Powiat konecki\n",
      "Powiat łęczyński\n",
      "Powiat hrubieszowski\n",
      "Powiat lubartowski\n",
      "Chełm\n",
      "Powiat kolski\n",
      "Powiat namysłowski\n",
      "Województwo Śląskie\n",
      "Powiat siemiatycki\n",
      "Powiat piotrkowski\n",
      "Powiat leski\n",
      "Powiat łobeski\n",
      "Powiat łukowski\n",
      "Powiat łańcucki\n",
      "Przemyśl\n",
      "Powiat zambrowski\n",
      "Powiat jędrzejowski\n",
      "Powiat tarnobrzeski\n",
      "Jaworzno\n",
      "Powiat wolsztyński\n",
      "Słupsk\n",
      "Powiat kamiennogórski\n",
      "Powiat złotowski\n",
      "Powiat suski\n",
      "Powiat olecki\n",
      "Powiat kielecki\n",
      "Powiat limanowski\n",
      "Powiat lwówecki\n",
      "Powiat rybnicki\n",
      "Powiat hajnowski\n",
      "Powiat węgrowski\n",
      "Powiat przysuski\n",
      "Powiat sierpecki\n",
      "Powiat suwalski\n",
      "Powiat nakielski\n",
      "Powiat kartuski\n",
      "sierpecki\n",
      "lubelski\n",
      "wołowski\n",
      "nowosądecki\n",
      "sandomierski\n",
      "lidzbarski\n",
      "krośnieński\n",
      "ostrowiecki\n",
      "Powiat skarżyski\n",
      "łęczyński\n",
      "lęborski\n",
      "Tarnobrzeg\n",
      "olsztyński\n",
      "piotrkowski\n",
      "słupski\n",
      "radomski\n",
      "Podlaskie\n",
      "starachowicki\n",
      "Świętochłowice\n",
      "Ostrołęka\n",
      "Powiat bytowski\n",
      "przemyski\n",
      "śremski\n",
      "nowomiejski\n",
      "ostrołęcki\n",
      "toruński\n",
      "białogardzki\n",
      "Wałbrzych Powiat Grodzki\n",
      "nidzicki\n",
      "Zamość\n",
      "Powiat człuchowski\n",
      "Powiat dzierżoniowski\n",
      "niżański\n",
      "Powiat mławski\n",
      "siedlecki\n",
      "włocławski\n",
      "grajewski\n",
      "polkowicki\n",
      "Powiat wodzisławski\n",
      "częstochowski\n",
      "wschowski\n"
     ]
    }
   ],
   "source": [
    "\n",
    "for div in place_list:\n",
    "   print(div.text)"
   ]
  },
  {
   "cell_type": "code",
   "execution_count": 120,
   "id": "fde6323b-b2f4-4932-9112-359abefd96cb",
   "metadata": {},
   "outputs": [],
   "source": [
    "import requests\n",
    "import os\n",
    "headers = {'User-Agent': 'Mozilla/5.0 (Macintosh; Intel Mac OS X 10_10_1) AppleWebKit/537.36 (KHTML, like Gecko) Chrome/39.0.2171.95 Safari/537.36'}\n",
    "url = r\"https://www.electromaps.com/en/charging-stations/poland\"\n"
   ]
  },
  {
   "cell_type": "code",
   "execution_count": 138,
   "id": "5cfe070f-34d7-4cd0-9a98-026d143a5516",
   "metadata": {},
   "outputs": [],
   "source": [
    "from unidecode import unidecode\n",
    "url_fin = url+'/'+unidecode(\"Powiat oświęcimski\").replace(\" \",\"-\")"
   ]
  },
  {
   "cell_type": "code",
   "execution_count": 127,
   "id": "b449aea0-f085-4f40-bd03-1c01869c290e",
   "metadata": {},
   "outputs": [],
   "source": [
    "response = requests.get(url_fin,headers=headers)"
   ]
  },
  {
   "cell_type": "code",
   "execution_count": 128,
   "id": "a0aa299b-d76e-409e-942d-69ce5f37451a",
   "metadata": {},
   "outputs": [
    {
     "data": {
      "text/plain": [
       "<Response [200]>"
      ]
     },
     "execution_count": 128,
     "metadata": {},
     "output_type": "execute_result"
    }
   ],
   "source": []
  },
  {
   "cell_type": "code",
   "execution_count": 129,
   "id": "5c5b8faf-c92a-4269-b0f5-403530dad05c",
   "metadata": {},
   "outputs": [],
   "source": [
    "soup = BeautifulSoup(response.content, 'html.parser')\n",
    "place_list = soup.find_all('div', class_='chargepoints-stations-title')"
   ]
  },
  {
   "cell_type": "code",
   "execution_count": 130,
   "id": "7b3ac9db-92e6-4a50-8964-3a20f8b433ef",
   "metadata": {},
   "outputs": [
    {
     "data": {
      "text/plain": [
       "[<div class=\"chargepoints-stations-title\"><h3 class=\"xs\">Oświęcim</h3></div>,\n",
       " <div class=\"chargepoints-stations-title\"><h3 class=\"xs\">Zator</h3></div>,\n",
       " <div class=\"chargepoints-stations-title\"><h3 class=\"xs\">Kęty</h3></div>]"
      ]
     },
     "execution_count": 130,
     "metadata": {},
     "output_type": "execute_result"
    }
   ],
   "source": [
    "place_list"
   ]
  },
  {
   "cell_type": "code",
   "execution_count": 139,
   "id": "b038d82c-b866-48ee-8486-b6b16efbf37c",
   "metadata": {},
   "outputs": [],
   "source": [
    "url_fin = url_fin+'/'+unidecode(\"Kęty\").replace(\" \",\"-\")"
   ]
  },
  {
   "cell_type": "code",
   "execution_count": 140,
   "id": "edf20891-5e6f-4e9e-bff7-dc3aec4c2ab9",
   "metadata": {},
   "outputs": [],
   "source": [
    "response = requests.get(url_fin,headers=headers)"
   ]
  },
  {
   "cell_type": "code",
   "execution_count": 143,
   "id": "9bac10d3-254a-4a4f-9e57-23ea887286ba",
   "metadata": {},
   "outputs": [],
   "source": [
    "soup = BeautifulSoup(response.content, 'html.parser')\n",
    "place_list = soup.find_all('div', class_='charging-point-type')"
   ]
  },
  {
   "cell_type": "code",
   "execution_count": 151,
   "id": "4de206cf-af2d-45bc-b4b4-38af10de777c",
   "metadata": {},
   "outputs": [
    {
     "data": {
      "text/plain": [
       "'x2'"
      ]
     },
     "execution_count": 151,
     "metadata": {},
     "output_type": "execute_result"
    }
   ],
   "source": [
    "place_list[0].get(\"title\")\n",
    "place_list[0].text"
   ]
  },
  {
   "cell_type": "code",
   "execution_count": 145,
   "id": "63f4f4c8-8951-4488-9ad7-33c44f6a59e6",
   "metadata": {},
   "outputs": [
    {
     "data": {
      "text/plain": [
       "'https://www.electromaps.com/en/charging-stations/poland/Powiat-oswiecimski/Kety'"
      ]
     },
     "execution_count": 145,
     "metadata": {},
     "output_type": "execute_result"
    }
   ],
   "source": [
    "url_fin"
   ]
  },
  {
   "cell_type": "code",
   "execution_count": 272,
   "id": "d1d9b029-d857-460f-b970-b2a369576df3",
   "metadata": {},
   "outputs": [],
   "source": [
    "import requests\n",
    "import os\n",
    "from bs4 import BeautifulSoup\n",
    "\n",
    "headers = {'User-Agent': 'Mozilla/5.0 (Macintosh; Intel Mac OS X 10_10_1) AppleWebKit/537.36 (KHTML, like Gecko) Chrome/39.0.2171.95 Safari/537.36'}\n",
    "\n",
    "url_cntry = \"https://www.electromaps.com/en/charging-stations/slovakia\"\n",
    "response = requests.get(url_cntry,headers=headers)\n",
    "\n"
   ]
  },
  {
   "cell_type": "code",
   "execution_count": 273,
   "id": "8c59e1b9-5456-4ae9-b91c-765c07212643",
   "metadata": {},
   "outputs": [],
   "source": [
    "url_base = \"https://www.electromaps.com/\""
   ]
  },
  {
   "cell_type": "code",
   "execution_count": 274,
   "id": "d184a66f-4bb4-4b76-9015-5884ab83e57b",
   "metadata": {},
   "outputs": [],
   "source": [
    "soup = BeautifulSoup(response.content, 'html.parser')\n",
    "link_nest_group = soup.find_all('div', class_=\"chargepoints-stations-container\")\n"
   ]
  },
  {
   "cell_type": "code",
   "execution_count": 275,
   "id": "9161a9e4-ea63-43e9-b3d6-a0de1b7b2f3b",
   "metadata": {},
   "outputs": [],
   "source": [
    "links_nets_list = []\n",
    "for link in  link_nest_group[0].find_all('a'):\n",
    "    links_nets_list.append(link.get('href'))\n",
    "    "
   ]
  },
  {
   "cell_type": "code",
   "execution_count": null,
   "id": "9ff77ecc-2153-42a9-a808-d6a17b030a06",
   "metadata": {},
   "outputs": [],
   "source": []
  },
  {
   "cell_type": "code",
   "execution_count": 277,
   "id": "02a30f59-8b7b-4736-8e1c-c56b4d9eed80",
   "metadata": {},
   "outputs": [],
   "source": [
    "import time\n",
    "df_ct = pd.DataFrame([],columns=['Name','Adres','Type','Region','City'])\n",
    "for link_net in links_nets_list:\n",
    "    region = link_net.split(\"/\")[-1]\n",
    "    url_city = url_base+\"/\"+link_net\n",
    "    response_city = requests.get(url_city,headers=headers)\n",
    "    soup_city = BeautifulSoup(response_city.content, 'html.parser')\n",
    "    link_city = soup_city.find_all('div', class_=\"chargepoints-stations-container\")\n",
    "    place_link = []\n",
    "    for link in  link_city[0].find_all('a'):\n",
    "        link.find('div', class_=\"chargepoints-stations-container\")\n",
    "        place_link.append([link.get('href'),int(link.find('div', class_=\"chargepoints-stations-text\").span.text)])\n",
    "    df_region = pd.DataFrame([],columns=['Name','Adres','Type'])\n",
    "    for city_link,nr_stat in place_link:\n",
    "        city = city_link.split(\"/\")[-1]\n",
    "        dict_city = {'Name':[],'Adres':[],'Type':[]}\n",
    "        for x in range(math.ceil(nr_stat/20)):\n",
    "            url_stat = url_base+\"/\"+f'{city_link}?page={x}'\n",
    "            response_stat = requests.get(url_stat,headers=headers)\n",
    "            soup_stat = BeautifulSoup(response_stat.content, 'html.parser')\n",
    "            stat_list = soup_stat.find_all('div', class_=\"chargepoints-stations-container\")\n",
    "            if stat_list:\n",
    "                for station in stat_list[0].find_all(\"a\"):\n",
    "                    dict_city['Name'].append(station.find('div', class_=\"chargepoints-stations-title\").text)\n",
    "                    dict_city['Adres'].append(station.find('div', class_=\"chargepoints-stations-text\").text)\n",
    "                    if station.find('div', class_=\"chargepoints-stations-types\").text!=\"\":\n",
    "                        stations_typ = []\n",
    "                        for type in station.find_all('div', class_=\"charging-point-type\"):\n",
    "                            stations_typ.append(type.get(\"title\")+type.text)\n",
    "                        dict_city['Type'].append(\"|\".join(stations_typ))\n",
    "                    else:\n",
    "                        dict_city['Type'].append(\"Brak\")\n",
    "            time.sleep(2)\n",
    "        df_city = pd.DataFrame(dict_city)\n",
    "        df_city['City'] = city\n",
    "        df_region = pd.concat([df_region,df_city],ignore_index=True)\n",
    "    df_region['Region'] = region\n",
    "    #df_ct.to_excel(f\"Ekstrakt_{region}.xlsx\",sheet_name=\"sheet1\")\n",
    "    df_ct = pd.concat([df_ct,df_region],ignore_index=True)"
   ]
  },
  {
   "cell_type": "code",
   "execution_count": 279,
   "id": "bf3be89e-1c7b-4437-b6ac-205b51eef34b",
   "metadata": {},
   "outputs": [],
   "source": [
    "df_ct.to_excel(\"Ekstrakt_slovakia.xlsx\",sheet_name=\"data\")"
   ]
  },
  {
   "cell_type": "code",
   "execution_count": 186,
   "id": "5c261188-2c64-4982-bcd7-62b0ed34b47a",
   "metadata": {},
   "outputs": [],
   "source": [
    "response_city = requests.get(url_city,headers=headers)\n",
    "soup_city = BeautifulSoup(response_city.content, 'html.parser')\n",
    "link_city = soup_city.find_all('div', class_=\"chargepoints-stations-container\")"
   ]
  },
  {
   "cell_type": "code",
   "execution_count": 194,
   "id": "bdb41ad2-dd12-4b52-89d3-f3e62ea57497",
   "metadata": {},
   "outputs": [
    {
     "data": {
      "text/plain": [
       "[['/en/charging-stations/poland/warszawa/warszawa', 202],\n",
       " ['/en/charging-stations/poland/warszawa/rrrtt', 1]]"
      ]
     },
     "execution_count": 194,
     "metadata": {},
     "output_type": "execute_result"
    }
   ],
   "source": [
    "place_link = []\n",
    "for link in  link_city[0].find_all('a'):\n",
    "    link.find('div', class_=\"chargepoints-stations-container\")\n",
    "    place_link.append([link.get('href'),int(link.find('div', class_=\"chargepoints-stations-text\").span.text)])\n",
    "place_link"
   ]
  },
  {
   "cell_type": "code",
   "execution_count": 251,
   "id": "becb3873-5233-479b-a24d-5f0d66591666",
   "metadata": {},
   "outputs": [
    {
     "name": "stdout",
     "output_type": "stream",
     "text": [
      "Eleport UD Targówek 1, Warszawa-1A\n",
      "św. Wincentego 03-505\n",
      "TYPE 2x26|CCS2x2|CHAdeMOx2\n",
      "Arkadia Warszawa\n",
      "22 Błońska 00-001\n",
      "TYPE 2x18\n",
      "Eleport UD Ursynów 3, Warszawa-3A\n",
      "59 Indiry Gandhi 02-776\n",
      "TYPE 2x10|CCS2x2|CHAdeMOx2\n",
      "Eleport Książąt Mazowieckich 2, Warszawa-2A\n",
      "4 Książąt Mazowieckich 01-990\n",
      "TYPE 2x12\n",
      "Eleport Braci Wagów 1, Warszawa-1A\n",
      "Braci Wagów 02-791\n",
      "TYPE 2x12\n",
      "Koneser 03-3A\n",
      "8 Plac Konesera 03-736\n",
      "TYPE 2x12\n",
      "EVPlus/aYnkeKo7eG\n",
      "71 Chmielna 00-801\n",
      "TYPE 2x12\n",
      "Galeria Młociny Warszawa\n",
      "17 Zgrupowania AK \"Kampinos\" 05-075\n",
      "TYPE 2x8|CHAdeMOx2|CCS2x2\n",
      "EVPlus/qznBqwqjoK\n",
      "14 Burakowska 01-066\n",
      "TYPE 2x10\n",
      "AMBRA S.A. #1-1\n",
      "336 Puławska 02-819\n",
      "TYPE 2x10\n",
      "Galeria Mokotów Warszawa\n",
      "88 Rodziny Hiszpańskich 02-685\n",
      "TYPE 2x10\n",
      "EVPlus/kKjYWX2E03\n",
      "33 Przyokopowa 01-208\n",
      "TYPE 2x6|CCS2x3\n",
      "Eleport Akademia Leona Koźmińskiego, Warszawa-1A\n",
      "Droga bez nazwy 03\n",
      "CCS2x6|CHAdeMOx2\n",
      "EVPlus/VKEzaK9nNO\n",
      "126 Aleje Jerozolimskie 02-017\n",
      "TYPE 2x8\n",
      "Eleport UD Wawer 1, Warszawa-1A\n",
      "3 Żegańska 04-713\n",
      "TYPE 2x8\n",
      "Eleport Wergiliusza 1, Warszawa-1A\n",
      "31 Wergiliusza 01-859\n",
      "TYPE 2x8\n",
      "Hub  Postępu 14, Warszawa\n",
      "51 Postępu 02-676\n",
      "CCS2x5|CHAdeMOx1\n",
      "Decathlon Poland Targówek (main office)\n",
      "76w Geodezyjna 03-290\n",
      "CCS2x5|CHAdeMOx1\n",
      "Centrum Łopuszańska 22-1A\n",
      "24c Łopuszańska 02-220\n",
      "TYPE 2x6\n",
      "P+R Jeziorki PKP/Stacja nr 1-1\n",
      "144b Karczunkowska 02-871\n",
      "TYPE 2x6\n",
      "Globalworth Spektrum 01-1A\n",
      "2 Hhhh Kkkkkk 02-555\n",
      "TYPE 2x4\n"
     ]
    }
   ],
   "source": [
    "for city_link,nr_stat in place_link:\n",
    "    city = city_link.split(\"/\")[-1]\n",
    "    for x in [0]:#range(math.ceil(nr_stat/20)):\n",
    "        url_stat = url_base+\"/\"+f'{city_link}?page={x}'\n",
    "        response_stat = requests.get(url_stat,headers=headers)\n",
    "        soup_stat = BeautifulSoup(response_stat.content, 'html.parser')\n",
    "        stat_list = soup_stat.find_all('div', class_=\"chargepoints-stations-container\")\n",
    "        if stat_list:\n",
    "            for station in stat_list[0].find_all(\"a\"):\n",
    "                print( station.find('div', class_=\"chargepoints-stations-title\").text)\n",
    "                print( station.find('div', class_=\"chargepoints-stations-text\").text)\n",
    "                if station.find('div', class_=\"chargepoints-stations-types\").text!=\"\":\n",
    "                    stations_typ = []\n",
    "                    for type in station.find_all('div', class_=\"charging-point-type\"):\n",
    "                        stations_typ.append(type.get(\"title\")+type.text)\n",
    "                    print(\"|\".join(stations_typ))"
   ]
  },
  {
   "cell_type": "code",
   "execution_count": 243,
   "id": "e6b5957d-3b29-41f2-b638-627d1eb2055d",
   "metadata": {},
   "outputs": [],
   "source": [
    "url_stat = url_base+\"/\"+'/en/charging-stations/poland/warszawa/warszawa?page=5'"
   ]
  },
  {
   "cell_type": "code",
   "execution_count": 244,
   "id": "8fb5877c-944a-47cc-976d-1bccfa44bd29",
   "metadata": {},
   "outputs": [],
   "source": [
    "response_stat = requests.get(url_stat,headers=headers)\n",
    "soup_stat = BeautifulSoup(response_stat.content, 'html.parser')\n",
    "stat_list = soup_stat.find_all('div', class_=\"chargepoints-stations-container\")"
   ]
  },
  {
   "cell_type": "code",
   "execution_count": 245,
   "id": "09c0c45c-d7b2-4f3a-af9c-888a9633995b",
   "metadata": {},
   "outputs": [
    {
     "name": "stdout",
     "output_type": "stream",
     "text": [
      "Threeforce B.V. (CPO) ZTM P+R WAWER, ul. Widoczna 2A\n",
      "71 Widoczna 04-647\n",
      "TYPE 2\n",
      "x2\n",
      "NOXO. HOMEPARK Targówek-1\n",
      "45 Malborska 03-286\n",
      "TYPE 2\n",
      "x2\n",
      "GTC Aeropark-1B\n",
      "45B Komitetu Obrony Robotników 02-146\n",
      "TYPE 2\n",
      "x2\n",
      "Okęcie Park Warszawa\n",
      "Droga bez nazwy 01-001\n",
      "TYPE 2\n",
      "x2\n",
      "Kaufland Bemowo Warszawa\n",
      "73 Batalionów Chłopskich 01-374\n",
      "CHAdeMO\n",
      "x1\n",
      "TYPE 2\n",
      "x1\n",
      "Elomoto Deski-1\n",
      "8-10 Generała Mariusza Zaruskiego 00-468\n",
      "TYPE 2\n",
      "x2\n",
      "P+R Żerań-1\n",
      "2 Miętowa 03-042\n",
      "TYPE 2\n",
      "x2\n",
      "Porsche Połczyńska 118A Salon Volkswagen AC-1A\n",
      "118A Połczyńska 01-304\n",
      "CCS2\n",
      "x1\n",
      "TYPE 2\n",
      "x1\n",
      "SGH Parking wewnętrzny-1A\n",
      "Droga bez nazwy 02-521\n",
      "TYPE 2\n",
      "x2\n",
      "SGH Parking G-2A\n",
      "162 Aleja Niepodległości 02-521\n",
      "TYPE 2\n",
      "x2\n",
      "WS2-AC-Post-02-A\n",
      "142b Aleje Jerozolimskie 02-305\n",
      "TYPE 2\n",
      "x2\n",
      "Globalworth WTT-1A\n",
      "62 Chłodna 00-872\n",
      "TYPE 2\n",
      "x2\n",
      "Crown Square 1A-1A\n",
      "31 Przyokopowa 01-208\n",
      "TYPE 2\n",
      "x2\n",
      "P+R M. Młociny III/Stacja nr 1-1\n",
      "119 Jana Kasprowicza 01-949\n",
      "TYPE 2\n",
      "x2\n",
      "undefined\n",
      "108 Mrówcza 04-697\n",
      "TYPE 2\n",
      "x2\n",
      "undefined\n",
      "17 Zwierzyniecka 00-719\n",
      "TYPE 2\n",
      "x2\n",
      "GCZ Wilanów Ogólnodostępna\n",
      "24 rondo Jawaharlara Nehru 02-968\n",
      "TYPE 2\n",
      "x1\n",
      "CCS2\n",
      "x1\n",
      "AUTO BLAK\n",
      "25A Farbiarska 02-867\n",
      "TYPE 2\n",
      "x1\n",
      "CCS2\n",
      "x1\n",
      "EVPlus/kKjYe0kj03\n",
      "16b Iłżecka 02-135\n",
      "TYPE 2\n",
      "x2\n",
      "EVPlus/KMj6pZ0EzN\n",
      "18 Żwirki i Wigury 02-143\n",
      "TYPE 2\n",
      "x2\n"
     ]
    }
   ],
   "source": [
    "if stat_list:\n",
    "    for station in stat_list[0].find_all(\"a\"):\n",
    "        print( station.find('div', class_=\"chargepoints-stations-title\").text)\n",
    "        print( station.find('div', class_=\"chargepoints-stations-text\").text)\n",
    "        if station.find('div', class_=\"chargepoints-stations-types\").text!=\"\":\n",
    "            for type in station.find_all('div', class_=\"charging-point-type\"):\n",
    "                print(type.get(\"title\"))\n",
    "                print(type.text)"
   ]
  },
  {
   "cell_type": "code",
   "execution_count": 232,
   "id": "03b8bdd8-e443-4f04-9bfb-99cf3c7a876e",
   "metadata": {},
   "outputs": [
    {
     "data": {
      "text/plain": [
       "<div class=\"charging-point-type\" title=\"TYPE 2\"><div class=\"char-type-1-icon connector-5\"></div><div class=\"char-type-1-num\"><div class=\"char-x-text\">x</div><div class=\"body-s bold\">26</div></div></div>"
      ]
     },
     "execution_count": 232,
     "metadata": {},
     "output_type": "execute_result"
    }
   ],
   "source": [
    "type"
   ]
  },
  {
   "cell_type": "code",
   "execution_count": null,
   "id": "4652c129-8bd8-4935-b619-99069cc5551e",
   "metadata": {},
   "outputs": [],
   "source": [
    "soup_stat.find_all('div', class_=\"chargepoints-stations-container\")"
   ]
  },
  {
   "cell_type": "code",
   "execution_count": 217,
   "id": "88457747-6edf-453f-8c46-667ffd9b3602",
   "metadata": {},
   "outputs": [
    {
     "name": "stdout",
     "output_type": "stream",
     "text": [
      "0\n",
      "1\n",
      "2\n",
      "3\n",
      "4\n",
      "5\n",
      "6\n",
      "7\n",
      "8\n",
      "9\n",
      "10\n"
     ]
    }
   ],
   "source": [
    "import math\n",
    "for x in range(math.ceil(201/20)):\n",
    "    print(x)"
   ]
  },
  {
   "cell_type": "code",
   "execution_count": null,
   "id": "0f7a770a-fc63-4994-b485-7b54cdd39cb3",
   "metadata": {},
   "outputs": [],
   "source": [
    "0-20\n",
    "1-40\n",
    "2-60\n",
    "3-80\n",
    "4-100\n",
    "5-120\n",
    "6-140\n",
    "7-160\n",
    "8-180\n",
    "9-200\n",
    "10-202"
   ]
  },
  {
   "cell_type": "code",
   "execution_count": 225,
   "id": "bc865775-31d3-4a9a-b23e-7f952d0091f3",
   "metadata": {},
   "outputs": [],
   "source": [
    "text='<div class=\"chargepoints-stations-container\" id=\"stations\"><a href=\"/en/charging-stations/poland/warszawa/warszawa/eleport-ud-targowek-1-warszawa-1a-sw-wincentego\" class=\"chargepoints-stations-item w-inline-block show\"><div class=\"chargepoints-stations-visual-container\"><div class=\"chargepoints-stations-visual\"><div class=\"chargepoints-stations-visual-inner\"><div class=\"chargepoints-stations-visual-icon location-1\"></div><div class=\"chargepoints-stations-visual-text\"><div class=\"body-m\">Street level</div></div></div></div></div><div class=\"chargepoints-stations-title\"><h3 class=\"xs\">Eleport UD Targówek 1, Warszawa-1A</h3></div><div class=\"chargepoints-stations-text\"><div class=\"body-m\">św. Wincentego 03-505</div></div><div class=\"chargepoints-stations-types\"><div class=\"charging-point-type\" title=\"TYPE 2\"><div class=\"char-type-1-icon connector-5\"></div><div class=\"char-type-1-num\"><div class=\"char-x-text\">x</div><div class=\"body-s bold\">26</div></div></div><div class=\"charging-point-type\" title=\"CCS2\"><div class=\"char-type-1-icon connector-31\"></div><div class=\"char-type-1-num\"><div class=\"char-x-text\">x</div><div class=\"body-s bold\">2</div></div></div><div class=\"charging-point-type\" title=\"CHAdeMO\"><div class=\"char-type-1-icon connector-4\"></div><div class=\"char-type-1-num\"><div class=\"char-x-text\">x</div><div class=\"body-s bold\">2</div></div></div></div></a><a href=\"/en/charging-stations/poland/warszawa/warszawa/arkadia-warszawa-bonska\" class=\"chargepoints-stations-item w-inline-block show\"><div class=\"chargepoints-stations-visual-container\"><div class=\"chargepoints-stations-visual\"><div class=\"chargepoints-stations-visual-inner\"><div class=\"chargepoints-stations-visual-icon location-1\"></div><div class=\"chargepoints-stations-visual-text\"><div class=\"body-m\">Street level</div></div></div></div></div><div class=\"chargepoints-stations-title\"><h3 class=\"xs\">Arkadia Warszawa</h3></div><div class=\"chargepoints-stations-text\"><div class=\"body-m\">22 Błońska 00-001</div></div><div class=\"chargepoints-stations-types\"><div class=\"charging-point-type\" title=\"TYPE 2\"><div class=\"char-type-1-icon connector-5\"></div><div class=\"char-type-1-num\"><div class=\"char-x-text\">x</div><div class=\"body-s bold\">18</div></div></div></div></a><a href=\"/en/charging-stations/poland/warszawa/warszawa/eleport-ud-ursynow-3-warszawa-3a-indiry-gandhi\" class=\"chargepoints-stations-item w-inline-block show\"><div class=\"chargepoints-stations-visual-container\"><div class=\"chargepoints-stations-visual\"><div class=\"chargepoints-stations-visual-inner\"><div class=\"chargepoints-stations-visual-icon location-1\"></div><div class=\"chargepoints-stations-visual-text\"><div class=\"body-m\">Street level</div></div></div></div></div><div class=\"chargepoints-stations-title\"><h3 class=\"xs\">Eleport UD Ursynów 3, Warszawa-3A</h3></div><div class=\"chargepoints-stations-text\"><div class=\"body-m\">59 Indiry Gandhi 02-776</div></div><div class=\"chargepoints-stations-types\"><div class=\"charging-point-type\" title=\"TYPE 2\"><div class=\"char-type-1-icon connector-5\"></div><div class=\"char-type-1-num\"><div class=\"char-x-text\">x</div><div class=\"body-s bold\">10</div></div></div><div class=\"charging-point-type\" title=\"CCS2\"><div class=\"char-type-1-icon connector-31\"></div><div class=\"char-type-1-num\"><div class=\"char-x-text\">x</div><div class=\"body-s bold\">2</div></div></div><div class=\"charging-point-type\" title=\"CHAdeMO\"><div class=\"char-type-1-icon connector-4\"></div><div class=\"char-type-1-num\"><div class=\"char-x-text\">x</div><div class=\"body-s bold\">2</div></div></div></div></a><a href=\"/en/charging-stations/poland/warszawa/warszawa/eleport-ksiazat-mazowieckich-2-warszawa-2a-ksiazat-mazowieckich\" class=\"chargepoints-stations-item w-inline-block show\"><div class=\"chargepoints-stations-visual-container\"><div class=\"chargepoints-stations-visual\"><div class=\"chargepoints-stations-visual-inner\"><div class=\"chargepoints-stations-visual-icon location-1\"></div><div class=\"chargepoints-stations-visual-text\"><div class=\"body-m\">Street level</div></div></div></div></div><div class=\"chargepoints-stations-title\"><h3 class=\"xs\">Eleport Książąt Mazowieckich 2, Warszawa-2A</h3></div><div class=\"chargepoints-stations-text\"><div class=\"body-m\">4 Książąt Mazowieckich 01-990</div></div><div class=\"chargepoints-stations-types\"><div class=\"charging-point-type\" title=\"TYPE 2\"><div class=\"char-type-1-icon connector-5\"></div><div class=\"char-type-1-num\"><div class=\"char-x-text\">x</div><div class=\"body-s bold\">12</div></div></div></div></a><a href=\"/en/charging-stations/poland/warszawa/warszawa/eleport-braci-wagow-1-warszawa-1a-braci-wagow\" class=\"chargepoints-stations-item w-inline-block show\"><div class=\"chargepoints-stations-visual-container\"><div class=\"chargepoints-stations-visual\"><div class=\"chargepoints-stations-visual-inner\"><div class=\"chargepoints-stations-visual-icon location-1\"></div><div class=\"chargepoints-stations-visual-text\"><div class=\"body-m\">Street level</div></div></div></div></div><div class=\"chargepoints-stations-title\"><h3 class=\"xs\">Eleport Braci Wagów 1, Warszawa-1A</h3></div><div class=\"chargepoints-stations-text\"><div class=\"body-m\">Braci Wagów 02-791</div></div><div class=\"chargepoints-stations-types\"><div class=\"charging-point-type\" title=\"TYPE 2\"><div class=\"char-type-1-icon connector-5\"></div><div class=\"char-type-1-num\"><div class=\"char-x-text\">x</div><div class=\"body-s bold\">12</div></div></div></div></a><a href=\"/en/charging-stations/poland/warszawa/warszawa/koneser-03-3a-plac-konesera\" class=\"chargepoints-stations-item w-inline-block show\"><div class=\"chargepoints-stations-visual-container\"><div class=\"chargepoints-stations-visual\"><div class=\"chargepoints-stations-visual-inner\"><div class=\"chargepoints-stations-visual-icon location-1\"></div><div class=\"chargepoints-stations-visual-text\"><div class=\"body-m\">Street level</div></div></div></div></div><div class=\"chargepoints-stations-title\"><h3 class=\"xs\">Koneser 03-3A</h3></div><div class=\"chargepoints-stations-text\"><div class=\"body-m\">8 Plac Konesera 03-736</div></div><div class=\"chargepoints-stations-types\"><div class=\"charging-point-type\" title=\"TYPE 2\"><div class=\"char-type-1-icon connector-5\"></div><div class=\"char-type-1-num\"><div class=\"char-x-text\">x</div><div class=\"body-s bold\">12</div></div></div></div></a><a href=\"/en/charging-stations/poland/warszawa/warszawa/evplusaynkeko7eg-chmielna\" class=\"chargepoints-stations-item w-inline-block show\"><div class=\"chargepoints-stations-visual-container\"><div class=\"chargepoints-stations-visual\"><div class=\"chargepoints-stations-visual-inner\"><div class=\"chargepoints-stations-visual-icon location-1\"></div><div class=\"chargepoints-stations-visual-text\"><div class=\"body-m\">Street level</div></div></div></div></div><div class=\"chargepoints-stations-title\"><h3 class=\"xs\">EVPlus/aYnkeKo7eG</h3></div><div class=\"chargepoints-stations-text\"><div class=\"body-m\">71 Chmielna 00-801</div></div><div class=\"chargepoints-stations-types\"><div class=\"charging-point-type\" title=\"TYPE 2\"><div class=\"char-type-1-icon connector-5\"></div><div class=\"char-type-1-num\"><div class=\"char-x-text\">x</div><div class=\"body-s bold\">12</div></div></div></div></a><a href=\"/en/charging-stations/poland/warszawa/warszawa/galeria-mociny-warszawa-zgrupowania-ak-kampinos\" class=\"chargepoints-stations-item w-inline-block show\"><div class=\"chargepoints-stations-visual-container\"><div class=\"chargepoints-stations-visual\"><div class=\"chargepoints-stations-visual-inner\"><div class=\"chargepoints-stations-visual-icon location-1\"></div><div class=\"chargepoints-stations-visual-text\"><div class=\"body-m\">Street level</div></div></div></div></div><div class=\"chargepoints-stations-title\"><h3 class=\"xs\">Galeria Młociny Warszawa</h3></div><div class=\"chargepoints-stations-text\"><div class=\"body-m\">17 Zgrupowania AK \"Kampinos\" 05-075</div></div><div class=\"chargepoints-stations-types\"><div class=\"charging-point-type\" title=\"TYPE 2\"><div class=\"char-type-1-icon connector-5\"></div><div class=\"char-type-1-num\"><div class=\"char-x-text\">x</div><div class=\"body-s bold\">8</div></div></div><div class=\"charging-point-type\" title=\"CHAdeMO\"><div class=\"char-type-1-icon connector-4\"></div><div class=\"char-type-1-num\"><div class=\"char-x-text\">x</div><div class=\"body-s bold\">2</div></div></div><div class=\"charging-point-type\" title=\"CCS2\"><div class=\"char-type-1-icon connector-31\"></div><div class=\"char-type-1-num\"><div class=\"char-x-text\">x</div><div class=\"body-s bold\">2</div></div></div></div></a><a href=\"/en/charging-stations/poland/warszawa/warszawa/evplusqznbqwqjok-burakowska\" class=\"chargepoints-stations-item w-inline-block show\"><div class=\"chargepoints-stations-visual-container\"><div class=\"chargepoints-stations-visual\"><div class=\"chargepoints-stations-visual-inner\"><div class=\"chargepoints-stations-visual-icon location-1\"></div><div class=\"chargepoints-stations-visual-text\"><div class=\"body-m\">Street level</div></div></div></div></div><div class=\"chargepoints-stations-title\"><h3 class=\"xs\">EVPlus/qznBqwqjoK</h3></div><div class=\"chargepoints-stations-text\"><div class=\"body-m\">14 Burakowska 01-066</div></div><div class=\"chargepoints-stations-types\"><div class=\"charging-point-type\" title=\"TYPE 2\"><div class=\"char-type-1-icon connector-5\"></div><div class=\"char-type-1-num\"><div class=\"char-x-text\">x</div><div class=\"body-s bold\">10</div></div></div></div></a><a href=\"/en/charging-stations/poland/warszawa/warszawa/ambra-sa-1-1-puawska\" class=\"chargepoints-stations-item w-inline-block show\"><div class=\"chargepoints-stations-visual-container\"><div class=\"chargepoints-stations-visual\"><div class=\"chargepoints-stations-visual-inner\"><div class=\"chargepoints-stations-visual-icon location-1\"></div><div class=\"chargepoints-stations-visual-text\"><div class=\"body-m\">Street level</div></div></div></div></div><div class=\"chargepoints-stations-title\"><h3 class=\"xs\">AMBRA S.A. #1-1</h3></div><div class=\"chargepoints-stations-text\"><div class=\"body-m\">336 Puławska 02-819</div></div><div class=\"chargepoints-stations-types\"><div class=\"charging-point-type\" title=\"TYPE 2\"><div class=\"char-type-1-icon connector-5\"></div><div class=\"char-type-1-num\"><div class=\"char-x-text\">x</div><div class=\"body-s bold\">10</div></div></div></div></a><a href=\"/en/charging-stations/poland/warszawa/warszawa/galeria-mokotow-warszawa-rodziny-hiszpanskich\" class=\"chargepoints-stations-item w-inline-block show\"><div class=\"chargepoints-stations-visual-container\"><div class=\"chargepoints-stations-visual\"><div class=\"chargepoints-stations-visual-inner\"><div class=\"chargepoints-stations-visual-icon location-1\"></div><div class=\"chargepoints-stations-visual-text\"><div class=\"body-m\">Street level</div></div></div></div></div><div class=\"chargepoints-stations-title\"><h3 class=\"xs\">Galeria Mokotów Warszawa</h3></div><div class=\"chargepoints-stations-text\"><div class=\"body-m\">88 Rodziny Hiszpańskich 02-685</div></div><div class=\"chargepoints-stations-types\"><div class=\"charging-point-type\" title=\"TYPE 2\"><div class=\"char-type-1-icon connector-5\"></div><div class=\"char-type-1-num\"><div class=\"char-x-text\">x</div><div class=\"body-s bold\">10</div></div></div></div></a><a href=\"/en/charging-stations/poland/warszawa/warszawa/evpluskkjywx2e03-przyokopowa\" class=\"chargepoints-stations-item w-inline-block show\"><div class=\"chargepoints-stations-visual-container\"><div class=\"chargepoints-stations-visual\"><div class=\"chargepoints-stations-visual-inner\"><div class=\"chargepoints-stations-visual-icon location-1\"></div><div class=\"chargepoints-stations-visual-text\"><div class=\"body-m\">Street level</div></div></div></div></div><div class=\"chargepoints-stations-title\"><h3 class=\"xs\">EVPlus/kKjYWX2E03</h3></div><div class=\"chargepoints-stations-text\"><div class=\"body-m\">33 Przyokopowa 01-208</div></div><div class=\"chargepoints-stations-types\"><div class=\"charging-point-type\" title=\"TYPE 2\"><div class=\"char-type-1-icon connector-5\"></div><div class=\"char-type-1-num\"><div class=\"char-x-text\">x</div><div class=\"body-s bold\">6</div></div></div><div class=\"charging-point-type\" title=\"CCS2\"><div class=\"char-type-1-icon connector-31\"></div><div class=\"char-type-1-num\"><div class=\"char-x-text\">x</div><div class=\"body-s bold\">3</div></div></div></div></a><a href=\"/en/charging-stations/poland/warszawa/warszawa/eleport-akademia-leona-kozminskiego-warszawa-1a-droga-bez-nazwy\" class=\"chargepoints-stations-item w-inline-block show\"><div class=\"chargepoints-stations-visual-container\"><div class=\"chargepoints-stations-visual\"><div class=\"chargepoints-stations-visual-inner\"><div class=\"chargepoints-stations-visual-icon location-1\"></div><div class=\"chargepoints-stations-visual-text\"><div class=\"body-m\">Street level</div></div></div></div></div><div class=\"chargepoints-stations-title\"><h3 class=\"xs\">Eleport Akademia Leona Koźmińskiego, Warszawa-1A</h3></div><div class=\"chargepoints-stations-text\"><div class=\"body-m\">Droga bez nazwy 03</div></div><div class=\"chargepoints-stations-types\"><div class=\"charging-point-type\" title=\"CCS2\"><div class=\"char-type-1-icon connector-31\"></div><div class=\"char-type-1-num\"><div class=\"char-x-text\">x</div><div class=\"body-s bold\">6</div></div></div><div class=\"charging-point-type\" title=\"CHAdeMO\"><div class=\"char-type-1-icon connector-4\"></div><div class=\"char-type-1-num\"><div class=\"char-x-text\">x</div><div class=\"body-s bold\">2</div></div></div></div></a><a href=\"/en/charging-stations/poland/warszawa/warszawa/evplusvkezak9nno-aleje-jerozolimskie\" class=\"chargepoints-stations-item w-inline-block show\"><div class=\"chargepoints-stations-visual-container\"><div class=\"chargepoints-stations-visual\"><div class=\"chargepoints-stations-visual-inner\"><div class=\"chargepoints-stations-visual-icon location-1\"></div><div class=\"chargepoints-stations-visual-text\"><div class=\"body-m\">Street level</div></div></div></div></div><div class=\"chargepoints-stations-title\"><h3 class=\"xs\">EVPlus/VKEzaK9nNO</h3></div><div class=\"chargepoints-stations-text\"><div class=\"body-m\">126 Aleje Jerozolimskie 02-017</div></div><div class=\"chargepoints-stations-types\"><div class=\"charging-point-type\" title=\"TYPE 2\"><div class=\"char-type-1-icon connector-5\"></div><div class=\"char-type-1-num\"><div class=\"char-x-text\">x</div><div class=\"body-s bold\">8</div></div></div></div></a><a href=\"/en/charging-stations/poland/warszawa/warszawa/eleport-ud-wawer-1-warszawa-1a-zeganska\" class=\"chargepoints-stations-item w-inline-block show\"><div class=\"chargepoints-stations-visual-container\"><div class=\"chargepoints-stations-visual\"><div class=\"chargepoints-stations-visual-inner\"><div class=\"chargepoints-stations-visual-icon location-1\"></div><div class=\"chargepoints-stations-visual-text\"><div class=\"body-m\">Street level</div></div></div></div></div><div class=\"chargepoints-stations-title\"><h3 class=\"xs\">Eleport UD Wawer 1, Warszawa-1A</h3></div><div class=\"chargepoints-stations-text\"><div class=\"body-m\">3 Żegańska 04-713</div></div><div class=\"chargepoints-stations-types\"><div class=\"charging-point-type\" title=\"TYPE 2\"><div class=\"char-type-1-icon connector-5\"></div><div class=\"char-type-1-num\"><div class=\"char-x-text\">x</div><div class=\"body-s bold\">8</div></div></div></div></a><a href=\"/en/charging-stations/poland/warszawa/warszawa/eleport-wergiliusza-1-warszawa-1a-wergiliusza\" class=\"chargepoints-stations-item w-inline-block show\"><div class=\"chargepoints-stations-visual-container\"><div class=\"chargepoints-stations-visual\"><div class=\"chargepoints-stations-visual-inner\"><div class=\"chargepoints-stations-visual-icon location-1\"></div><div class=\"chargepoints-stations-visual-text\"><div class=\"body-m\">Street level</div></div></div></div></div><div class=\"chargepoints-stations-title\"><h3 class=\"xs\">Eleport Wergiliusza 1, Warszawa-1A</h3></div><div class=\"chargepoints-stations-text\"><div class=\"body-m\">31 Wergiliusza 01-859</div></div><div class=\"chargepoints-stations-types\"><div class=\"charging-point-type\" title=\"TYPE 2\"><div class=\"char-type-1-icon connector-5\"></div><div class=\"char-type-1-num\"><div class=\"char-x-text\">x</div><div class=\"body-s bold\">8</div></div></div></div></a><a href=\"/en/charging-stations/poland/warszawa/warszawa/hub-postepu-14-warszawa-postepu\" class=\"chargepoints-stations-item w-inline-block show\"><div class=\"chargepoints-stations-visual-container\"><div class=\"chargepoints-stations-visual\"><div class=\"chargepoints-stations-visual-inner\"><div class=\"chargepoints-stations-visual-icon location-1\"></div><div class=\"chargepoints-stations-visual-text\"><div class=\"body-m\">Street level</div></div></div></div></div><div class=\"chargepoints-stations-title\"><h3 class=\"xs\">Hub  Postępu 14, Warszawa</h3></div><div class=\"chargepoints-stations-text\"><div class=\"body-m\">51 Postępu 02-676</div></div><div class=\"chargepoints-stations-types\"><div class=\"charging-point-type\" title=\"CCS2\"><div class=\"char-type-1-icon connector-31\"></div><div class=\"char-type-1-num\"><div class=\"char-x-text\">x</div><div class=\"body-s bold\">5</div></div></div><div class=\"charging-point-type\" title=\"CHAdeMO\"><div class=\"char-type-1-icon connector-4\"></div><div class=\"char-type-1-num\"><div class=\"char-x-text\">x</div><div class=\"body-s bold\">1</div></div></div></div></a><a href=\"/en/charging-stations/poland/warszawa/warszawa/decathlon-poland-targowek-main-office-geodezyjna\" class=\"chargepoints-stations-item w-inline-block show\"><div class=\"chargepoints-stations-visual-container\"><div class=\"chargepoints-stations-visual\"><div class=\"chargepoints-stations-visual-inner\"><div class=\"chargepoints-stations-visual-icon location-1\"></div><div class=\"chargepoints-stations-visual-text\"><div class=\"body-m\">Street level</div></div></div></div></div><div class=\"chargepoints-stations-title\"><h3 class=\"xs\">Decathlon Poland Targówek (main office)</h3></div><div class=\"chargepoints-stations-text\"><div class=\"body-m\">76w Geodezyjna 03-290</div></div><div class=\"chargepoints-stations-types\"><div class=\"charging-point-type\" title=\"CCS2\"><div class=\"char-type-1-icon connector-31\"></div><div class=\"char-type-1-num\"><div class=\"char-x-text\">x</div><div class=\"body-s bold\">5</div></div></div><div class=\"charging-point-type\" title=\"CHAdeMO\"><div class=\"char-type-1-icon connector-4\"></div><div class=\"char-type-1-num\"><div class=\"char-x-text\">x</div><div class=\"body-s bold\">1</div></div></div></div></a><a href=\"/en/charging-stations/poland/warszawa/warszawa/centrum-opuszanska-22-1a-opuszanska\" class=\"chargepoints-stations-item w-inline-block show\"><div class=\"chargepoints-stations-visual-container\"><div class=\"chargepoints-stations-visual\"><div class=\"chargepoints-stations-visual-inner\"><div class=\"chargepoints-stations-visual-icon location-1\"></div><div class=\"chargepoints-stations-visual-text\"><div class=\"body-m\">Street level</div></div></div></div></div><div class=\"chargepoints-stations-title\"><h3 class=\"xs\">Centrum Łopuszańska 22-1A</h3></div><div class=\"chargepoints-stations-text\"><div class=\"body-m\">24c Łopuszańska 02-220</div></div><div class=\"chargepoints-stations-types\"><div class=\"charging-point-type\" title=\"TYPE 2\"><div class=\"char-type-1-icon connector-5\"></div><div class=\"char-type-1-num\"><div class=\"char-x-text\">x</div><div class=\"body-s bold\">6</div></div></div></div></a><a href=\"/en/charging-stations/poland/warszawa/warszawa/pr-jeziorki-pkpstacja-nr-1-1-karczunkowska\" class=\"chargepoints-stations-item w-inline-block show\"><div class=\"chargepoints-stations-visual-container\"><div class=\"chargepoints-stations-visual\"><div class=\"chargepoints-stations-visual-inner\"><div class=\"chargepoints-stations-visual-icon location-1\"></div><div class=\"chargepoints-stations-visual-text\"><div class=\"body-m\">Street level</div></div></div></div></div><div class=\"chargepoints-stations-title\"><h3 class=\"xs\">P+R Jeziorki PKP/Stacja nr 1-1</h3></div><div class=\"chargepoints-stations-text\"><div class=\"body-m\">144b Karczunkowska 02-871</div></div><div class=\"chargepoints-stations-types\"><div class=\"charging-point-type\" title=\"TYPE 2\"><div class=\"char-type-1-icon connector-5\"></div><div class=\"char-type-1-num\"><div class=\"char-x-text\">x</div><div class=\"body-s bold\">6</div></div></div></div></a><a href=\"/en/charging-stations/poland/warszawa/warszawa/ztm-metro-stokosy-aleja-komisji-edukacji-narodowej\" class=\"chargepoints-stations-item w-inline-block show\"><div class=\"chargepoints-stations-visual-container\"><div class=\"chargepoints-stations-visual\"><div class=\"chargepoints-stations-visual-inner\"><div class=\"chargepoints-stations-visual-icon location-1\"></div><div class=\"chargepoints-stations-visual-text\"><div class=\"body-m\">Street level</div></div></div></div></div><div class=\"chargepoints-stations-title\"><h3 class=\"xs\">ZTM METRO STOKŁOSY</h3></div><div class=\"chargepoints-stations-text\"><div class=\"body-m\">79 Aleja Komisji Edukacji Narodowej 02-722</div></div><div class=\"chargepoints-stations-types\" data-connectors=\"true\"><div class=\"charging-point-type\" title=\"TYPE 2\"><div class=\"char-type-1-icon connector-5\"></div><div class=\"char-type-1-num\"><div class=\"char-x-text\">x</div><div class=\"body-s bold\">4</div></div></div></div></a><a href=\"/en/charging-stations/poland/warszawa/warszawa/threeforce-bv-cpo-ztm-pr-ursus-niedzwiadek-ul-orlat-lwowskich-45-orlat-lwowskich\" class=\"chargepoints-stations-item w-inline-block show\"><div class=\"chargepoints-stations-visual-container\"><div class=\"chargepoints-stations-visual\"><div class=\"chargepoints-stations-visual-inner\"><div class=\"chargepoints-stations-visual-icon location-1\"></div><div class=\"chargepoints-stations-visual-text\"><div class=\"body-m\">Street level</div></div></div></div></div><div class=\"chargepoints-stations-title\"><h3 class=\"xs\">Threeforce B.V. (CPO) ZTM P+R Ursus Niedźwiadek, ul. Orląt Lwowskich 45</h3></div><div class=\"chargepoints-stations-text\"><div class=\"body-m\">38/32 Orląt Lwowskich 02-495</div></div><div class=\"chargepoints-stations-types\" data-connectors=\"true\"><div class=\"charging-point-type\" title=\"TYPE 2\"><div class=\"char-type-1-icon connector-5\"></div><div class=\"char-type-1-num\"><div class=\"char-x-text\">x</div><div class=\"body-s bold\">4</div></div></div></div></a><a href=\"/en/charging-stations/poland/warszawa/warszawa/pr-al-krakowska-aleja-krakowska\" class=\"chargepoints-stations-item w-inline-block show\"><div class=\"chargepoints-stations-visual-container\"><div class=\"chargepoints-stations-visual\"><div class=\"chargepoints-stations-visual-inner\"><div class=\"chargepoints-stations-visual-icon location-1\"></div><div class=\"chargepoints-stations-visual-text\"><div class=\"body-m\">Street level</div></div></div></div></div><div class=\"chargepoints-stations-title\"><h3 class=\"xs\">P+R Al. Krakowska</h3></div><div class=\"chargepoints-stations-text\"><div class=\"body-m\">89 Aleja Krakowska 02-180</div></div><div class=\"chargepoints-stations-types\" data-connectors=\"true\"><div class=\"charging-point-type\" title=\"TYPE 2\"><div class=\"char-type-1-icon connector-5\"></div><div class=\"char-type-1-num\"><div class=\"char-x-text\">x</div><div class=\"body-s bold\">4</div></div></div></div></a><a href=\"/en/charging-stations/poland/warszawa/warszawa/galeria-wilenska-warszawa-targowa\" class=\"chargepoints-stations-item w-inline-block show\"><div class=\"chargepoints-stations-visual-container\"><div class=\"chargepoints-stations-visual\"><div class=\"chargepoints-stations-visual-inner\"><div class=\"chargepoints-stations-visual-icon location-1\"></div><div class=\"chargepoints-stations-visual-text\"><div class=\"body-m\">Street level</div></div></div></div></div><div class=\"chargepoints-stations-title\"><h3 class=\"xs\">Galeria Wileńska Warszawa</h3></div><div class=\"chargepoints-stations-text\"><div class=\"body-m\">72 Targowa 03-734</div></div><div class=\"chargepoints-stations-types\" data-connectors=\"true\"><div class=\"charging-point-type\" title=\"TYPE 2\"><div class=\"char-type-1-icon connector-5\"></div><div class=\"char-type-1-num\"><div class=\"char-x-text\">x</div><div class=\"body-s bold\">4</div></div></div></div></a><a href=\"/en/charging-stations/poland/warszawa/warszawa/threeforce-bv-cpo-ztm-pr-metro-wilanowska-aleja-wilanowska-236-bukowinska\" class=\"chargepoints-stations-item w-inline-block show\"><div class=\"chargepoints-stations-visual-container\"><div class=\"chargepoints-stations-visual\"><div class=\"chargepoints-stations-visual-inner\"><div class=\"chargepoints-stations-visual-icon location-1\"></div><div class=\"chargepoints-stations-visual-text\"><div class=\"body-m\">Street level</div></div></div></div></div><div class=\"chargepoints-stations-title\"><h3 class=\"xs\">Threeforce B.V. (CPO) ZTM P+R METRO WILANOWSKA, Aleja Wilanowska 236</h3></div><div class=\"chargepoints-stations-text\"><div class=\"body-m\">37A Bukowińska 02-703</div></div><div class=\"chargepoints-stations-types\" data-connectors=\"true\"><div class=\"charging-point-type\" title=\"TYPE 2\"><div class=\"char-type-1-icon connector-5\"></div><div class=\"char-type-1-num\"><div class=\"char-x-text\">x</div><div class=\"body-s bold\">4</div></div></div></div></a><a href=\"/en/charging-stations/poland/warszawa/warszawa/threeforce-bv-cpo-ztm-pr-metro-marymont-ul-woscianska-56-kodawska\" class=\"chargepoints-stations-item w-inline-block show\"><div class=\"chargepoints-stations-visual-container\"><div class=\"chargepoints-stations-visual\"><div class=\"chargepoints-stations-visual-inner\"><div class=\"chargepoints-stations-visual-icon location-1\"></div><div class=\"chargepoints-stations-visual-text\"><div class=\"body-m\">Street level</div></div></div></div></div><div class=\"chargepoints-stations-title\"><h3 class=\"xs\">Threeforce B.V. (CPO) ZTM P+R METRO MARYMONT, ul. Włościańska 56</h3></div><div class=\"chargepoints-stations-text\"><div class=\"body-m\">56 Kłodawska 01-715</div></div><div class=\"chargepoints-stations-types\" data-connectors=\"true\"><div class=\"charging-point-type\" title=\"TYPE 2\"><div class=\"char-type-1-icon connector-5\"></div><div class=\"char-type-1-num\"><div class=\"char-x-text\">x</div><div class=\"body-s bold\">4</div></div></div></div></a><a href=\"/en/charging-stations/poland/warszawa/warszawa/klif-okopowa-2-2a-okopowa\" class=\"chargepoints-stations-item w-inline-block show\"><div class=\"chargepoints-stations-visual-container\"><div class=\"chargepoints-stations-visual\"><div class=\"chargepoints-stations-visual-inner\"><div class=\"chargepoints-stations-visual-icon location-1\"></div><div class=\"chargepoints-stations-visual-text\"><div class=\"body-m\">Street level</div></div></div></div></div><div class=\"chargepoints-stations-title\"><h3 class=\"xs\">Klif Okopowa #2-2A</h3></div><div class=\"chargepoints-stations-text\"><div class=\"body-m\">58/72 Okopowa 01-042</div></div><div class=\"chargepoints-stations-types\" data-connectors=\"true\"><div class=\"charging-point-type\" title=\"TYPE 2\"><div class=\"char-type-1-icon connector-5\"></div><div class=\"char-type-1-num\"><div class=\"char-x-text\">x</div><div class=\"body-s bold\">4</div></div></div></div></a><a href=\"/en/charging-stations/poland/warszawa/warszawa/globalworth-hala-koszyki-1-1a-koszykowa\" class=\"chargepoints-stations-item w-inline-block show\"><div class=\"chargepoints-stations-visual-container\"><div class=\"chargepoints-stations-visual\"><div class=\"chargepoints-stations-visual-inner\"><div class=\"chargepoints-stations-visual-icon location-1\"></div><div class=\"chargepoints-stations-visual-text\"><div class=\"body-m\">Street level</div></div></div></div></div><div class=\"chargepoints-stations-title\"><h3 class=\"xs\">Globalworth Hala Koszyki 1-1A</h3></div><div class=\"chargepoints-stations-text\"><div class=\"body-m\">63 Koszykowa 00-675</div></div><div class=\"chargepoints-stations-types\" data-connectors=\"true\"><div class=\"charging-point-type\" title=\"TYPE 2\"><div class=\"char-type-1-icon connector-5\"></div><div class=\"char-type-1-num\"><div class=\"char-x-text\">x</div><div class=\"body-s bold\">4</div></div></div></div></a><a href=\"/en/charging-stations/poland/warszawa/warszawa/hop-6-6-chmielna\" class=\"chargepoints-stations-item w-inline-block show\"><div class=\"chargepoints-stations-visual-container\"><div class=\"chargepoints-stations-visual\"><div class=\"chargepoints-stations-visual-inner\"><div class=\"chargepoints-stations-visual-icon location-1\"></div><div class=\"chargepoints-stations-visual-text\"><div class=\"body-m\">Street level</div></div></div></div></div><div class=\"chargepoints-stations-title\"><h3 class=\"xs\">HOP #6-6</h3></div><div class=\"chargepoints-stations-text\"><div class=\"body-m\">134 Chmielna 00-805</div></div><div class=\"chargepoints-stations-types\" data-connectors=\"true\"><div class=\"charging-point-type\" title=\"TYPE 2\"><div class=\"char-type-1-icon connector-5\"></div><div class=\"char-type-1-num\"><div class=\"char-x-text\">x</div><div class=\"body-s bold\">4</div></div></div></div></a><a href=\"/en/charging-stations/poland/warszawa/warszawa/pr-m-mociny-istacja-nr-1-1-nocznickiego\" class=\"chargepoints-stations-item w-inline-block show\"><div class=\"chargepoints-stations-visual-container\"><div class=\"chargepoints-stations-visual\"><div class=\"chargepoints-stations-visual-inner\"><div class=\"chargepoints-stations-visual-icon location-1\"></div><div class=\"chargepoints-stations-visual-text\"><div class=\"body-m\">Street level</div></div></div></div></div><div class=\"chargepoints-stations-title\"><h3 class=\"xs\">P+R M. Młociny I/Stacja nr 1-1</h3></div><div class=\"chargepoints-stations-text\"><div class=\"body-m\">145 Nocznickiego 01-918</div></div><div class=\"chargepoints-stations-types\" data-connectors=\"true\"><div class=\"charging-point-type\" title=\"TYPE 2\"><div class=\"char-type-1-icon connector-5\"></div><div class=\"char-type-1-num\"><div class=\"char-x-text\">x</div><div class=\"body-s bold\">4</div></div></div></div></a><a href=\"/en/charging-stations/poland/warszawa/warszawa/evplus3p7r90gee0-droga-wojewodzka-634\" class=\"chargepoints-stations-item w-inline-block show\"><div class=\"chargepoints-stations-visual-container\"><div class=\"chargepoints-stations-visual\"><div class=\"chargepoints-stations-visual-inner\"><div class=\"chargepoints-stations-visual-icon location-1\"></div><div class=\"chargepoints-stations-visual-text\"><div class=\"body-m\">Street level</div></div></div></div></div><div class=\"chargepoints-stations-title\"><h3 class=\"xs\">EVPlus/3p7R90GEe0</h3></div><div class=\"chargepoints-stations-text\"><div class=\"body-m\">18 Droga Wojewódzka 634 02-143</div></div><div class=\"chargepoints-stations-types\" data-connectors=\"true\"><div class=\"charging-point-type\" title=\"TYPE 2\"><div class=\"char-type-1-icon connector-5\"></div><div class=\"char-type-1-num\"><div class=\"char-x-text\">x</div><div class=\"body-s bold\">4</div></div></div></div></a><a href=\"/en/charging-stations/poland/warszawa/warszawa/parking-royal-wilanow-franciszka-klimczaka\" class=\"chargepoints-stations-item w-inline-block show\"><div class=\"chargepoints-stations-visual-container\"><div class=\"chargepoints-stations-visual\"><div class=\"chargepoints-stations-visual-inner\"><div class=\"chargepoints-stations-visual-icon location-1\"></div><div class=\"chargepoints-stations-visual-text\"><div class=\"body-m\">Street level</div></div></div></div></div><div class=\"chargepoints-stations-title\"><h3 class=\"xs\">Parking Royal Wilanów</h3></div><div class=\"chargepoints-stations-text\"><div class=\"body-m\">1 Franciszka Klimczaka 02-962</div></div><div class=\"chargepoints-stations-types\" data-connectors=\"true\"><div class=\"charging-point-type\" title=\"CCS2\"><div class=\"char-type-1-icon connector-31\"></div><div class=\"char-type-1-num\"><div class=\"char-x-text\">x</div><div class=\"body-s bold\">2</div></div></div><div class=\"charging-point-type\" title=\"TYPE 2\"><div class=\"char-type-1-icon connector-5\"></div><div class=\"char-type-1-num\"><div class=\"char-x-text\">x</div><div class=\"body-s bold\">2</div></div></div></div></a><a href=\"/en/charging-stations/poland/warszawa/warszawa/lidl-warszawa-modlinska-1712-1a-dorodna\" class=\"chargepoints-stations-item w-inline-block show\"><div class=\"chargepoints-stations-visual-container\"><div class=\"chargepoints-stations-visual\"><div class=\"chargepoints-stations-visual-inner\"><div class=\"chargepoints-stations-visual-icon location-1\"></div><div class=\"chargepoints-stations-visual-text\"><div class=\"body-m\">Street level</div></div></div></div></div><div class=\"chargepoints-stations-title\"><h3 class=\"xs\">Lidl Warszawa Modlińska (1712)-1A</h3></div><div class=\"chargepoints-stations-text\"><div class=\"body-m\">35 Dorodna 03-199</div></div><div class=\"chargepoints-stations-types\" data-connectors=\"true\"><div class=\"charging-point-type\" title=\"TYPE 2\"><div class=\"char-type-1-icon connector-5\"></div><div class=\"char-type-1-num\"><div class=\"char-x-text\">x</div><div class=\"body-s bold\">1</div></div></div><div class=\"charging-point-type\" title=\"CHAdeMO\"><div class=\"char-type-1-icon connector-4\"></div><div class=\"char-type-1-num\"><div class=\"char-x-text\">x</div><div class=\"body-s bold\">1</div></div></div><div class=\"charging-point-type\" title=\"CCS2\"><div class=\"char-type-1-icon connector-31\"></div><div class=\"char-type-1-num\"><div class=\"char-x-text\">x</div><div class=\"body-s bold\">1</div></div></div></div></a><a href=\"/en/charging-stations/poland/warszawa/warszawa/lidl-warszawa-puawska-1527-1a-droga-krajowa-79\" class=\"chargepoints-stations-item w-inline-block show\"><div class=\"chargepoints-stations-visual-container\"><div class=\"chargepoints-stations-visual\"><div class=\"chargepoints-stations-visual-inner\"><div class=\"chargepoints-stations-visual-icon location-1\"></div><div class=\"chargepoints-stations-visual-text\"><div class=\"body-m\">Street level</div></div></div></div></div><div class=\"chargepoints-stations-title\"><h3 class=\"xs\">Lidl Warszawa Puławska (1527)-1A</h3></div><div class=\"chargepoints-stations-text\"><div class=\"body-m\">540 Droga Krajowa 79 02-684</div></div><div class=\"chargepoints-stations-types\" data-connectors=\"true\"><div class=\"charging-point-type\" title=\"TYPE 2\"><div class=\"char-type-1-icon connector-5\"></div><div class=\"char-type-1-num\"><div class=\"char-x-text\">x</div><div class=\"body-s bold\">1</div></div></div><div class=\"charging-point-type\" title=\"CHAdeMO\"><div class=\"char-type-1-icon connector-4\"></div><div class=\"char-type-1-num\"><div class=\"char-x-text\">x</div><div class=\"body-s bold\">1</div></div></div><div class=\"charging-point-type\" title=\"CCS2\"><div class=\"char-type-1-icon connector-31\"></div><div class=\"char-type-1-num\"><div class=\"char-x-text\">x</div><div class=\"body-s bold\">1</div></div></div></div></a><a href=\"/en/charging-stations/poland/warszawa/warszawa/lidl-warszawa-trakt-lubelski-1778-1b-kobrynska\" class=\"chargepoints-stations-item w-inline-block show\"><div class=\"chargepoints-stations-visual-container\"><div class=\"chargepoints-stations-visual\"><div class=\"chargepoints-stations-visual-inner\"><div class=\"chargepoints-stations-visual-icon location-1\"></div><div class=\"chargepoints-stations-visual-text\"><div class=\"body-m\">Street level</div></div></div></div></div><div class=\"chargepoints-stations-title\"><h3 class=\"xs\">Lidl Warszawa Trakt Lubelski (1778)-1B</h3></div><div class=\"chargepoints-stations-text\"><div class=\"body-m\">12 Kobryńska 04-669</div></div><div class=\"chargepoints-stations-types\" data-connectors=\"true\"><div class=\"charging-point-type\" title=\"CCS2\"><div class=\"char-type-1-icon connector-31\"></div><div class=\"char-type-1-num\"><div class=\"char-x-text\">x</div><div class=\"body-s bold\">1</div></div></div><div class=\"charging-point-type\" title=\"CHAdeMO\"><div class=\"char-type-1-icon connector-4\"></div><div class=\"char-type-1-num\"><div class=\"char-x-text\">x</div><div class=\"body-s bold\">1</div></div></div><div class=\"charging-point-type\" title=\"TYPE 2\"><div class=\"char-type-1-icon connector-5\"></div><div class=\"char-type-1-num\"><div class=\"char-x-text\">x</div><div class=\"body-s bold\">1</div></div></div></div></a><a href=\"/en/charging-stations/poland/warszawa/warszawa/dc-120-ogrod-botaniczny-powsin-1a-prawdziwka\" class=\"chargepoints-stations-item w-inline-block show\"><div class=\"chargepoints-stations-visual-container\"><div class=\"chargepoints-stations-visual\"><div class=\"chargepoints-stations-visual-inner\"><div class=\"chargepoints-stations-visual-icon location-1\"></div><div class=\"chargepoints-stations-visual-text\"><div class=\"body-m\">Street level</div></div></div></div></div><div class=\"chargepoints-stations-title\"><h3 class=\"xs\">DC 120 OGRÓD BOTANICZNY POWSIN-1A</h3></div><div class=\"chargepoints-stations-text\"><div class=\"body-m\">2 Prawdziwka 02-973</div></div><div class=\"chargepoints-stations-types\" data-connectors=\"true\"><div class=\"charging-point-type\" title=\"CCS2\"><div class=\"char-type-1-icon connector-31\"></div><div class=\"char-type-1-num\"><div class=\"char-x-text\">x</div><div class=\"body-s bold\">2</div></div></div><div class=\"charging-point-type\" title=\"TYPE 2\"><div class=\"char-type-1-icon connector-5\"></div><div class=\"char-type-1-num\"><div class=\"char-x-text\">x</div><div class=\"body-s bold\">1</div></div></div></div></a><a href=\"/en/charging-stations/poland/warszawa/warszawa/biedronka-warszawa-syta-syta\" class=\"chargepoints-stations-item w-inline-block show\"><div class=\"chargepoints-stations-visual-container\"><div class=\"chargepoints-stations-visual\"><div class=\"chargepoints-stations-visual-inner\"><div class=\"chargepoints-stations-visual-icon location-1\"></div><div class=\"chargepoints-stations-visual-text\"><div class=\"body-m\">Street level</div></div></div></div></div><div class=\"chargepoints-stations-title\"><h3 class=\"xs\">Biedronka Warszawa, Syta</h3></div><div class=\"chargepoints-stations-text\"><div class=\"body-m\">100 Syta 02-993</div></div><div class=\"chargepoints-stations-types\" data-connectors=\"true\"><div class=\"charging-point-type\" title=\"CHAdeMO\"><div class=\"char-type-1-icon connector-4\"></div><div class=\"char-type-1-num\"><div class=\"char-x-text\">x</div><div class=\"body-s bold\">1</div></div></div><div class=\"charging-point-type\" title=\"TYPE 2\"><div class=\"char-type-1-icon connector-5\"></div><div class=\"char-type-1-num\"><div class=\"char-x-text\">x</div><div class=\"body-s bold\">1</div></div></div><div class=\"charging-point-type\" title=\"CCS2\"><div class=\"char-type-1-icon connector-31\"></div><div class=\"char-type-1-num\"><div class=\"char-x-text\">x</div><div class=\"body-s bold\">1</div></div></div></div></a><a href=\"/en/charging-stations/poland/warszawa/warszawa/biedronka-warszawa-paacowa-paacowa\" class=\"chargepoints-stations-item w-inline-block show\"><div class=\"chargepoints-stations-visual-container\"><div class=\"chargepoints-stations-visual\"><div class=\"chargepoints-stations-visual-inner\"><div class=\"chargepoints-stations-visual-icon location-1\"></div><div class=\"chargepoints-stations-visual-text\"><div class=\"body-m\">Street level</div></div></div></div></div><div class=\"chargepoints-stations-title\"><h3 class=\"xs\">Biedronka Warszawa, Pałacowa</h3></div><div class=\"chargepoints-stations-text\"><div class=\"body-m\">2b Pałacowa 02-962</div></div><div class=\"chargepoints-stations-types\" data-connectors=\"true\"><div class=\"charging-point-type\" title=\"CHAdeMO\"><div class=\"char-type-1-icon connector-4\"></div><div class=\"char-type-1-num\"><div class=\"char-x-text\">x</div><div class=\"body-s bold\">1</div></div></div><div class=\"charging-point-type\" title=\"TYPE 2\"><div class=\"char-type-1-icon connector-5\"></div><div class=\"char-type-1-num\"><div class=\"char-x-text\">x</div><div class=\"body-s bold\">1</div></div></div><div class=\"charging-point-type\" title=\"CCS2\"><div class=\"char-type-1-icon connector-31\"></div><div class=\"char-type-1-num\"><div class=\"char-x-text\">x</div><div class=\"body-s bold\">1</div></div></div></div></a><a href=\"/en/charging-stations/poland/warszawa/warszawa/ostrobramska-eurobau-ostrobramska\" class=\"chargepoints-stations-item w-inline-block show\"><div class=\"chargepoints-stations-visual-container\"><div class=\"chargepoints-stations-visual\"><div class=\"chargepoints-stations-visual-inner\"><div class=\"chargepoints-stations-visual-icon location-1\"></div><div class=\"chargepoints-stations-visual-text\"><div class=\"body-m\">Street level</div></div></div></div></div><div class=\"chargepoints-stations-title\"><h3 class=\"xs\">Ostrobramska Eurobau</h3></div><div class=\"chargepoints-stations-text\"><div class=\"body-m\">101 Ostrobramska 04-041</div></div><div class=\"chargepoints-stations-types\" data-connectors=\"true\"><div class=\"charging-point-type\" title=\"CHAdeMO\"><div class=\"char-type-1-icon connector-4\"></div><div class=\"char-type-1-num\"><div class=\"char-x-text\">x</div><div class=\"body-s bold\">1</div></div></div><div class=\"charging-point-type\" title=\"TYPE 2\"><div class=\"char-type-1-icon connector-5\"></div><div class=\"char-type-1-num\"><div class=\"char-x-text\">x</div><div class=\"body-s bold\">1</div></div></div><div class=\"charging-point-type\" title=\"CCS2\"><div class=\"char-type-1-icon connector-31\"></div><div class=\"char-type-1-num\"><div class=\"char-x-text\">x</div><div class=\"body-s bold\">1</div></div></div></div></a><a href=\"/en/charging-stations/poland/warszawa/warszawa/ciepy-dom-warszawa-p-rownolega\" class=\"chargepoints-stations-item w-inline-block show\"><div class=\"chargepoints-stations-visual-container\"><div class=\"chargepoints-stations-visual\"><div class=\"chargepoints-stations-visual-inner\"><div class=\"chargepoints-stations-visual-icon location-1\"></div><div class=\"chargepoints-stations-visual-text\"><div class=\"body-m\">Street level</div></div></div></div></div><div class=\"chargepoints-stations-title\"><h3 class=\"xs\">Ciepły Dom Warszawa (P)</h3></div><div class=\"chargepoints-stations-text\"><div class=\"body-m\">2 Równoległa 02-232</div></div><div class=\"chargepoints-stations-types\" data-connectors=\"true\"><div class=\"charging-point-type\" title=\"CCS2\"><div class=\"char-type-1-icon connector-31\"></div><div class=\"char-type-1-num\"><div class=\"char-x-text\">x</div><div class=\"body-s bold\">2</div></div></div><div class=\"charging-point-type\" title=\"TYPE 2\"><div class=\"char-type-1-icon connector-5\"></div><div class=\"char-type-1-num\"><div class=\"char-x-text\">x</div><div class=\"body-s bold\">1</div></div></div></div></a><a href=\"/en/charging-stations/poland/warszawa/warszawa/budimex-mobility-waw-001-2-skierniewicka\" class=\"chargepoints-stations-item w-inline-block show\"><div class=\"chargepoints-stations-visual-container\"><div class=\"chargepoints-stations-visual\"><div class=\"chargepoints-stations-visual-inner\"><div class=\"chargepoints-stations-visual-icon location-1\"></div><div class=\"chargepoints-stations-visual-text\"><div class=\"body-m\">Street level</div></div></div></div></div><div class=\"chargepoints-stations-title\"><h3 class=\"xs\">Budimex Mobility WAW-001-2</h3></div><div class=\"chargepoints-stations-text\"><div class=\"body-m\">11 Skierniewicka 01-230</div></div><div class=\"chargepoints-stations-types\" data-connectors=\"true\"><div class=\"charging-point-type\" title=\"CCS2\"><div class=\"char-type-1-icon connector-31\"></div><div class=\"char-type-1-num\"><div class=\"char-x-text\">x</div><div class=\"body-s bold\">1</div></div></div><div class=\"charging-point-type\" title=\"TYPE 2\"><div class=\"char-type-1-icon connector-5\"></div><div class=\"char-type-1-num\"><div class=\"char-x-text\">x</div><div class=\"body-s bold\">1</div></div></div><div class=\"charging-point-type\" title=\"CHAdeMO\"><div class=\"char-type-1-icon connector-4\"></div><div class=\"char-type-1-num\"><div class=\"char-x-text\">x</div><div class=\"body-s bold\">1</div></div></div></div></a><a href=\"/en/charging-stations/poland/warszawa/warszawa/hyundai-motor-poland-warszawa-p-wooska\" class=\"chargepoints-stations-item w-inline-block show\"><div class=\"chargepoints-stations-visual-container\"><div class=\"chargepoints-stations-visual\"><div class=\"chargepoints-stations-visual-inner\"><div class=\"chargepoints-stations-visual-icon location-1\"></div><div class=\"chargepoints-stations-visual-text\"><div class=\"body-m\">Street level</div></div></div></div></div><div class=\"chargepoints-stations-title\"><h3 class=\"xs\">Hyundai Motor Poland Warszawa (P)</h3></div><div class=\"chargepoints-stations-text\"><div class=\"body-m\">Wołoska 02-675</div></div><div class=\"chargepoints-stations-types\" data-connectors=\"true\"><div class=\"charging-point-type\" title=\"CCS2\"><div class=\"char-type-1-icon connector-31\"></div><div class=\"char-type-1-num\"><div class=\"char-x-text\">x</div><div class=\"body-s bold\">2</div></div></div><div class=\"charging-point-type\" title=\"TYPE 2\"><div class=\"char-type-1-icon connector-5\"></div><div class=\"char-type-1-num\"><div class=\"char-x-text\">x</div><div class=\"body-s bold\">1</div></div></div></div></a><a href=\"/en/charging-stations/poland/warszawa/warszawa/myjnia-samochodowa-magna-warszawa-heliotropow\" class=\"chargepoints-stations-item w-inline-block show\"><div class=\"chargepoints-stations-visual-container\"><div class=\"chargepoints-stations-visual\"><div class=\"chargepoints-stations-visual-inner\"><div class=\"chargepoints-stations-visual-icon location-1\"></div><div class=\"chargepoints-stations-visual-text\"><div class=\"body-m\">Street level</div></div></div></div></div><div class=\"chargepoints-stations-title\"><h3 class=\"xs\">Myjnia samochodowa Magna Warszawa</h3></div><div class=\"chargepoints-stations-text\"><div class=\"body-m\">59 Heliotropów 04-796</div></div><div class=\"chargepoints-stations-types\" data-connectors=\"true\"><div class=\"charging-point-type\" title=\"CCS2\"><div class=\"char-type-1-icon connector-31\"></div><div class=\"char-type-1-num\"><div class=\"char-x-text\">x</div><div class=\"body-s bold\">2</div></div></div><div class=\"charging-point-type\" title=\"TYPE 2\"><div class=\"char-type-1-icon connector-5\"></div><div class=\"char-type-1-num\"><div class=\"char-x-text\">x</div><div class=\"body-s bold\">1</div></div></div></div></a><a href=\"/en/charging-stations/poland/warszawa/warszawa/unique-tower-1-1a-grzybowska\" class=\"chargepoints-stations-item w-inline-block show\"><div class=\"chargepoints-stations-visual-container\"><div class=\"chargepoints-stations-visual\"><div class=\"chargepoints-stations-visual-inner\"><div class=\"chargepoints-stations-visual-icon location-1\"></div><div class=\"chargepoints-stations-visual-text\"><div class=\"body-m\">Street level</div></div></div></div></div><div class=\"chargepoints-stations-title\"><h3 class=\"xs\">Unique Tower -1-1A</h3></div><div class=\"chargepoints-stations-text\"><div class=\"body-m\">49 Grzybowska 00-844</div></div><div class=\"chargepoints-stations-types\" data-connectors=\"true\"><div class=\"charging-point-type\" title=\"TYPE 2\"><div class=\"char-type-1-icon connector-5\"></div><div class=\"char-type-1-num\"><div class=\"char-x-text\">x</div><div class=\"body-s bold\">3</div></div></div></div></a><a href=\"/en/charging-stations/poland/warszawa/warszawa/test-pr-22112023-a-wooska\" class=\"chargepoints-stations-item w-inline-block show\"><div class=\"chargepoints-stations-visual-container\"><div class=\"chargepoints-stations-visual\"><div class=\"chargepoints-stations-visual-inner\"><div class=\"chargepoints-stations-visual-icon location-1\"></div><div class=\"chargepoints-stations-visual-text\"><div class=\"body-m\">Street level</div></div></div></div></div><div class=\"chargepoints-stations-title\"><h3 class=\"xs\">Test PR 22.11.2023-A</h3></div><div class=\"chargepoints-stations-text\"><div class=\"body-m\">22A Wołoska 02-675</div></div><div class=\"chargepoints-stations-types\" data-connectors=\"true\"><div class=\"charging-point-type\" title=\"TYPE 2\"><div class=\"char-type-1-icon connector-5\"></div><div class=\"char-type-1-num\"><div class=\"char-x-text\">x</div><div class=\"body-s bold\">1</div></div></div><div class=\"charging-point-type\" title=\"CCS2\"><div class=\"char-type-1-icon connector-31\"></div><div class=\"char-type-1-num\"><div class=\"char-x-text\">x</div><div class=\"body-s bold\">1</div></div></div><div class=\"charging-point-type\" title=\"CHAdeMO\"><div class=\"char-type-1-icon connector-4\"></div><div class=\"char-type-1-num\"><div class=\"char-x-text\">x</div><div class=\"body-s bold\">1</div></div></div></div></a><a href=\"/en/charging-stations/poland/warszawa/warszawa/test-wewnetrzny-elocity-ww3-wooska\" class=\"chargepoints-stations-item w-inline-block show\"><div class=\"chargepoints-stations-visual-container\"><div class=\"chargepoints-stations-visual\"><div class=\"chargepoints-stations-visual-inner\"><div class=\"chargepoints-stations-visual-icon location-1\"></div><div class=\"chargepoints-stations-visual-text\"><div class=\"body-m\">Street level</div></div></div></div></div><div class=\"chargepoints-stations-title\"><h3 class=\"xs\">Test wewnętrzny Elocity-WW3</h3></div><div class=\"chargepoints-stations-text\"><div class=\"body-m\">23 Wołoska 02-583</div></div><div class=\"chargepoints-stations-types\" data-connectors=\"true\"><div class=\"charging-point-type\" title=\"TYPE 2\"><div class=\"char-type-1-icon connector-5\"></div><div class=\"char-type-1-num\"><div class=\"char-x-text\">x</div><div class=\"body-s bold\">2</div></div></div><div class=\"charging-point-type\" title=\"CEE 2P+E (blue - camping)\"><div class=\"char-type-1-icon connector-3\"></div><div class=\"char-type-1-num\"><div class=\"char-x-text\">x</div><div class=\"body-s bold\">1</div></div></div></div></a><a href=\"/en/charging-stations/poland/warszawa/warszawa/the-park-warsaw-krakowiakow\" class=\"chargepoints-stations-item w-inline-block show\"><div class=\"chargepoints-stations-visual-container\"><div class=\"chargepoints-stations-visual\"><div class=\"chargepoints-stations-visual-inner\"><div class=\"chargepoints-stations-visual-icon location-1\"></div><div class=\"chargepoints-stations-visual-text\"><div class=\"body-m\">Street level</div></div></div></div></div><div class=\"chargepoints-stations-title\"><h3 class=\"xs\">The Park Warsaw</h3></div><div class=\"chargepoints-stations-text\"><div class=\"body-m\">46 Krakowiaków 02-255</div></div><div class=\"chargepoints-stations-types\" data-connectors=\"true\"><div class=\"charging-point-type\" title=\"CHAdeMO\"><div class=\"char-type-1-icon connector-4\"></div><div class=\"char-type-1-num\"><div class=\"char-x-text\">x</div><div class=\"body-s bold\">1</div></div></div><div class=\"charging-point-type\" title=\"CCS2\"><div class=\"char-type-1-icon connector-31\"></div><div class=\"char-type-1-num\"><div class=\"char-x-text\">x</div><div class=\"body-s bold\">1</div></div></div><div class=\"charging-point-type\" title=\"TYPE 2\"><div class=\"char-type-1-icon connector-5\"></div><div class=\"char-type-1-num\"><div class=\"char-x-text\">x</div><div class=\"body-s bold\">1</div></div></div></div></a><a href=\"/en/charging-stations/poland/warszawa/warszawa/evpluszonvpq476v-wodarzewska\" class=\"chargepoints-stations-item w-inline-block show\"><div class=\"chargepoints-stations-visual-container\"><div class=\"chargepoints-stations-visual\"><div class=\"chargepoints-stations-visual-inner\"><div class=\"chargepoints-stations-visual-icon location-1\"></div><div class=\"chargepoints-stations-visual-text\"><div class=\"body-m\">Street level</div></div></div></div></div><div class=\"chargepoints-stations-title\"><h3 class=\"xs\">EVPlus/zOnvPQ476V</h3></div><div class=\"chargepoints-stations-text\"><div class=\"body-m\">58B Włodarzewska 02-384</div></div><div class=\"chargepoints-stations-types\" data-connectors=\"true\"><div class=\"charging-point-type\" title=\"TYPE 2\"><div class=\"char-type-1-icon connector-5\"></div><div class=\"char-type-1-num\"><div class=\"char-x-text\">x</div><div class=\"body-s bold\">3</div></div></div></div></a><a href=\"/en/charging-stations/poland/warszawa/warszawa/biurowiec-elektrownia-powisle-warszawa-zajecza\" class=\"chargepoints-stations-item w-inline-block show\"><div class=\"chargepoints-stations-visual-container\"><div class=\"chargepoints-stations-visual\"><div class=\"chargepoints-stations-visual-inner\"><div class=\"chargepoints-stations-visual-icon location-1\"></div><div class=\"chargepoints-stations-visual-text\"><div class=\"body-m\">Street level</div></div></div></div></div><div class=\"chargepoints-stations-title\"><h3 class=\"xs\">Biurowiec Elektrownia Powiśle Warszawa</h3></div><div class=\"chargepoints-stations-text\"><div class=\"body-m\">2b Zajęcza 00-351</div></div><div class=\"chargepoints-stations-types\" data-connectors=\"true\"><div class=\"charging-point-type\" title=\"CHAdeMO\"><div class=\"char-type-1-icon connector-4\"></div><div class=\"char-type-1-num\"><div class=\"char-x-text\">x</div><div class=\"body-s bold\">1</div></div></div><div class=\"charging-point-type\" title=\"CCS2\"><div class=\"char-type-1-icon connector-31\"></div><div class=\"char-type-1-num\"><div class=\"char-x-text\">x</div><div class=\"body-s bold\">1</div></div></div><div class=\"charging-point-type\" title=\"TYPE 2\"><div class=\"char-type-1-icon connector-5\"></div><div class=\"char-type-1-num\"><div class=\"char-x-text\">x</div><div class=\"body-s bold\">1</div></div></div></div></a><a href=\"/en/charging-stations/poland/warszawa/warszawa/pge-nowa-energia-praga-ponoc-jozefa-sierakowskiego\" class=\"chargepoints-stations-item w-inline-block show\"><div class=\"chargepoints-stations-visual-container\"><div class=\"chargepoints-stations-visual\"><div class=\"chargepoints-stations-visual-inner\"><div class=\"chargepoints-stations-visual-icon location-1\"></div><div class=\"chargepoints-stations-visual-text\"><div class=\"body-m\">Street level</div></div></div></div></div><div class=\"chargepoints-stations-title\"><h3 class=\"xs\">PGE Nowa Energia Praga-Północ</h3></div><div class=\"chargepoints-stations-text\"><div class=\"body-m\">9 Józefa Sierakowskiego 03-709</div></div><div class=\"chargepoints-stations-types\" data-connectors=\"true\"><div class=\"charging-point-type\" title=\"TYPE 2\"><div class=\"char-type-1-icon connector-5\"></div><div class=\"char-type-1-num\"><div class=\"char-x-text\">x</div><div class=\"body-s bold\">1</div></div></div><div class=\"charging-point-type\" title=\"CHAdeMO\"><div class=\"char-type-1-icon connector-4\"></div><div class=\"char-type-1-num\"><div class=\"char-x-text\">x</div><div class=\"body-s bold\">1</div></div></div><div class=\"charging-point-type\" title=\"CCS2\"><div class=\"char-type-1-icon connector-31\"></div><div class=\"char-type-1-num\"><div class=\"char-x-text\">x</div><div class=\"body-s bold\">1</div></div></div></div></a><a href=\"/en/charging-stations/poland/warszawa/warszawa/sadyba-best-mall-warszawa-konstancinska\" class=\"chargepoints-stations-item w-inline-block show\"><div class=\"chargepoints-stations-visual-container\"><div class=\"chargepoints-stations-visual\"><div class=\"chargepoints-stations-visual-inner\"><div class=\"chargepoints-stations-visual-icon location-1\"></div><div class=\"chargepoints-stations-visual-text\"><div class=\"body-m\">Street level</div></div></div></div></div><div class=\"chargepoints-stations-title\"><h3 class=\"xs\">Sadyba Best Mall Warszawa</h3></div><div class=\"chargepoints-stations-text\"><div class=\"body-m\">9 Konstancińska 02-942</div></div><div class=\"chargepoints-stations-types\" data-connectors=\"true\"><div class=\"charging-point-type\" title=\"CHAdeMO\"><div class=\"char-type-1-icon connector-4\"></div><div class=\"char-type-1-num\"><div class=\"char-x-text\">x</div><div class=\"body-s bold\">1</div></div></div><div class=\"charging-point-type\" title=\"CCS2\"><div class=\"char-type-1-icon connector-31\"></div><div class=\"char-type-1-num\"><div class=\"char-x-text\">x</div><div class=\"body-s bold\">1</div></div></div><div class=\"charging-point-type\" title=\"TYPE 2\"><div class=\"char-type-1-icon connector-5\"></div><div class=\"char-type-1-num\"><div class=\"char-x-text\">x</div><div class=\"body-s bold\">1</div></div></div></div></a><a href=\"/en/charging-stations/poland/warszawa/warszawa/atrium-targowek-warszawa-gebocka\" class=\"chargepoints-stations-item w-inline-block show\"><div class=\"chargepoints-stations-visual-container\"><div class=\"chargepoints-stations-visual\"><div class=\"chargepoints-stations-visual-inner\"><div class=\"chargepoints-stations-visual-icon location-1\"></div><div class=\"chargepoints-stations-visual-text\"><div class=\"body-m\">Street level</div></div></div></div></div><div class=\"chargepoints-stations-title\"><h3 class=\"xs\">Atrium Targówek Warszawa</h3></div><div class=\"chargepoints-stations-text\"><div class=\"body-m\">15/210 Głębocka 03-287</div></div><div class=\"chargepoints-stations-types\" data-connectors=\"true\"><div class=\"charging-point-type\" title=\"CHAdeMO\"><div class=\"char-type-1-icon connector-4\"></div><div class=\"char-type-1-num\"><div class=\"char-x-text\">x</div><div class=\"body-s bold\">1</div></div></div><div class=\"charging-point-type\" title=\"TYPE 2\"><div class=\"char-type-1-icon connector-5\"></div><div class=\"char-type-1-num\"><div class=\"char-x-text\">x</div><div class=\"body-s bold\">1</div></div></div><div class=\"charging-point-type\" title=\"CCS2\"><div class=\"char-type-1-icon connector-31\"></div><div class=\"char-type-1-num\"><div class=\"char-x-text\">x</div><div class=\"body-s bold\">1</div></div></div></div></a><a href=\"/en/charging-stations/poland/warszawa/warszawa/atrium-reduta-warszawa-aleje-jerozolimskie\" class=\"chargepoints-stations-item w-inline-block show\"><div class=\"chargepoints-stations-visual-container\"><div class=\"chargepoints-stations-visual\"><div class=\"chargepoints-stations-visual-inner\"><div class=\"chargepoints-stations-visual-icon location-1\"></div><div class=\"chargepoints-stations-visual-text\"><div class=\"body-m\">Street level</div></div></div></div></div><div class=\"chargepoints-stations-title\"><h3 class=\"xs\">Atrium Reduta Warszawa</h3></div><div class=\"chargepoints-stations-text\"><div class=\"body-m\">148 Aleje Jerozolimskie 02-326</div></div><div class=\"chargepoints-stations-types\" data-connectors=\"true\"><div class=\"charging-point-type\" title=\"CHAdeMO\"><div class=\"char-type-1-icon connector-4\"></div><div class=\"char-type-1-num\"><div class=\"char-x-text\">x</div><div class=\"body-s bold\">1</div></div></div><div class=\"charging-point-type\" title=\"CCS2\"><div class=\"char-type-1-icon connector-31\"></div><div class=\"char-type-1-num\"><div class=\"char-x-text\">x</div><div class=\"body-s bold\">1</div></div></div><div class=\"charging-point-type\" title=\"TYPE 2\"><div class=\"char-type-1-icon connector-5\"></div><div class=\"char-type-1-num\"><div class=\"char-x-text\">x</div><div class=\"body-s bold\">1</div></div></div></div></a><a href=\"/en/charging-stations/poland/warszawa/warszawa/auchan-modlinska-warszawa-droga-wojewodzka-801\" class=\"chargepoints-stations-item w-inline-block show\"><div class=\"chargepoints-stations-visual-container\"><div class=\"chargepoints-stations-visual\"><div class=\"chargepoints-stations-visual-inner\"><div class=\"chargepoints-stations-visual-icon location-1\"></div><div class=\"chargepoints-stations-visual-text\"><div class=\"body-m\">Street level</div></div></div></div></div><div class=\"chargepoints-stations-title\"><h3 class=\"xs\">Auchan Modlińska Warszawa</h3></div><div class=\"chargepoints-stations-text\"><div class=\"body-m\">8 Droga Wojewódzka 801 03-170</div></div><div class=\"chargepoints-stations-types\" data-connectors=\"true\"><div class=\"charging-point-type\" title=\"CHAdeMO\"><div class=\"char-type-1-icon connector-4\"></div><div class=\"char-type-1-num\"><div class=\"char-x-text\">x</div><div class=\"body-s bold\">1</div></div></div><div class=\"charging-point-type\" title=\"TYPE 2\"><div class=\"char-type-1-icon connector-5\"></div><div class=\"char-type-1-num\"><div class=\"char-x-text\">x</div><div class=\"body-s bold\">1</div></div></div><div class=\"charging-point-type\" title=\"CCS2\"><div class=\"char-type-1-icon connector-31\"></div><div class=\"char-type-1-num\"><div class=\"char-x-text\">x</div><div class=\"body-s bold\">1</div></div></div></div></a><a href=\"/en/charging-stations/poland/warszawa/warszawa/wola-park-warszawa-unnamed-road\" class=\"chargepoints-stations-item w-inline-block show\"><div class=\"chargepoints-stations-visual-container\"><div class=\"chargepoints-stations-visual\"><div class=\"chargepoints-stations-visual-inner\"><div class=\"chargepoints-stations-visual-icon location-1\"></div><div class=\"chargepoints-stations-visual-text\"><div class=\"body-m\">Street level</div></div></div></div></div><div class=\"chargepoints-stations-title\"><h3 class=\"xs\">Wola Park Warszawa</h3></div><div class=\"chargepoints-stations-text\"><div class=\"body-m\">Unnamed Road 01-460</div></div><div class=\"chargepoints-stations-types\" data-connectors=\"true\"><div class=\"charging-point-type\" title=\"CHAdeMO\"><div class=\"char-type-1-icon connector-4\"></div><div class=\"char-type-1-num\"><div class=\"char-x-text\">x</div><div class=\"body-s bold\">1</div></div></div><div class=\"charging-point-type\" title=\"CCS2\"><div class=\"char-type-1-icon connector-31\"></div><div class=\"char-type-1-num\"><div class=\"char-x-text\">x</div><div class=\"body-s bold\">1</div></div></div><div class=\"charging-point-type\" title=\"TYPE 2\"><div class=\"char-type-1-icon connector-5\"></div><div class=\"char-type-1-num\"><div class=\"char-x-text\">x</div><div class=\"body-s bold\">1</div></div></div></div></a><a href=\"/en/charging-stations/poland/warszawa/warszawa/galeria-mokotow-warszawa-rodziny-hiszpanskich\" class=\"chargepoints-stations-item w-inline-block show\"><div class=\"chargepoints-stations-visual-container\"><div class=\"chargepoints-stations-visual\"><div class=\"chargepoints-stations-visual-inner\"><div class=\"chargepoints-stations-visual-icon location-1\"></div><div class=\"chargepoints-stations-visual-text\"><div class=\"body-m\">Street level</div></div></div></div></div><div class=\"chargepoints-stations-title\"><h3 class=\"xs\">Galeria Mokotów Warszawa</h3></div><div class=\"chargepoints-stations-text\"><div class=\"body-m\">88 Rodziny Hiszpańskich 02-685</div></div><div class=\"chargepoints-stations-types\" data-connectors=\"true\"><div class=\"charging-point-type\" title=\"CHAdeMO\"><div class=\"char-type-1-icon connector-4\"></div><div class=\"char-type-1-num\"><div class=\"char-x-text\">x</div><div class=\"body-s bold\">1</div></div></div><div class=\"charging-point-type\" title=\"CCS2\"><div class=\"char-type-1-icon connector-31\"></div><div class=\"char-type-1-num\"><div class=\"char-x-text\">x</div><div class=\"body-s bold\">1</div></div></div><div class=\"charging-point-type\" title=\"TYPE 2\"><div class=\"char-type-1-icon connector-5\"></div><div class=\"char-type-1-num\"><div class=\"char-x-text\">x</div><div class=\"body-s bold\">1</div></div></div></div></a><a href=\"/en/charging-stations/poland/warszawa/warszawa/evplusdljpwlp7gl-puawska\" class=\"chargepoints-stations-item w-inline-block show\"><div class=\"chargepoints-stations-visual-container\"><div class=\"chargepoints-stations-visual\"><div class=\"chargepoints-stations-visual-inner\"><div class=\"chargepoints-stations-visual-icon location-1\"></div><div class=\"chargepoints-stations-visual-text\"><div class=\"body-m\">Street level</div></div></div></div></div><div class=\"chargepoints-stations-title\"><h3 class=\"xs\">EVPlus/DljPwLP7gL</h3></div><div class=\"chargepoints-stations-text\"><div class=\"body-m\">182 Puławska 02-670</div></div><div class=\"chargepoints-stations-types\" data-connectors=\"true\"><div class=\"charging-point-type\" title=\"TYPE 2\"><div class=\"char-type-1-icon connector-5\"></div><div class=\"char-type-1-num\"><div class=\"char-x-text\">x</div><div class=\"body-s bold\">2</div></div></div></div></a><a href=\"/en/charging-stations/poland/warszawa/warszawa/noxo-zota-44-1-zota\" class=\"chargepoints-stations-item w-inline-block show\"><div class=\"chargepoints-stations-visual-container\"><div class=\"chargepoints-stations-visual\"><div class=\"chargepoints-stations-visual-inner\"><div class=\"chargepoints-stations-visual-icon location-1\"></div><div class=\"chargepoints-stations-visual-text\"><div class=\"body-m\">Street level</div></div></div></div></div><div class=\"chargepoints-stations-title\"><h3 class=\"xs\">NOXO. Złota 44-1</h3></div><div class=\"chargepoints-stations-text\"><div class=\"body-m\">7-59 Złota 03</div></div><div class=\"chargepoints-stations-types\" data-connectors=\"true\"><div class=\"charging-point-type\" title=\"TYPE 2\"><div class=\"char-type-1-icon connector-5\"></div><div class=\"char-type-1-num\"><div class=\"char-x-text\">x</div><div class=\"body-s bold\">1</div></div></div><div class=\"charging-point-type\" title=\"CCS2\"><div class=\"char-type-1-icon connector-31\"></div><div class=\"char-type-1-num\"><div class=\"char-x-text\">x</div><div class=\"body-s bold\">1</div></div></div></div></a><a href=\"/en/charging-stations/poland/warszawa/warszawa/flanders-1a-flisa\" class=\"chargepoints-stations-item w-inline-block show\"><div class=\"chargepoints-stations-visual-container\"><div class=\"chargepoints-stations-visual\"><div class=\"chargepoints-stations-visual-inner\"><div class=\"chargepoints-stations-visual-icon location-1\"></div><div class=\"chargepoints-stations-visual-text\"><div class=\"body-m\">Street level</div></div></div></div></div><div class=\"chargepoints-stations-title\"><h3 class=\"xs\">Flanders-1A</h3></div><div class=\"chargepoints-stations-text\"><div class=\"body-m\">2 Flisa 02-248</div></div><div class=\"chargepoints-stations-types\" data-connectors=\"true\"><div class=\"charging-point-type\" title=\"TYPE 2\"><div class=\"char-type-1-icon connector-5\"></div><div class=\"char-type-1-num\"><div class=\"char-x-text\">x</div><div class=\"body-s bold\">2</div></div></div></div></a><a href=\"/en/charging-stations/poland/warszawa/warszawa/akademia-finansow-i-biznesu-vistula-1a-stokosy\" class=\"chargepoints-stations-item w-inline-block show\"><div class=\"chargepoints-stations-visual-container\"><div class=\"chargepoints-stations-visual\"><div class=\"chargepoints-stations-visual-inner\"><div class=\"chargepoints-stations-visual-icon location-1\"></div><div class=\"chargepoints-stations-visual-text\"><div class=\"body-m\">Street level</div></div></div></div></div><div class=\"chargepoints-stations-title\"><h3 class=\"xs\">Akademia Finansów i Biznesu Vistula-1A</h3></div><div class=\"chargepoints-stations-text\"><div class=\"body-m\">10 Stokłosy 02-787</div></div><div class=\"chargepoints-stations-types\" data-connectors=\"true\"><div class=\"charging-point-type\" title=\"TYPE 2\"><div class=\"char-type-1-icon connector-5\"></div><div class=\"char-type-1-num\"><div class=\"char-x-text\">x</div><div class=\"body-s bold\">2</div></div></div></div></a><a href=\"/en/charging-stations/poland/warszawa/warszawa/apcoa-mokotow-nova-1a-domaniewska\" class=\"chargepoints-stations-item w-inline-block show\"><div class=\"chargepoints-stations-visual-container\"><div class=\"chargepoints-stations-visual\"><div class=\"chargepoints-stations-visual-inner\"><div class=\"chargepoints-stations-visual-icon location-1\"></div><div class=\"chargepoints-stations-visual-text\"><div class=\"body-m\">Street level</div></div></div></div></div><div class=\"chargepoints-stations-title\"><h3 class=\"xs\">Apcoa - Mokotów Nova-1A</h3></div><div class=\"chargepoints-stations-text\"><div class=\"body-m\">42A Domaniewska 02-672</div></div><div class=\"chargepoints-stations-types\" data-connectors=\"true\"><div class=\"charging-point-type\" title=\"TYPE 2\"><div class=\"char-type-1-icon connector-5\"></div><div class=\"char-type-1-num\"><div class=\"char-x-text\">x</div><div class=\"body-s bold\">2</div></div></div></div></a><a href=\"/en/charging-stations/poland/warszawa/warszawa/evplusagnoy587ew-ignacego-pradzynskiego\" class=\"chargepoints-stations-item w-inline-block show\"><div class=\"chargepoints-stations-visual-container\"><div class=\"chargepoints-stations-visual\"><div class=\"chargepoints-stations-visual-inner\"><div class=\"chargepoints-stations-visual-icon location-1\"></div><div class=\"chargepoints-stations-visual-text\"><div class=\"body-m\">Street level</div></div></div></div></div><div class=\"chargepoints-stations-title\"><h3 class=\"xs\">EVPlus/aGnOy587ew</h3></div><div class=\"chargepoints-stations-text\"><div class=\"body-m\">12 Ignacego Prądzyńskiego 01-222</div></div><div class=\"chargepoints-stations-types\" data-connectors=\"true\"><div class=\"charging-point-type\" title=\"TYPE 2\"><div class=\"char-type-1-icon connector-5\"></div><div class=\"char-type-1-num\"><div class=\"char-x-text\">x</div><div class=\"body-s bold\">2</div></div></div></div></a><a href=\"/en/charging-stations/poland/warszawa/warszawa/evpluslbnwzdaj2d-aleje-jerozolimskie\" class=\"chargepoints-stations-item w-inline-block show\"><div class=\"chargepoints-stations-visual-container\"><div class=\"chargepoints-stations-visual\"><div class=\"chargepoints-stations-visual-inner\"><div class=\"chargepoints-stations-visual-icon location-1\"></div><div class=\"chargepoints-stations-visual-text\"><div class=\"body-m\">Street level</div></div></div></div></div><div class=\"chargepoints-stations-title\"><h3 class=\"xs\">EVPlus/Lbnwzdaj2d</h3></div><div class=\"chargepoints-stations-text\"><div class=\"body-m\">96 Aleje Jerozolimskie 00-001</div></div><div class=\"chargepoints-stations-types\" data-connectors=\"true\"><div class=\"charging-point-type\" title=\"TYPE 2\"><div class=\"char-type-1-icon connector-5\"></div><div class=\"char-type-1-num\"><div class=\"char-x-text\">x</div><div class=\"body-s bold\">2</div></div></div></div></a><a href=\"/en/charging-stations/poland/warszawa/warszawa/evplusmvembw07kq-droga-bez-nazwy\" class=\"chargepoints-stations-item w-inline-block show\"><div class=\"chargepoints-stations-visual-container\"><div class=\"chargepoints-stations-visual\"><div class=\"chargepoints-stations-visual-inner\"><div class=\"chargepoints-stations-visual-icon location-1\"></div><div class=\"chargepoints-stations-visual-text\"><div class=\"body-m\">Street level</div></div></div></div></div><div class=\"chargepoints-stations-title\"><h3 class=\"xs\">EVPlus/MvEmbW07Kq</h3></div><div class=\"chargepoints-stations-text\"><div class=\"body-m\">Droga bez nazwy 03</div></div><div class=\"chargepoints-stations-types\" data-connectors=\"true\"><div class=\"charging-point-type\" title=\"TYPE 2\"><div class=\"char-type-1-icon connector-5\"></div><div class=\"char-type-1-num\"><div class=\"char-x-text\">x</div><div class=\"body-s bold\">2</div></div></div></div></a><a href=\"/en/charging-stations/poland/warszawa/warszawa/evplusd4ndzq07jg-plater\" class=\"chargepoints-stations-item w-inline-block show\"><div class=\"chargepoints-stations-visual-container\"><div class=\"chargepoints-stations-visual\"><div class=\"chargepoints-stations-visual-inner\"><div class=\"chargepoints-stations-visual-icon location-1\"></div><div class=\"chargepoints-stations-visual-text\"><div class=\"body-m\">Street level</div></div></div></div></div><div class=\"chargepoints-stations-title\"><h3 class=\"xs\">EVPlus/d4ndZQ07Jg</h3></div><div class=\"chargepoints-stations-text\"><div class=\"body-m\">53 Plater 00-113</div></div><div class=\"chargepoints-stations-types\" data-connectors=\"true\"><div class=\"charging-point-type\" title=\"TYPE 2\"><div class=\"char-type-1-icon connector-5\"></div><div class=\"char-type-1-num\"><div class=\"char-x-text\">x</div><div class=\"body-s bold\">2</div></div></div></div></a><a href=\"/en/charging-stations/poland/warszawa/warszawa/equay89349951-heliotropow\" class=\"chargepoints-stations-item w-inline-block show\"><div class=\"chargepoints-stations-visual-container\"><div class=\"chargepoints-stations-visual\"><div class=\"chargepoints-stations-visual-inner\"><div class=\"chargepoints-stations-visual-icon location-1\"></div><div class=\"chargepoints-stations-visual-text\"><div class=\"body-m\">Street level</div></div></div></div></div><div class=\"chargepoints-stations-title\"><h3 class=\"xs\">EQUAY/89349951</h3></div><div class=\"chargepoints-stations-text\"><div class=\"body-m\">52 Heliotropów 04-796</div></div><div class=\"chargepoints-stations-types\" data-connectors=\"true\"><div class=\"charging-point-type\" title=\"TYPE 2\"><div class=\"char-type-1-icon connector-5\"></div><div class=\"char-type-1-num\"><div class=\"char-x-text\">x</div><div class=\"body-s bold\">2</div></div></div></div></a><a href=\"/en/charging-stations/poland/warszawa/warszawa/equay89349783-baletowa\" class=\"chargepoints-stations-item w-inline-block show\"><div class=\"chargepoints-stations-visual-container\"><div class=\"chargepoints-stations-visual\"><div class=\"chargepoints-stations-visual-inner\"><div class=\"chargepoints-stations-visual-icon location-1\"></div><div class=\"chargepoints-stations-visual-text\"><div class=\"body-m\">Street level</div></div></div></div></div><div class=\"chargepoints-stations-title\"><h3 class=\"xs\">EQUAY/89349783</h3></div><div class=\"chargepoints-stations-text\"><div class=\"body-m\">5D Baletowa 02-867</div></div><div class=\"chargepoints-stations-types\" data-connectors=\"true\"><div class=\"charging-point-type\" title=\"TYPE 2\"><div class=\"char-type-1-icon connector-5\"></div><div class=\"char-type-1-num\"><div class=\"char-x-text\">x</div><div class=\"body-s bold\">1</div></div></div><div class=\"charging-point-type\" title=\"CCS2\"><div class=\"char-type-1-icon connector-31\"></div><div class=\"char-type-1-num\"><div class=\"char-x-text\">x</div><div class=\"body-s bold\">1</div></div></div></div></a><a href=\"/en/charging-stations/poland/warszawa/warszawa/equay89349962-powiecka\" class=\"chargepoints-stations-item w-inline-block show\"><div class=\"chargepoints-stations-visual-container\"><div class=\"chargepoints-stations-visual\"><div class=\"chargepoints-stations-visual-inner\"><div class=\"chargepoints-stations-visual-icon location-1\"></div><div class=\"chargepoints-stations-visual-text\"><div class=\"body-m\">Street level</div></div></div></div></div><div class=\"chargepoints-stations-title\"><h3 class=\"xs\">EQUAY/89349962</h3></div><div class=\"chargepoints-stations-text\"><div class=\"body-m\">17 Płowiecka 04-501</div></div><div class=\"chargepoints-stations-types\" data-connectors=\"true\"><div class=\"charging-point-type\" title=\"TYPE 2\"><div class=\"char-type-1-icon connector-5\"></div><div class=\"char-type-1-num\"><div class=\"char-x-text\">x</div><div class=\"body-s bold\">1</div></div></div><div class=\"charging-point-type\" title=\"CCS2\"><div class=\"char-type-1-icon connector-31\"></div><div class=\"char-type-1-num\"><div class=\"char-x-text\">x</div><div class=\"body-s bold\">1</div></div></div></div></a><a href=\"/en/charging-stations/poland/warszawa/warszawa/equay89349975-droga-wojewodzka-631\" class=\"chargepoints-stations-item w-inline-block show\"><div class=\"chargepoints-stations-visual-container\"><div class=\"chargepoints-stations-visual\"><div class=\"chargepoints-stations-visual-inner\"><div class=\"chargepoints-stations-visual-icon location-1\"></div><div class=\"chargepoints-stations-visual-text\"><div class=\"body-m\">Street level</div></div></div></div></div><div class=\"chargepoints-stations-title\"><h3 class=\"xs\">EQUAY/89349975</h3></div><div class=\"chargepoints-stations-text\"><div class=\"body-m\">163 Droga Wojewódzka 631 04-148</div></div><div class=\"chargepoints-stations-types\" data-connectors=\"true\"><div class=\"charging-point-type\" title=\"TYPE 2\"><div class=\"char-type-1-icon connector-5\"></div><div class=\"char-type-1-num\"><div class=\"char-x-text\">x</div><div class=\"body-s bold\">1</div></div></div><div class=\"charging-point-type\" title=\"CCS2\"><div class=\"char-type-1-icon connector-31\"></div><div class=\"char-type-1-num\"><div class=\"char-x-text\">x</div><div class=\"body-s bold\">1</div></div></div></div></a><a href=\"/en/charging-stations/poland/warszawa/warszawa/equay89349921-poczynska\" class=\"chargepoints-stations-item w-inline-block show\"><div class=\"chargepoints-stations-visual-container\"><div class=\"chargepoints-stations-visual\"><div class=\"chargepoints-stations-visual-inner\"><div class=\"chargepoints-stations-visual-icon location-1\"></div><div class=\"chargepoints-stations-visual-text\"><div class=\"body-m\">Street level</div></div></div></div></div><div class=\"chargepoints-stations-title\"><h3 class=\"xs\">EQUAY/89349921</h3></div><div class=\"chargepoints-stations-text\"><div class=\"body-m\">Połczyńska 03</div></div><div class=\"chargepoints-stations-types\" data-connectors=\"true\"><div class=\"charging-point-type\" title=\"TYPE 2\"><div class=\"char-type-1-icon connector-5\"></div><div class=\"char-type-1-num\"><div class=\"char-x-text\">x</div><div class=\"body-s bold\">2</div></div></div></div></a><a href=\"/en/charging-stations/poland/warszawa/warszawa/equay89349922-mieczysawa-pozaryskiego\" class=\"chargepoints-stations-item w-inline-block show\"><div class=\"chargepoints-stations-visual-container\"><div class=\"chargepoints-stations-visual\"><div class=\"chargepoints-stations-visual-inner\"><div class=\"chargepoints-stations-visual-icon location-1\"></div><div class=\"chargepoints-stations-visual-text\"><div class=\"body-m\">Street level</div></div></div></div></div><div class=\"chargepoints-stations-title\"><h3 class=\"xs\">EQUAY/89349922</h3></div><div class=\"chargepoints-stations-text\"><div class=\"body-m\">73 Mieczysława Pożaryskiego 04-703</div></div><div class=\"chargepoints-stations-types\" data-connectors=\"true\"><div class=\"charging-point-type\" title=\"TYPE 2\"><div class=\"char-type-1-icon connector-5\"></div><div class=\"char-type-1-num\"><div class=\"char-x-text\">x</div><div class=\"body-s bold\">2</div></div></div></div></a><a href=\"/en/charging-stations/poland/warszawa/warszawa/equay89349923-aleja-komisji-edukacji-narodowej\" class=\"chargepoints-stations-item w-inline-block show\"><div class=\"chargepoints-stations-visual-container\"><div class=\"chargepoints-stations-visual\"><div class=\"chargepoints-stations-visual-inner\"><div class=\"chargepoints-stations-visual-icon location-1\"></div><div class=\"chargepoints-stations-visual-text\"><div class=\"body-m\">Street level</div></div></div></div></div><div class=\"chargepoints-stations-title\"><h3 class=\"xs\">EQUAY/89349923</h3></div><div class=\"chargepoints-stations-text\"><div class=\"body-m\">Aleja Komisji Edukacji Narodowej 02-722</div></div><div class=\"chargepoints-stations-types\" data-connectors=\"true\"><div class=\"charging-point-type\" title=\"TYPE 2\"><div class=\"char-type-1-icon connector-5\"></div><div class=\"char-type-1-num\"><div class=\"char-x-text\">x</div><div class=\"body-s bold\">2</div></div></div></div></a><a href=\"/en/charging-stations/poland/warszawa/warszawa/equay89349924-widoczna\" class=\"chargepoints-stations-item w-inline-block show\"><div class=\"chargepoints-stations-visual-container\"><div class=\"chargepoints-stations-visual\"><div class=\"chargepoints-stations-visual-inner\"><div class=\"chargepoints-stations-visual-icon location-1\"></div><div class=\"chargepoints-stations-visual-text\"><div class=\"body-m\">Street level</div></div></div></div></div><div class=\"chargepoints-stations-title\"><h3 class=\"xs\">EQUAY/89349924</h3></div><div class=\"chargepoints-stations-text\"><div class=\"body-m\">71 Widoczna 04-647</div></div><div class=\"chargepoints-stations-types\" data-connectors=\"true\"><div class=\"charging-point-type\" title=\"TYPE 2\"><div class=\"char-type-1-icon connector-5\"></div><div class=\"char-type-1-num\"><div class=\"char-x-text\">x</div><div class=\"body-s bold\">2</div></div></div></div></a><a href=\"/en/charging-stations/poland/warszawa/warszawa/equay89349891-rondo-jawaharlara-nehru\" class=\"chargepoints-stations-item w-inline-block show\"><div class=\"chargepoints-stations-visual-container\"><div class=\"chargepoints-stations-visual\"><div class=\"chargepoints-stations-visual-inner\"><div class=\"chargepoints-stations-visual-icon location-1\"></div><div class=\"chargepoints-stations-visual-text\"><div class=\"body-m\">Street level</div></div></div></div></div><div class=\"chargepoints-stations-title\"><h3 class=\"xs\">EQUAY/89349891</h3></div><div class=\"chargepoints-stations-text\"><div class=\"body-m\">24 rondo Jawaharlara Nehru 02-968</div></div><div class=\"chargepoints-stations-types\" data-connectors=\"true\"><div class=\"charging-point-type\" title=\"TYPE 2\"><div class=\"char-type-1-icon connector-5\"></div><div class=\"char-type-1-num\"><div class=\"char-x-text\">x</div><div class=\"body-s bold\">1</div></div></div><div class=\"charging-point-type\" title=\"CCS2\"><div class=\"char-type-1-icon connector-31\"></div><div class=\"char-type-1-num\"><div class=\"char-x-text\">x</div><div class=\"body-s bold\">1</div></div></div></div></a><a href=\"/en/charging-stations/poland/warszawa/warszawa/elomoto-domaniewska-47-1-domaniewska\" class=\"chargepoints-stations-item w-inline-block show\"><div class=\"chargepoints-stations-visual-container\"><div class=\"chargepoints-stations-visual\"><div class=\"chargepoints-stations-visual-inner\"><div class=\"chargepoints-stations-visual-icon location-1\"></div><div class=\"chargepoints-stations-visual-text\"><div class=\"body-m\">Street level</div></div></div></div></div><div class=\"chargepoints-stations-title\"><h3 class=\"xs\">ELOMOTO Domaniewska 47-1</h3></div><div class=\"chargepoints-stations-text\"><div class=\"body-m\">47A Domaniewska 02-672</div></div><div class=\"chargepoints-stations-types\" data-connectors=\"true\"><div class=\"charging-point-type\" title=\"TYPE 2\"><div class=\"char-type-1-icon connector-5\"></div><div class=\"char-type-1-num\"><div class=\"char-x-text\">x</div><div class=\"body-s bold\">2</div></div></div></div></a><a href=\"/en/charging-stations/poland/warszawa/warszawa/ethos-1a-ksiazeca\" class=\"chargepoints-stations-item w-inline-block show\"><div class=\"chargepoints-stations-visual-container\"><div class=\"chargepoints-stations-visual\"><div class=\"chargepoints-stations-visual-inner\"><div class=\"chargepoints-stations-visual-icon location-1\"></div><div class=\"chargepoints-stations-visual-text\"><div class=\"body-m\">Street level</div></div></div></div></div><div class=\"chargepoints-stations-title\"><h3 class=\"xs\">Ethos-1A</h3></div><div class=\"chargepoints-stations-text\"><div class=\"body-m\">8 Książęca 00-418</div></div><div class=\"chargepoints-stations-types\" data-connectors=\"true\"><div class=\"charging-point-type\" title=\"TYPE 2\"><div class=\"char-type-1-icon connector-5\"></div><div class=\"char-type-1-num\"><div class=\"char-x-text\">x</div><div class=\"body-s bold\">2</div></div></div></div></a><a href=\"/en/charging-stations/poland/warszawa/warszawa/screencharge-kobucka-27-1a-kobucka\" class=\"chargepoints-stations-item w-inline-block show\"><div class=\"chargepoints-stations-visual-container\"><div class=\"chargepoints-stations-visual\"><div class=\"chargepoints-stations-visual-inner\"><div class=\"chargepoints-stations-visual-icon location-1\"></div><div class=\"chargepoints-stations-visual-text\"><div class=\"body-m\">Street level</div></div></div></div></div><div class=\"chargepoints-stations-title\"><h3 class=\"xs\">ScreenCharge Kłobucka 27-1A</h3></div><div class=\"chargepoints-stations-text\"><div class=\"body-m\">59/14 Kłobucka 02-699</div></div><div class=\"chargepoints-stations-types\" data-connectors=\"true\"><div class=\"charging-point-type\" title=\"TYPE 2\"><div class=\"char-type-1-icon connector-5\"></div><div class=\"char-type-1-num\"><div class=\"char-x-text\">x</div><div class=\"body-s bold\">2</div></div></div></div></a><a href=\"/en/charging-stations/poland/warszawa/warszawa/2waw-ul-omulewska-1-omulewska\" class=\"chargepoints-stations-item w-inline-block show\"><div class=\"chargepoints-stations-visual-container\"><div class=\"chargepoints-stations-visual\"><div class=\"chargepoints-stations-visual-inner\"><div class=\"chargepoints-stations-visual-icon location-1\"></div><div class=\"chargepoints-stations-visual-text\"><div class=\"body-m\">Street level</div></div></div></div></div><div class=\"chargepoints-stations-title\"><h3 class=\"xs\">2/waw ul. Omulewska-1</h3></div><div class=\"chargepoints-stations-text\"><div class=\"body-m\">26 Omulewska 04-128</div></div><div class=\"chargepoints-stations-types\" data-connectors=\"true\"><div class=\"charging-point-type\" title=\"CCS2\"><div class=\"char-type-1-icon connector-31\"></div><div class=\"char-type-1-num\"><div class=\"char-x-text\">x</div><div class=\"body-s bold\">2</div></div></div></div></a><a href=\"/en/charging-stations/poland/warszawa/warszawa/noxo-uczelnia-azarskiego-1-swieradowska\" class=\"chargepoints-stations-item w-inline-block show\"><div class=\"chargepoints-stations-visual-container\"><div class=\"chargepoints-stations-visual\"><div class=\"chargepoints-stations-visual-inner\"><div class=\"chargepoints-stations-visual-icon location-1\"></div><div class=\"chargepoints-stations-visual-text\"><div class=\"body-m\">Street level</div></div></div></div></div><div class=\"chargepoints-stations-title\"><h3 class=\"xs\">NOXO. Uczelnia Łazarskiego-1</h3></div><div class=\"chargepoints-stations-text\"><div class=\"body-m\">43 Świeradowska 02-662</div></div><div class=\"chargepoints-stations-types\" data-connectors=\"true\"><div class=\"charging-point-type\" title=\"TYPE 2\"><div class=\"char-type-1-icon connector-5\"></div><div class=\"char-type-1-num\"><div class=\"char-x-text\">x</div><div class=\"body-s bold\">2</div></div></div></div></a><a href=\"/en/charging-stations/poland/warszawa/warszawa/nissan-nivette-lotnicza\" class=\"chargepoints-stations-item w-inline-block show\"><div class=\"chargepoints-stations-visual-container\"><div class=\"chargepoints-stations-visual\"><div class=\"chargepoints-stations-visual-inner\"><div class=\"chargepoints-stations-visual-icon location-1\"></div><div class=\"chargepoints-stations-visual-text\"><div class=\"body-m\">Street level</div></div></div></div></div><div class=\"chargepoints-stations-title\"><h3 class=\"xs\">Nissan Nivette</h3></div><div class=\"chargepoints-stations-text\"><div class=\"body-m\">3 Lotnicza 04-192</div></div><div class=\"chargepoints-stations-types\" data-connectors=\"true\"><div class=\"charging-point-type\" title=\"CCS2\"><div class=\"char-type-1-icon connector-31\"></div><div class=\"char-type-1-num\"><div class=\"char-x-text\">x</div><div class=\"body-s bold\">1</div></div></div><div class=\"charging-point-type\" title=\"CHAdeMO\"><div class=\"char-type-1-icon connector-4\"></div><div class=\"char-type-1-num\"><div class=\"char-x-text\">x</div><div class=\"body-s bold\">1</div></div></div></div></a><a href=\"/en/charging-stations/poland/warszawa/warszawa/batory-office-building-1a-aleje-jerozolimskie\" class=\"chargepoints-stations-item w-inline-block show\"><div class=\"chargepoints-stations-visual-container\"><div class=\"chargepoints-stations-visual\"><div class=\"chargepoints-stations-visual-inner\"><div class=\"chargepoints-stations-visual-icon location-1\"></div><div class=\"chargepoints-stations-visual-text\"><div class=\"body-m\">Street level</div></div></div></div></div><div class=\"chargepoints-stations-title\"><h3 class=\"xs\">Batory Office Building-1A</h3></div><div class=\"chargepoints-stations-text\"><div class=\"body-m\">212 Aleje Jerozolimskie 02-486</div></div><div class=\"chargepoints-stations-types\" data-connectors=\"true\"><div class=\"charging-point-type\" title=\"TYPE 2\"><div class=\"char-type-1-icon connector-5\"></div><div class=\"char-type-1-num\"><div class=\"char-x-text\">x</div><div class=\"body-s bold\">2</div></div></div></div></a><a href=\"/en/charging-stations/poland/warszawa/warszawa/arche-hotel-poloneza-1-poloneza\" class=\"chargepoints-stations-item w-inline-block show\"><div class=\"chargepoints-stations-visual-container\"><div class=\"chargepoints-stations-visual\"><div class=\"chargepoints-stations-visual-inner\"><div class=\"chargepoints-stations-visual-icon location-1\"></div><div class=\"chargepoints-stations-visual-text\"><div class=\"body-m\">Street level</div></div></div></div></div><div class=\"chargepoints-stations-title\"><h3 class=\"xs\">Arche Hotel Poloneza-1</h3></div><div class=\"chargepoints-stations-text\"><div class=\"body-m\">85B Poloneza 02-826</div></div><div class=\"chargepoints-stations-types\" data-connectors=\"true\"><div class=\"charging-point-type\" title=\"TYPE 2\"><div class=\"char-type-1-icon connector-5\"></div><div class=\"char-type-1-num\"><div class=\"char-x-text\">x</div><div class=\"body-s bold\">2</div></div></div></div></a><a href=\"/en/charging-stations/poland/warszawa/warszawa/auto-czarter-1a-strzygowska\" class=\"chargepoints-stations-item w-inline-block show\"><div class=\"chargepoints-stations-visual-container\"><div class=\"chargepoints-stations-visual\"><div class=\"chargepoints-stations-visual-inner\"><div class=\"chargepoints-stations-visual-icon location-1\"></div><div class=\"chargepoints-stations-visual-text\"><div class=\"body-m\">Street level</div></div></div></div></div><div class=\"chargepoints-stations-title\"><h3 class=\"xs\">Auto Czarter-1A</h3></div><div class=\"chargepoints-stations-text\"><div class=\"body-m\">28 Strzygłowska 04-872</div></div><div class=\"chargepoints-stations-types\" data-connectors=\"true\"><div class=\"charging-point-type\" title=\"TYPE 2\"><div class=\"char-type-1-icon connector-5\"></div><div class=\"char-type-1-num\"><div class=\"char-x-text\">x</div><div class=\"body-s bold\">2</div></div></div></div></a><a href=\"/en/charging-stations/poland/warszawa/warszawa/interparking-piekna-20-01-1a-piekna\" class=\"chargepoints-stations-item w-inline-block show\"><div class=\"chargepoints-stations-visual-container\"><div class=\"chargepoints-stations-visual\"><div class=\"chargepoints-stations-visual-inner\"><div class=\"chargepoints-stations-visual-icon location-1\"></div><div class=\"chargepoints-stations-visual-text\"><div class=\"body-m\">Street level</div></div></div></div></div><div class=\"chargepoints-stations-title\"><h3 class=\"xs\">Interparking Piękna 20 01-1A</h3></div><div class=\"chargepoints-stations-text\"><div class=\"body-m\">11B Piękna 00-549</div></div><div class=\"chargepoints-stations-types\" data-connectors=\"true\"><div class=\"charging-point-type\" title=\"TYPE 2\"><div class=\"char-type-1-icon connector-5\"></div><div class=\"char-type-1-num\"><div class=\"char-x-text\">x</div><div class=\"body-s bold\">2</div></div></div></div></a><a href=\"/en/charging-stations/poland/warszawa/warszawa/pc-warszawa-okecie-charge-point-1-sekundowa\" class=\"chargepoints-stations-item w-inline-block show\"><div class=\"chargepoints-stations-visual-container\"><div class=\"chargepoints-stations-visual\"><div class=\"chargepoints-stations-visual-inner\"><div class=\"chargepoints-stations-visual-icon location-1\"></div><div class=\"chargepoints-stations-visual-text\"><div class=\"body-m\">Street level</div></div></div></div></div><div class=\"chargepoints-stations-title\"><h3 class=\"xs\">PC Warszawa Okecie - Charge Point 1</h3></div><div class=\"chargepoints-stations-text\"><div class=\"body-m\">1 Sekundowa 02-178</div></div><div class=\"chargepoints-stations-types\" data-connectors=\"true\"><div class=\"charging-point-type\" title=\"CCS2\"><div class=\"char-type-1-icon connector-31\"></div><div class=\"char-type-1-num\"><div class=\"char-x-text\">x</div><div class=\"body-s bold\">2</div></div></div></div></a><a href=\"/en/charging-stations/poland/warszawa/warszawa/instytut-ochrony-srodowiska-ksiedza-troszynskiego\" class=\"chargepoints-stations-item w-inline-block show\"><div class=\"chargepoints-stations-visual-container\"><div class=\"chargepoints-stations-visual\"><div class=\"chargepoints-stations-visual-inner\"><div class=\"chargepoints-stations-visual-icon location-1\"></div><div class=\"chargepoints-stations-visual-text\"><div class=\"body-m\">Street level</div></div></div></div></div><div class=\"chargepoints-stations-title\"><h3 class=\"xs\">Instytut Ochrony Środowiska</h3></div><div class=\"chargepoints-stations-text\"><div class=\"body-m\">7 Księdza Trószyńskiego 01-693</div></div><div class=\"chargepoints-stations-types\" data-connectors=\"true\"><div class=\"charging-point-type\" title=\"TYPE 2\"><div class=\"char-type-1-icon connector-5\"></div><div class=\"char-type-1-num\"><div class=\"char-x-text\">x</div><div class=\"body-s bold\">1</div></div></div><div class=\"charging-point-type\" title=\"CHAdeMO\"><div class=\"char-type-1-icon connector-4\"></div><div class=\"char-type-1-num\"><div class=\"char-x-text\">x</div><div class=\"body-s bold\">1</div></div></div></div></a><a href=\"/en/charging-stations/poland/warszawa/warszawa/noxo-gdanski-business-center-1-zygmunta-sominskiego\" class=\"chargepoints-stations-item w-inline-block show\"><div class=\"chargepoints-stations-visual-container\"><div class=\"chargepoints-stations-visual\"><div class=\"chargepoints-stations-visual-inner\"><div class=\"chargepoints-stations-visual-icon location-1\"></div><div class=\"chargepoints-stations-visual-text\"><div class=\"body-m\">Street level</div></div></div></div></div><div class=\"chargepoints-stations-title\"><h3 class=\"xs\">NOXO. Gdański Business Center-1</h3></div><div class=\"chargepoints-stations-text\"><div class=\"body-m\">5 Zygmunta Słomińskiego 00-195</div></div><div class=\"chargepoints-stations-types\" data-connectors=\"true\"><div class=\"charging-point-type\" title=\"TYPE 2\"><div class=\"char-type-1-icon connector-5\"></div><div class=\"char-type-1-num\"><div class=\"char-x-text\">x</div><div class=\"body-s bold\">2</div></div></div></div></a><a href=\"/en/charging-stations/poland/warszawa/warszawa/noxo-hampton-by-hilton-warsaw-reduta-1-mszczonowska\" class=\"chargepoints-stations-item w-inline-block show\"><div class=\"chargepoints-stations-visual-container\"><div class=\"chargepoints-stations-visual\"><div class=\"chargepoints-stations-visual-inner\"><div class=\"chargepoints-stations-visual-icon location-1\"></div><div class=\"chargepoints-stations-visual-text\"><div class=\"body-m\">Street level</div></div></div></div></div><div class=\"chargepoints-stations-title\"><h3 class=\"xs\">NOXO. Hampton by Hilton Warsaw Reduta-1</h3></div><div class=\"chargepoints-stations-text\"><div class=\"body-m\">3c Mszczonowska 05-090</div></div><div class=\"chargepoints-stations-types\" data-connectors=\"true\"><div class=\"charging-point-type\" title=\"TYPE 2\"><div class=\"char-type-1-icon connector-5\"></div><div class=\"char-type-1-num\"><div class=\"char-x-text\">x</div><div class=\"body-s bold\">2</div></div></div></div></a><a href=\"/en/charging-stations/poland/warszawa/warszawa/eon-osiedle-wilanowska-aleja-wilanowska\" class=\"chargepoints-stations-item w-inline-block show\"><div class=\"chargepoints-stations-visual-container\"><div class=\"chargepoints-stations-visual\"><div class=\"chargepoints-stations-visual-inner\"><div class=\"chargepoints-stations-visual-icon location-1\"></div><div class=\"chargepoints-stations-visual-text\"><div class=\"body-m\">Street level</div></div></div></div></div><div class=\"chargepoints-stations-title\"><h3 class=\"xs\">E.ON Osiedle Wilanowska</h3></div><div class=\"chargepoints-stations-text\"><div class=\"body-m\">120 Aleja Wilanowska 02-900</div></div><div class=\"chargepoints-stations-types\" data-connectors=\"true\"><div class=\"charging-point-type\" title=\"TYPE 2\"><div class=\"char-type-1-icon connector-5\"></div><div class=\"char-type-1-num\"><div class=\"char-x-text\">x</div><div class=\"body-s bold\">2</div></div></div></div></a><a href=\"/en/charging-stations/poland/warszawa/warszawa/gtc-artico-1a-abramowskiego\" class=\"chargepoints-stations-item w-inline-block show\"><div class=\"chargepoints-stations-visual-container\"><div class=\"chargepoints-stations-visual\"><div class=\"chargepoints-stations-visual-inner\"><div class=\"chargepoints-stations-visual-icon location-1\"></div><div class=\"chargepoints-stations-visual-text\"><div class=\"body-m\">Street level</div></div></div></div></div><div class=\"chargepoints-stations-title\"><h3 class=\"xs\">GTC Artico-1A</h3></div><div class=\"chargepoints-stations-text\"><div class=\"body-m\">27 Abramowskiego 02-679</div></div><div class=\"chargepoints-stations-types\" data-connectors=\"true\"><div class=\"charging-point-type\" title=\"TYPE 2\"><div class=\"char-type-1-icon connector-5\"></div><div class=\"char-type-1-num\"><div class=\"char-x-text\">x</div><div class=\"body-s bold\">2</div></div></div></div></a><a href=\"/en/charging-stations/poland/warszawa/warszawa/autotrade-mercedes-benz-mrowcza-218-1-mrowcza\" class=\"chargepoints-stations-item w-inline-block show\"><div class=\"chargepoints-stations-visual-container\"><div class=\"chargepoints-stations-visual\"><div class=\"chargepoints-stations-visual-inner\"><div class=\"chargepoints-stations-visual-icon location-1\"></div><div class=\"chargepoints-stations-visual-text\"><div class=\"body-m\">Street level</div></div></div></div></div><div class=\"chargepoints-stations-title\"><h3 class=\"xs\">Autotrade Mercedes-Benz Mrówcza 218-1</h3></div><div class=\"chargepoints-stations-text\"><div class=\"body-m\">243 Mrówcza 04-697</div></div><div class=\"chargepoints-stations-types\" data-connectors=\"true\"><div class=\"charging-point-type\" title=\"CCS2\"><div class=\"char-type-1-icon connector-31\"></div><div class=\"char-type-1-num\"><div class=\"char-x-text\">x</div><div class=\"body-s bold\">2</div></div></div></div></a><a href=\"/en/charging-stations/poland/warszawa/warszawa/galeria-bemowo-warszawa-rajdowa\" class=\"chargepoints-stations-item w-inline-block show\"><div class=\"chargepoints-stations-visual-container\"><div class=\"chargepoints-stations-visual\"><div class=\"chargepoints-stations-visual-inner\"><div class=\"chargepoints-stations-visual-icon location-1\"></div><div class=\"chargepoints-stations-visual-text\"><div class=\"body-m\">Street level</div></div></div></div></div><div class=\"chargepoints-stations-title\"><h3 class=\"xs\">Galeria Bemowo Warszawa</h3></div><div class=\"chargepoints-stations-text\"><div class=\"body-m\">70 rajdowa 01-466</div></div><div class=\"chargepoints-stations-types\" data-connectors=\"true\"><div class=\"charging-point-type\" title=\"TYPE 2\"><div class=\"char-type-1-icon connector-5\"></div><div class=\"char-type-1-num\"><div class=\"char-x-text\">x</div><div class=\"body-s bold\">2</div></div></div></div></a><a href=\"/en/charging-stations/poland/warszawa/warszawa/audi-krotoski-warszawa-p-krynoliny\" class=\"chargepoints-stations-item w-inline-block show\"><div class=\"chargepoints-stations-visual-container\"><div class=\"chargepoints-stations-visual\"><div class=\"chargepoints-stations-visual-inner\"><div class=\"chargepoints-stations-visual-icon location-1\"></div><div class=\"chargepoints-stations-visual-text\"><div class=\"body-m\">Street level</div></div></div></div></div><div class=\"chargepoints-stations-title\"><h3 class=\"xs\">Audi Krotoski Warszawa (P)</h3></div><div class=\"chargepoints-stations-text\"><div class=\"body-m\">7A Krynoliny 03-643</div></div><div class=\"chargepoints-stations-types\" data-connectors=\"true\"><div class=\"charging-point-type\" title=\"TYPE 2\"><div class=\"char-type-1-icon connector-5\"></div><div class=\"char-type-1-num\"><div class=\"char-x-text\">x</div><div class=\"body-s bold\">1</div></div></div><div class=\"charging-point-type\" title=\"CCS2\"><div class=\"char-type-1-icon connector-31\"></div><div class=\"char-type-1-num\"><div class=\"char-x-text\">x</div><div class=\"body-s bold\">1</div></div></div></div></a><a href=\"/en/charging-stations/poland/warszawa/warszawa/seat-vw-dynamica-ogolnodostepne-powiecka\" class=\"chargepoints-stations-item w-inline-block show\"><div class=\"chargepoints-stations-visual-container\"><div class=\"chargepoints-stations-visual\"><div class=\"chargepoints-stations-visual-inner\"><div class=\"chargepoints-stations-visual-icon location-1\"></div><div class=\"chargepoints-stations-visual-text\"><div class=\"body-m\">Street level</div></div></div></div></div><div class=\"chargepoints-stations-title\"><h3 class=\"xs\">SEAT, VW DYNAMICA, OGÓLNODOSTĘPNE</h3></div><div class=\"chargepoints-stations-text\"><div class=\"body-m\">17 Płowiecka 04-501</div></div><div class=\"chargepoints-stations-types\" data-connectors=\"true\"><div class=\"charging-point-type\" title=\"TYPE 2\"><div class=\"char-type-1-icon connector-5\"></div><div class=\"char-type-1-num\"><div class=\"char-x-text\">x</div><div class=\"body-s bold\">1</div></div></div><div class=\"charging-point-type\" title=\"CCS2\"><div class=\"char-type-1-icon connector-31\"></div><div class=\"char-type-1-num\"><div class=\"char-x-text\">x</div><div class=\"body-s bold\">1</div></div></div></div></a><a href=\"/en/charging-stations/poland/warszawa/warszawa/gcz-heliotropow-warszawa-ogolnodostepna-heliotropow\" class=\"chargepoints-stations-item w-inline-block show\"><div class=\"chargepoints-stations-visual-container\"><div class=\"chargepoints-stations-visual\"><div class=\"chargepoints-stations-visual-inner\"><div class=\"chargepoints-stations-visual-icon location-1\"></div><div class=\"chargepoints-stations-visual-text\"><div class=\"body-m\">Street level</div></div></div></div></div><div class=\"chargepoints-stations-title\"><h3 class=\"xs\">GCZ, Heliotropów Warszawa Ogólnodostępna</h3></div><div class=\"chargepoints-stations-text\"><div class=\"body-m\">52 Heliotropów 04-796</div></div><div class=\"chargepoints-stations-types\" data-connectors=\"true\"><div class=\"charging-point-type\" title=\"TYPE 2\"><div class=\"char-type-1-icon connector-5\"></div><div class=\"char-type-1-num\"><div class=\"char-x-text\">x</div><div class=\"body-s bold\">2</div></div></div></div></a><a href=\"/en/charging-stations/poland/warszawa/warszawa/makro-warszawa-aleje-jerozolimskie-popularna\" class=\"chargepoints-stations-item w-inline-block show\"><div class=\"chargepoints-stations-visual-container\"><div class=\"chargepoints-stations-visual\"><div class=\"chargepoints-stations-visual-inner\"><div class=\"chargepoints-stations-visual-icon location-1\"></div><div class=\"chargepoints-stations-visual-text\"><div class=\"body-m\">Street level</div></div></div></div></div><div class=\"chargepoints-stations-title\"><h3 class=\"xs\">Makro Warszawa Aleje Jerozolimskie</h3></div><div class=\"chargepoints-stations-text\"><div class=\"body-m\">184 Popularna 02-473</div></div><div class=\"chargepoints-stations-types\" data-connectors=\"true\"><div class=\"charging-point-type\" title=\"TYPE 2\"><div class=\"char-type-1-icon connector-5\"></div><div class=\"char-type-1-num\"><div class=\"char-x-text\">x</div><div class=\"body-s bold\">2</div></div></div></div></a><a href=\"/en/charging-stations/poland/warszawa/warszawa/makro-warszawa-kolumbijska-kolumbijska\" class=\"chargepoints-stations-item w-inline-block show\"><div class=\"chargepoints-stations-visual-container\"><div class=\"chargepoints-stations-visual\"><div class=\"chargepoints-stations-visual-inner\"><div class=\"chargepoints-stations-visual-icon location-1\"></div><div class=\"chargepoints-stations-visual-text\"><div class=\"body-m\">Street level</div></div></div></div></div><div class=\"chargepoints-stations-title\"><h3 class=\"xs\">Makro Warszawa Kolumbijska</h3></div><div class=\"chargepoints-stations-text\"><div class=\"body-m\">4 Kolumbijska 01-991</div></div><div class=\"chargepoints-stations-types\" data-connectors=\"true\"><div class=\"charging-point-type\" title=\"TYPE 2\"><div class=\"char-type-1-icon connector-5\"></div><div class=\"char-type-1-num\"><div class=\"char-x-text\">x</div><div class=\"body-s bold\">2</div></div></div></div></a><a href=\"/en/charging-stations/poland/warszawa/warszawa/volkswagen-krotoski-warszawa-p-radzyminska\" class=\"chargepoints-stations-item w-inline-block show\"><div class=\"chargepoints-stations-visual-container\"><div class=\"chargepoints-stations-visual\"><div class=\"chargepoints-stations-visual-inner\"><div class=\"chargepoints-stations-visual-icon location-1\"></div><div class=\"chargepoints-stations-visual-text\"><div class=\"body-m\">Street level</div></div></div></div></div><div class=\"chargepoints-stations-title\"><h3 class=\"xs\">Volkswagen Krotoski Warszawa (P)</h3></div><div class=\"chargepoints-stations-text\"><div class=\"body-m\">78 Radzymińska 03-752</div></div><div class=\"chargepoints-stations-types\" data-connectors=\"true\"><div class=\"charging-point-type\" title=\"CCS2\"><div class=\"char-type-1-icon connector-31\"></div><div class=\"char-type-1-num\"><div class=\"char-x-text\">x</div><div class=\"body-s bold\">1</div></div></div><div class=\"charging-point-type\" title=\"TYPE 2\"><div class=\"char-type-1-icon connector-5\"></div><div class=\"char-type-1-num\"><div class=\"char-x-text\">x</div><div class=\"body-s bold\">1</div></div></div></div></a><a href=\"/en/charging-stations/poland/warszawa/warszawa/ztm-pr-poczynska-poczynska\" class=\"chargepoints-stations-item w-inline-block show\"><div class=\"chargepoints-stations-visual-container\"><div class=\"chargepoints-stations-visual\"><div class=\"chargepoints-stations-visual-inner\"><div class=\"chargepoints-stations-visual-icon location-1\"></div><div class=\"chargepoints-stations-visual-text\"><div class=\"body-m\">Street level</div></div></div></div></div><div class=\"chargepoints-stations-title\"><h3 class=\"xs\">ZTM P+R POŁCZYŃSKA</h3></div><div class=\"chargepoints-stations-text\"><div class=\"body-m\">Połczyńska 03</div></div><div class=\"chargepoints-stations-types\" data-connectors=\"true\"><div class=\"charging-point-type\" title=\"TYPE 2\"><div class=\"char-type-1-icon connector-5\"></div><div class=\"char-type-1-num\"><div class=\"char-x-text\">x</div><div class=\"body-s bold\">2</div></div></div></div></a><a href=\"/en/charging-stations/poland/warszawa/warszawa/threeforce-bv-cpo-ztm-metro-ursynow-aleja-komisji-edukacji-narodowej-100-aleja-komisji-edukacji-narodowej\" class=\"chargepoints-stations-item w-inline-block show\"><div class=\"chargepoints-stations-visual-container\"><div class=\"chargepoints-stations-visual\"><div class=\"chargepoints-stations-visual-inner\"><div class=\"chargepoints-stations-visual-icon location-1\"></div><div class=\"chargepoints-stations-visual-text\"><div class=\"body-m\">Street level</div></div></div></div></div><div class=\"chargepoints-stations-title\"><h3 class=\"xs\">Threeforce B.V. (CPO) ZTM METRO URSYNÓW, Aleja Komisji Edukacji Narodowej 100</h3></div><div class=\"chargepoints-stations-text\"><div class=\"body-m\">Aleja Komisji Edukacji Narodowej 02-722</div></div><div class=\"chargepoints-stations-types\" data-connectors=\"true\"><div class=\"charging-point-type\" title=\"TYPE 2\"><div class=\"char-type-1-icon connector-5\"></div><div class=\"char-type-1-num\"><div class=\"char-x-text\">x</div><div class=\"body-s bold\">2</div></div></div></div></a><a href=\"/en/charging-stations/poland/warszawa/warszawa/threeforce-bv-cpo-ztm-pr-wawer-ul-widoczna-2a-widoczna\" class=\"chargepoints-stations-item w-inline-block show\"><div class=\"chargepoints-stations-visual-container\"><div class=\"chargepoints-stations-visual\"><div class=\"chargepoints-stations-visual-inner\"><div class=\"chargepoints-stations-visual-icon location-1\"></div><div class=\"chargepoints-stations-visual-text\"><div class=\"body-m\">Street level</div></div></div></div></div><div class=\"chargepoints-stations-title\"><h3 class=\"xs\">Threeforce B.V. (CPO) ZTM P+R WAWER, ul. Widoczna 2A</h3></div><div class=\"chargepoints-stations-text\"><div class=\"body-m\">71 Widoczna 04-647</div></div><div class=\"chargepoints-stations-types\" data-connectors=\"true\"><div class=\"charging-point-type\" title=\"TYPE 2\"><div class=\"char-type-1-icon connector-5\"></div><div class=\"char-type-1-num\"><div class=\"char-x-text\">x</div><div class=\"body-s bold\">2</div></div></div></div></a><a href=\"/en/charging-stations/poland/warszawa/warszawa/noxo-homepark-targowek-1-malborska\" class=\"chargepoints-stations-item w-inline-block show\"><div class=\"chargepoints-stations-visual-container\"><div class=\"chargepoints-stations-visual\"><div class=\"chargepoints-stations-visual-inner\"><div class=\"chargepoints-stations-visual-icon location-1\"></div><div class=\"chargepoints-stations-visual-text\"><div class=\"body-m\">Street level</div></div></div></div></div><div class=\"chargepoints-stations-title\"><h3 class=\"xs\">NOXO. HOMEPARK Targówek-1</h3></div><div class=\"chargepoints-stations-text\"><div class=\"body-m\">45 Malborska 03-286</div></div><div class=\"chargepoints-stations-types\" data-connectors=\"true\"><div class=\"charging-point-type\" title=\"TYPE 2\"><div class=\"char-type-1-icon connector-5\"></div><div class=\"char-type-1-num\"><div class=\"char-x-text\">x</div><div class=\"body-s bold\">2</div></div></div></div></a><a href=\"/en/charging-stations/poland/warszawa/warszawa/gtc-aeropark-1b-komitetu-obrony-robotnikow\" class=\"chargepoints-stations-item w-inline-block show\"><div class=\"chargepoints-stations-visual-container\"><div class=\"chargepoints-stations-visual\"><div class=\"chargepoints-stations-visual-inner\"><div class=\"chargepoints-stations-visual-icon location-1\"></div><div class=\"chargepoints-stations-visual-text\"><div class=\"body-m\">Street level</div></div></div></div></div><div class=\"chargepoints-stations-title\"><h3 class=\"xs\">GTC Aeropark-1B</h3></div><div class=\"chargepoints-stations-text\"><div class=\"body-m\">45B Komitetu Obrony Robotników 02-146</div></div><div class=\"chargepoints-stations-types\" data-connectors=\"true\"><div class=\"charging-point-type\" title=\"TYPE 2\"><div class=\"char-type-1-icon connector-5\"></div><div class=\"char-type-1-num\"><div class=\"char-x-text\">x</div><div class=\"body-s bold\">2</div></div></div></div></a><a href=\"/en/charging-stations/poland/warszawa/warszawa/okecie-park-warszawa-droga-bez-nazwy\" class=\"chargepoints-stations-item w-inline-block show\"><div class=\"chargepoints-stations-visual-container\"><div class=\"chargepoints-stations-visual\"><div class=\"chargepoints-stations-visual-inner\"><div class=\"chargepoints-stations-visual-icon location-1\"></div><div class=\"chargepoints-stations-visual-text\"><div class=\"body-m\">Street level</div></div></div></div></div><div class=\"chargepoints-stations-title\"><h3 class=\"xs\">Okęcie Park Warszawa</h3></div><div class=\"chargepoints-stations-text\"><div class=\"body-m\">Droga bez nazwy 01-001</div></div><div class=\"chargepoints-stations-types\" data-connectors=\"true\"><div class=\"charging-point-type\" title=\"TYPE 2\"><div class=\"char-type-1-icon connector-5\"></div><div class=\"char-type-1-num\"><div class=\"char-x-text\">x</div><div class=\"body-s bold\">2</div></div></div></div></a><a href=\"/en/charging-stations/poland/warszawa/warszawa/kaufland-bemowo-warszawa-batalionow-chopskich\" class=\"chargepoints-stations-item w-inline-block show\"><div class=\"chargepoints-stations-visual-container\"><div class=\"chargepoints-stations-visual\"><div class=\"chargepoints-stations-visual-inner\"><div class=\"chargepoints-stations-visual-icon location-1\"></div><div class=\"chargepoints-stations-visual-text\"><div class=\"body-m\">Street level</div></div></div></div></div><div class=\"chargepoints-stations-title\"><h3 class=\"xs\">Kaufland Bemowo Warszawa</h3></div><div class=\"chargepoints-stations-text\"><div class=\"body-m\">73 Batalionów Chłopskich 01-374</div></div><div class=\"chargepoints-stations-types\" data-connectors=\"true\"><div class=\"charging-point-type\" title=\"CHAdeMO\"><div class=\"char-type-1-icon connector-4\"></div><div class=\"char-type-1-num\"><div class=\"char-x-text\">x</div><div class=\"body-s bold\">1</div></div></div><div class=\"charging-point-type\" title=\"TYPE 2\"><div class=\"char-type-1-icon connector-5\"></div><div class=\"char-type-1-num\"><div class=\"char-x-text\">x</div><div class=\"body-s bold\">1</div></div></div></div></a><a href=\"/en/charging-stations/poland/warszawa/warszawa/elomoto-deski-1-generaa-mariusza-zaruskiego\" class=\"chargepoints-stations-item w-inline-block show\"><div class=\"chargepoints-stations-visual-container\"><div class=\"chargepoints-stations-visual\"><div class=\"chargepoints-stations-visual-inner\"><div class=\"chargepoints-stations-visual-icon location-1\"></div><div class=\"chargepoints-stations-visual-text\"><div class=\"body-m\">Street level</div></div></div></div></div><div class=\"chargepoints-stations-title\"><h3 class=\"xs\">Elomoto Deski-1</h3></div><div class=\"chargepoints-stations-text\"><div class=\"body-m\">8-10 Generała Mariusza Zaruskiego 00-468</div></div><div class=\"chargepoints-stations-types\" data-connectors=\"true\"><div class=\"charging-point-type\" title=\"TYPE 2\"><div class=\"char-type-1-icon connector-5\"></div><div class=\"char-type-1-num\"><div class=\"char-x-text\">x</div><div class=\"body-s bold\">2</div></div></div></div></a><a href=\"/en/charging-stations/poland/warszawa/warszawa/pr-zeran-1-mietowa\" class=\"chargepoints-stations-item w-inline-block show\"><div class=\"chargepoints-stations-visual-container\"><div class=\"chargepoints-stations-visual\"><div class=\"chargepoints-stations-visual-inner\"><div class=\"chargepoints-stations-visual-icon location-1\"></div><div class=\"chargepoints-stations-visual-text\"><div class=\"body-m\">Street level</div></div></div></div></div><div class=\"chargepoints-stations-title\"><h3 class=\"xs\">P+R Żerań-1</h3></div><div class=\"chargepoints-stations-text\"><div class=\"body-m\">2 Miętowa 03-042</div></div><div class=\"chargepoints-stations-types\" data-connectors=\"true\"><div class=\"charging-point-type\" title=\"TYPE 2\"><div class=\"char-type-1-icon connector-5\"></div><div class=\"char-type-1-num\"><div class=\"char-x-text\">x</div><div class=\"body-s bold\">2</div></div></div></div></a><a href=\"/en/charging-stations/poland/warszawa/warszawa/porsche-poczynska-118a-salon-volkswagen-ac-1a-poczynska\" class=\"chargepoints-stations-item w-inline-block show\"><div class=\"chargepoints-stations-visual-container\"><div class=\"chargepoints-stations-visual\"><div class=\"chargepoints-stations-visual-inner\"><div class=\"chargepoints-stations-visual-icon location-1\"></div><div class=\"chargepoints-stations-visual-text\"><div class=\"body-m\">Street level</div></div></div></div></div><div class=\"chargepoints-stations-title\"><h3 class=\"xs\">Porsche Połczyńska 118A Salon Volkswagen AC-1A</h3></div><div class=\"chargepoints-stations-text\"><div class=\"body-m\">118A Połczyńska 01-304</div></div><div class=\"chargepoints-stations-types\" data-connectors=\"true\"><div class=\"charging-point-type\" title=\"CCS2\"><div class=\"char-type-1-icon connector-31\"></div><div class=\"char-type-1-num\"><div class=\"char-x-text\">x</div><div class=\"body-s bold\">1</div></div></div><div class=\"charging-point-type\" title=\"TYPE 2\"><div class=\"char-type-1-icon connector-5\"></div><div class=\"char-type-1-num\"><div class=\"char-x-text\">x</div><div class=\"body-s bold\">1</div></div></div></div></a><a href=\"/en/charging-stations/poland/warszawa/warszawa/sgh-parking-wewnetrzny-1a-droga-bez-nazwy\" class=\"chargepoints-stations-item w-inline-block show\"><div class=\"chargepoints-stations-visual-container\"><div class=\"chargepoints-stations-visual\"><div class=\"chargepoints-stations-visual-inner\"><div class=\"chargepoints-stations-visual-icon location-1\"></div><div class=\"chargepoints-stations-visual-text\"><div class=\"body-m\">Street level</div></div></div></div></div><div class=\"chargepoints-stations-title\"><h3 class=\"xs\">SGH Parking wewnętrzny-1A</h3></div><div class=\"chargepoints-stations-text\"><div class=\"body-m\">Droga bez nazwy 02-521</div></div><div class=\"chargepoints-stations-types\" data-connectors=\"true\"><div class=\"charging-point-type\" title=\"TYPE 2\"><div class=\"char-type-1-icon connector-5\"></div><div class=\"char-type-1-num\"><div class=\"char-x-text\">x</div><div class=\"body-s bold\">2</div></div></div></div></a><a href=\"/en/charging-stations/poland/warszawa/warszawa/sgh-parking-g-2a-aleja-niepodlegosci\" class=\"chargepoints-stations-item w-inline-block show\"><div class=\"chargepoints-stations-visual-container\"><div class=\"chargepoints-stations-visual\"><div class=\"chargepoints-stations-visual-inner\"><div class=\"chargepoints-stations-visual-icon location-1\"></div><div class=\"chargepoints-stations-visual-text\"><div class=\"body-m\">Street level</div></div></div></div></div><div class=\"chargepoints-stations-title\"><h3 class=\"xs\">SGH Parking G-2A</h3></div><div class=\"chargepoints-stations-text\"><div class=\"body-m\">162 Aleja Niepodległości 02-521</div></div><div class=\"chargepoints-stations-types\" data-connectors=\"true\"><div class=\"charging-point-type\" title=\"TYPE 2\"><div class=\"char-type-1-icon connector-5\"></div><div class=\"char-type-1-num\"><div class=\"char-x-text\">x</div><div class=\"body-s bold\">2</div></div></div></div></a><a href=\"/en/charging-stations/poland/warszawa/warszawa/ws2-ac-post-02-a-aleje-jerozolimskie\" class=\"chargepoints-stations-item w-inline-block show\"><div class=\"chargepoints-stations-visual-container\"><div class=\"chargepoints-stations-visual\"><div class=\"chargepoints-stations-visual-inner\"><div class=\"chargepoints-stations-visual-icon location-1\"></div><div class=\"chargepoints-stations-visual-text\"><div class=\"body-m\">Street level</div></div></div></div></div><div class=\"chargepoints-stations-title\"><h3 class=\"xs\">WS2-AC-Post-02-A</h3></div><div class=\"chargepoints-stations-text\"><div class=\"body-m\">142b Aleje Jerozolimskie 02-305</div></div><div class=\"chargepoints-stations-types\" data-connectors=\"true\"><div class=\"charging-point-type\" title=\"TYPE 2\"><div class=\"char-type-1-icon connector-5\"></div><div class=\"char-type-1-num\"><div class=\"char-x-text\">x</div><div class=\"body-s bold\">2</div></div></div></div></a><a href=\"/en/charging-stations/poland/warszawa/warszawa/globalworth-wtt-1a-chodna\" class=\"chargepoints-stations-item w-inline-block show\"><div class=\"chargepoints-stations-visual-container\"><div class=\"chargepoints-stations-visual\"><div class=\"chargepoints-stations-visual-inner\"><div class=\"chargepoints-stations-visual-icon location-1\"></div><div class=\"chargepoints-stations-visual-text\"><div class=\"body-m\">Street level</div></div></div></div></div><div class=\"chargepoints-stations-title\"><h3 class=\"xs\">Globalworth WTT-1A</h3></div><div class=\"chargepoints-stations-text\"><div class=\"body-m\">62 Chłodna 00-872</div></div><div class=\"chargepoints-stations-types\" data-connectors=\"true\"><div class=\"charging-point-type\" title=\"TYPE 2\"><div class=\"char-type-1-icon connector-5\"></div><div class=\"char-type-1-num\"><div class=\"char-x-text\">x</div><div class=\"body-s bold\">2</div></div></div></div></a><a href=\"/en/charging-stations/poland/warszawa/warszawa/crown-square-1a-1a-przyokopowa\" class=\"chargepoints-stations-item w-inline-block show\"><div class=\"chargepoints-stations-visual-container\"><div class=\"chargepoints-stations-visual\"><div class=\"chargepoints-stations-visual-inner\"><div class=\"chargepoints-stations-visual-icon location-1\"></div><div class=\"chargepoints-stations-visual-text\"><div class=\"body-m\">Street level</div></div></div></div></div><div class=\"chargepoints-stations-title\"><h3 class=\"xs\">Crown Square 1A-1A</h3></div><div class=\"chargepoints-stations-text\"><div class=\"body-m\">31 Przyokopowa 01-208</div></div><div class=\"chargepoints-stations-types\" data-connectors=\"true\"><div class=\"charging-point-type\" title=\"TYPE 2\"><div class=\"char-type-1-icon connector-5\"></div><div class=\"char-type-1-num\"><div class=\"char-x-text\">x</div><div class=\"body-s bold\">2</div></div></div></div></a><a href=\"/en/charging-stations/poland/warszawa/warszawa/pr-m-mociny-iiistacja-nr-1-1-jana-kasprowicza\" class=\"chargepoints-stations-item w-inline-block show\"><div class=\"chargepoints-stations-visual-container\"><div class=\"chargepoints-stations-visual\"><div class=\"chargepoints-stations-visual-inner\"><div class=\"chargepoints-stations-visual-icon location-1\"></div><div class=\"chargepoints-stations-visual-text\"><div class=\"body-m\">Street level</div></div></div></div></div><div class=\"chargepoints-stations-title\"><h3 class=\"xs\">P+R M. Młociny III/Stacja nr 1-1</h3></div><div class=\"chargepoints-stations-text\"><div class=\"body-m\">119 Jana Kasprowicza 01-949</div></div><div class=\"chargepoints-stations-types\" data-connectors=\"true\"><div class=\"charging-point-type\" title=\"TYPE 2\"><div class=\"char-type-1-icon connector-5\"></div><div class=\"char-type-1-num\"><div class=\"char-x-text\">x</div><div class=\"body-s bold\">2</div></div></div></div></a><a href=\"/en/charging-stations/poland/warszawa/warszawa/undefined-mrowcza\" class=\"chargepoints-stations-item w-inline-block show\"><div class=\"chargepoints-stations-visual-container\"><div class=\"chargepoints-stations-visual\"><div class=\"chargepoints-stations-visual-inner\"><div class=\"chargepoints-stations-visual-icon location-1\"></div><div class=\"chargepoints-stations-visual-text\"><div class=\"body-m\">Street level</div></div></div></div></div><div class=\"chargepoints-stations-title\"><h3 class=\"xs\">undefined</h3></div><div class=\"chargepoints-stations-text\"><div class=\"body-m\">108 Mrówcza 04-697</div></div><div class=\"chargepoints-stations-types\" data-connectors=\"true\"><div class=\"charging-point-type\" title=\"TYPE 2\"><div class=\"char-type-1-icon connector-5\"></div><div class=\"char-type-1-num\"><div class=\"char-x-text\">x</div><div class=\"body-s bold\">2</div></div></div></div></a><a href=\"/en/charging-stations/poland/warszawa/warszawa/undefined-zwierzyniecka\" class=\"chargepoints-stations-item w-inline-block show\"><div class=\"chargepoints-stations-visual-container\"><div class=\"chargepoints-stations-visual\"><div class=\"chargepoints-stations-visual-inner\"><div class=\"chargepoints-stations-visual-icon location-1\"></div><div class=\"chargepoints-stations-visual-text\"><div class=\"body-m\">Street level</div></div></div></div></div><div class=\"chargepoints-stations-title\"><h3 class=\"xs\">undefined</h3></div><div class=\"chargepoints-stations-text\"><div class=\"body-m\">17 Zwierzyniecka 00-719</div></div><div class=\"chargepoints-stations-types\" data-connectors=\"true\"><div class=\"charging-point-type\" title=\"TYPE 2\"><div class=\"char-type-1-icon connector-5\"></div><div class=\"char-type-1-num\"><div class=\"char-x-text\">x</div><div class=\"body-s bold\">2</div></div></div></div></a><a href=\"/en/charging-stations/poland/warszawa/warszawa/gcz-wilanow-ogolnodostepna-rondo-jawaharlara-nehru\" class=\"chargepoints-stations-item w-inline-block show\"><div class=\"chargepoints-stations-visual-container\"><div class=\"chargepoints-stations-visual\"><div class=\"chargepoints-stations-visual-inner\"><div class=\"chargepoints-stations-visual-icon location-1\"></div><div class=\"chargepoints-stations-visual-text\"><div class=\"body-m\">Street level</div></div></div></div></div><div class=\"chargepoints-stations-title\"><h3 class=\"xs\">GCZ Wilanów Ogólnodostępna</h3></div><div class=\"chargepoints-stations-text\"><div class=\"body-m\">24 rondo Jawaharlara Nehru 02-968</div></div><div class=\"chargepoints-stations-types\" data-connectors=\"true\"><div class=\"charging-point-type\" title=\"TYPE 2\"><div class=\"char-type-1-icon connector-5\"></div><div class=\"char-type-1-num\"><div class=\"char-x-text\">x</div><div class=\"body-s bold\">1</div></div></div><div class=\"charging-point-type\" title=\"CCS2\"><div class=\"char-type-1-icon connector-31\"></div><div class=\"char-type-1-num\"><div class=\"char-x-text\">x</div><div class=\"body-s bold\">1</div></div></div></div></a><a href=\"/en/charging-stations/poland/warszawa/warszawa/auto-blak-farbiarska\" class=\"chargepoints-stations-item w-inline-block show\"><div class=\"chargepoints-stations-visual-container\"><div class=\"chargepoints-stations-visual\"><div class=\"chargepoints-stations-visual-inner\"><div class=\"chargepoints-stations-visual-icon location-1\"></div><div class=\"chargepoints-stations-visual-text\"><div class=\"body-m\">Street level</div></div></div></div></div><div class=\"chargepoints-stations-title\"><h3 class=\"xs\">AUTO BLAK</h3></div><div class=\"chargepoints-stations-text\"><div class=\"body-m\">25A Farbiarska 02-867</div></div><div class=\"chargepoints-stations-types\" data-connectors=\"true\"><div class=\"charging-point-type\" title=\"TYPE 2\"><div class=\"char-type-1-icon connector-5\"></div><div class=\"char-type-1-num\"><div class=\"char-x-text\">x</div><div class=\"body-s bold\">1</div></div></div><div class=\"charging-point-type\" title=\"CCS2\"><div class=\"char-type-1-icon connector-31\"></div><div class=\"char-type-1-num\"><div class=\"char-x-text\">x</div><div class=\"body-s bold\">1</div></div></div></div></a><a href=\"/en/charging-stations/poland/warszawa/warszawa/evpluskkjye0kj03-izecka\" class=\"chargepoints-stations-item w-inline-block show\"><div class=\"chargepoints-stations-visual-container\"><div class=\"chargepoints-stations-visual\"><div class=\"chargepoints-stations-visual-inner\"><div class=\"chargepoints-stations-visual-icon location-1\"></div><div class=\"chargepoints-stations-visual-text\"><div class=\"body-m\">Street level</div></div></div></div></div><div class=\"chargepoints-stations-title\"><h3 class=\"xs\">EVPlus/kKjYe0kj03</h3></div><div class=\"chargepoints-stations-text\"><div class=\"body-m\">16b Iłżecka 02-135</div></div><div class=\"chargepoints-stations-types\" data-connectors=\"true\"><div class=\"charging-point-type\" title=\"TYPE 2\"><div class=\"char-type-1-icon connector-5\"></div><div class=\"char-type-1-num\"><div class=\"char-x-text\">x</div><div class=\"body-s bold\">2</div></div></div></div></a><a href=\"/en/charging-stations/poland/warszawa/warszawa/evpluskmj6pz0ezn-zwirki-i-wigury\" class=\"chargepoints-stations-item w-inline-block show\"><div class=\"chargepoints-stations-visual-container\"><div class=\"chargepoints-stations-visual\"><div class=\"chargepoints-stations-visual-inner\"><div class=\"chargepoints-stations-visual-icon location-1\"></div><div class=\"chargepoints-stations-visual-text\"><div class=\"body-m\">Street level</div></div></div></div></div><div class=\"chargepoints-stations-title\"><h3 class=\"xs\">EVPlus/KMj6pZ0EzN</h3></div><div class=\"chargepoints-stations-text\"><div class=\"body-m\">18 Żwirki i Wigury 02-143</div></div><div class=\"chargepoints-stations-types\" data-connectors=\"true\"><div class=\"charging-point-type\" title=\"TYPE 2\"><div class=\"char-type-1-icon connector-5\"></div><div class=\"char-type-1-num\"><div class=\"char-x-text\">x</div><div class=\"body-s bold\">2</div></div></div></div></a><a href=\"/en/charging-stations/poland/warszawa/warszawa/powerstop-warszawa-jerozolimskie-p-aleje-jerozolimskie\" class=\"chargepoints-stations-item w-inline-block show\"><div class=\"chargepoints-stations-visual-container\"><div class=\"chargepoints-stations-visual\"><div class=\"chargepoints-stations-visual-inner\"><div class=\"chargepoints-stations-visual-icon location-1\"></div><div class=\"chargepoints-stations-visual-text\"><div class=\"body-m\">Street level</div></div></div></div></div><div class=\"chargepoints-stations-title\"><h3 class=\"xs\">Powerstop - Warszawa Jerozolimskie (P)</h3></div><div class=\"chargepoints-stations-text\"><div class=\"body-m\">Aleje Jerozolimskie 05-816</div></div><div class=\"chargepoints-stations-types\" data-connectors=\"true\"><div class=\"charging-point-type\" title=\"TYPE 2\"><div class=\"char-type-1-icon connector-5\"></div><div class=\"char-type-1-num\"><div class=\"char-x-text\">x</div><div class=\"body-s bold\">2</div></div></div></div></a><a href=\"/en/charging-stations/poland/warszawa/warszawa/eon-warsaw-hub-4-rondo-daszynskiego\" class=\"chargepoints-stations-item w-inline-block show\"><div class=\"chargepoints-stations-visual-container\"><div class=\"chargepoints-stations-visual\"><div class=\"chargepoints-stations-visual-inner\"><div class=\"chargepoints-stations-visual-icon location-1\"></div><div class=\"chargepoints-stations-visual-text\"><div class=\"body-m\">Street level</div></div></div></div></div><div class=\"chargepoints-stations-title\"><h3 class=\"xs\">E.ON Warsaw Hub [4]</h3></div><div class=\"chargepoints-stations-text\"><div class=\"body-m\">2a rondo Daszyńskiego 00-001</div></div><div class=\"chargepoints-stations-types\" data-connectors=\"true\"><div class=\"charging-point-type\" title=\"TYPE 2\"><div class=\"char-type-1-icon connector-5\"></div><div class=\"char-type-1-num\"><div class=\"char-x-text\">x</div><div class=\"body-s bold\">2</div></div></div></div></a><a href=\"/en/charging-stations/poland/warszawa/warszawa/eon-warsaw-hub-5-rondo-daszynskiego\" class=\"chargepoints-stations-item w-inline-block show\"><div class=\"chargepoints-stations-visual-container\"><div class=\"chargepoints-stations-visual\"><div class=\"chargepoints-stations-visual-inner\"><div class=\"chargepoints-stations-visual-icon location-1\"></div><div class=\"chargepoints-stations-visual-text\"><div class=\"body-m\">Street level</div></div></div></div></div><div class=\"chargepoints-stations-title\"><h3 class=\"xs\">E.ON Warsaw Hub [5]</h3></div><div class=\"chargepoints-stations-text\"><div class=\"body-m\">2a rondo Daszyńskiego 00-001</div></div><div class=\"chargepoints-stations-types\" data-connectors=\"true\"><div class=\"charging-point-type\" title=\"TYPE 2\"><div class=\"char-type-1-icon connector-5\"></div><div class=\"char-type-1-num\"><div class=\"char-x-text\">x</div><div class=\"body-s bold\">2</div></div></div></div></a><a href=\"/en/charging-stations/poland/warszawa/warszawa/eon-warsaw-hub-6-rondo-daszynskiego\" class=\"chargepoints-stations-item w-inline-block show\"><div class=\"chargepoints-stations-visual-container\"><div class=\"chargepoints-stations-visual\"><div class=\"chargepoints-stations-visual-inner\"><div class=\"chargepoints-stations-visual-icon location-1\"></div><div class=\"chargepoints-stations-visual-text\"><div class=\"body-m\">Street level</div></div></div></div></div><div class=\"chargepoints-stations-title\"><h3 class=\"xs\">E.ON Warsaw Hub [6]</h3></div><div class=\"chargepoints-stations-text\"><div class=\"body-m\">2a rondo Daszyńskiego 00-001</div></div><div class=\"chargepoints-stations-types\" data-connectors=\"true\"><div class=\"charging-point-type\" title=\"TYPE 2\"><div class=\"char-type-1-icon connector-5\"></div><div class=\"char-type-1-num\"><div class=\"char-x-text\">x</div><div class=\"body-s bold\">2</div></div></div></div></a><a href=\"/en/charging-stations/poland/warszawa/warszawa/eon-warsaw-hub-1-rondo-daszynskiego\" class=\"chargepoints-stations-item w-inline-block show\"><div class=\"chargepoints-stations-visual-container\"><div class=\"chargepoints-stations-visual\"><div class=\"chargepoints-stations-visual-inner\"><div class=\"chargepoints-stations-visual-icon location-1\"></div><div class=\"chargepoints-stations-visual-text\"><div class=\"body-m\">Street level</div></div></div></div></div><div class=\"chargepoints-stations-title\"><h3 class=\"xs\">E.ON Warsaw Hub [1]</h3></div><div class=\"chargepoints-stations-text\"><div class=\"body-m\">2a rondo Daszyńskiego 00-001</div></div><div class=\"chargepoints-stations-types\" data-connectors=\"true\"><div class=\"charging-point-type\" title=\"TYPE 2\"><div class=\"char-type-1-icon connector-5\"></div><div class=\"char-type-1-num\"><div class=\"char-x-text\">x</div><div class=\"body-s bold\">2</div></div></div></div></a><a href=\"/en/charging-stations/poland/warszawa/warszawa/eon-warsaw-hub-2-rondo-daszynskiego\" class=\"chargepoints-stations-item w-inline-block show\"><div class=\"chargepoints-stations-visual-container\"><div class=\"chargepoints-stations-visual\"><div class=\"chargepoints-stations-visual-inner\"><div class=\"chargepoints-stations-visual-icon location-1\"></div><div class=\"chargepoints-stations-visual-text\"><div class=\"body-m\">Street level</div></div></div></div></div><div class=\"chargepoints-stations-title\"><h3 class=\"xs\">E.ON Warsaw Hub [2]</h3></div><div class=\"chargepoints-stations-text\"><div class=\"body-m\">2a rondo Daszyńskiego 00-001</div></div><div class=\"chargepoints-stations-types\" data-connectors=\"true\"><div class=\"charging-point-type\" title=\"TYPE 2\"><div class=\"char-type-1-icon connector-5\"></div><div class=\"char-type-1-num\"><div class=\"char-x-text\">x</div><div class=\"body-s bold\">2</div></div></div></div></a><a href=\"/en/charging-stations/poland/warszawa/warszawa/eon-warsaw-hub-3-rondo-daszynskiego\" class=\"chargepoints-stations-item w-inline-block show\"><div class=\"chargepoints-stations-visual-container\"><div class=\"chargepoints-stations-visual\"><div class=\"chargepoints-stations-visual-inner\"><div class=\"chargepoints-stations-visual-icon location-1\"></div><div class=\"chargepoints-stations-visual-text\"><div class=\"body-m\">Street level</div></div></div></div></div><div class=\"chargepoints-stations-title\"><h3 class=\"xs\">E.ON Warsaw Hub [3]</h3></div><div class=\"chargepoints-stations-text\"><div class=\"body-m\">2a rondo Daszyńskiego 00-001</div></div><div class=\"chargepoints-stations-types\" data-connectors=\"true\"><div class=\"charging-point-type\" title=\"TYPE 2\"><div class=\"char-type-1-icon connector-5\"></div><div class=\"char-type-1-num\"><div class=\"char-x-text\">x</div><div class=\"body-s bold\">2</div></div></div></div></a><a href=\"/en/charging-stations/poland/warszawa/warszawa/eon-browary-warszawskie-1-krochmalna\" class=\"chargepoints-stations-item w-inline-block show\"><div class=\"chargepoints-stations-visual-container\"><div class=\"chargepoints-stations-visual\"><div class=\"chargepoints-stations-visual-inner\"><div class=\"chargepoints-stations-visual-icon location-1\"></div><div class=\"chargepoints-stations-visual-text\"><div class=\"body-m\">Street level</div></div></div></div></div><div class=\"chargepoints-stations-title\"><h3 class=\"xs\">E.ON Browary Warszawskie [1]</h3></div><div class=\"chargepoints-stations-text\"><div class=\"body-m\">61 Krochmalna 00-864</div></div><div class=\"chargepoints-stations-types\" data-connectors=\"true\"><div class=\"charging-point-type\" title=\"TYPE 2\"><div class=\"char-type-1-icon connector-5\"></div><div class=\"char-type-1-num\"><div class=\"char-x-text\">x</div><div class=\"body-s bold\">2</div></div></div></div></a><a href=\"/en/charging-stations/poland/warszawa/warszawa/eon-browary-warszawskie-2-krochmalna\" class=\"chargepoints-stations-item w-inline-block show\"><div class=\"chargepoints-stations-visual-container\"><div class=\"chargepoints-stations-visual\"><div class=\"chargepoints-stations-visual-inner\"><div class=\"chargepoints-stations-visual-icon location-1\"></div><div class=\"chargepoints-stations-visual-text\"><div class=\"body-m\">Street level</div></div></div></div></div><div class=\"chargepoints-stations-title\"><h3 class=\"xs\">E.ON Browary Warszawskie [2]</h3></div><div class=\"chargepoints-stations-text\"><div class=\"body-m\">61 Krochmalna 00-864</div></div><div class=\"chargepoints-stations-types\" data-connectors=\"true\"><div class=\"charging-point-type\" title=\"TYPE 2\"><div class=\"char-type-1-icon connector-5\"></div><div class=\"char-type-1-num\"><div class=\"char-x-text\">x</div><div class=\"body-s bold\">2</div></div></div></div></a><a href=\"/en/charging-stations/poland/warszawa/warszawa/eon-warsaw-towers-sienna\" class=\"chargepoints-stations-item w-inline-block show\"><div class=\"chargepoints-stations-visual-container\"><div class=\"chargepoints-stations-visual\"><div class=\"chargepoints-stations-visual-inner\"><div class=\"chargepoints-stations-visual-icon location-1\"></div><div class=\"chargepoints-stations-visual-text\"><div class=\"body-m\">Street level</div></div></div></div></div><div class=\"chargepoints-stations-title\"><h3 class=\"xs\">E.ON Warsaw Towers</h3></div><div class=\"chargepoints-stations-text\"><div class=\"body-m\">39 Sienna 00-121</div></div><div class=\"chargepoints-stations-types\" data-connectors=\"true\"><div class=\"charging-point-type\" title=\"TYPE 2\"><div class=\"char-type-1-icon connector-5\"></div><div class=\"char-type-1-num\"><div class=\"char-x-text\">x</div><div class=\"body-s bold\">2</div></div></div></div></a><a href=\"/en/charging-stations/poland/warszawa/warszawa/eon-warsaw-spire-1-plac-europejski\" class=\"chargepoints-stations-item w-inline-block show\"><div class=\"chargepoints-stations-visual-container\"><div class=\"chargepoints-stations-visual\"><div class=\"chargepoints-stations-visual-inner\"><div class=\"chargepoints-stations-visual-icon location-1\"></div><div class=\"chargepoints-stations-visual-text\"><div class=\"body-m\">Street level</div></div></div></div></div><div class=\"chargepoints-stations-title\"><h3 class=\"xs\">E.ON Warsaw Spire  [1]</h3></div><div class=\"chargepoints-stations-text\"><div class=\"body-m\">4 plac Europejski 00-842</div></div><div class=\"chargepoints-stations-types\" data-connectors=\"true\"><div class=\"charging-point-type\" title=\"TYPE 2\"><div class=\"char-type-1-icon connector-5\"></div><div class=\"char-type-1-num\"><div class=\"char-x-text\">x</div><div class=\"body-s bold\">2</div></div></div></div></a><a href=\"/en/charging-stations/poland/warszawa/warszawa/eon-warsaw-spire-2-plac-europejski\" class=\"chargepoints-stations-item w-inline-block show\"><div class=\"chargepoints-stations-visual-container\"><div class=\"chargepoints-stations-visual\"><div class=\"chargepoints-stations-visual-inner\"><div class=\"chargepoints-stations-visual-icon location-1\"></div><div class=\"chargepoints-stations-visual-text\"><div class=\"body-m\">Street level</div></div></div></div></div><div class=\"chargepoints-stations-title\"><h3 class=\"xs\">E.ON Warsaw Spire [2]</h3></div><div class=\"chargepoints-stations-text\"><div class=\"body-m\">4 plac Europejski 00-842</div></div><div class=\"chargepoints-stations-types\" data-connectors=\"true\"><div class=\"charging-point-type\" title=\"TYPE 2\"><div class=\"char-type-1-icon connector-5\"></div><div class=\"char-type-1-num\"><div class=\"char-x-text\">x</div><div class=\"body-s bold\">2</div></div></div></div></a><a href=\"/en/charging-stations/poland/warszawa/warszawa/eon-warsaw-spire-3-plac-europejski\" class=\"chargepoints-stations-item w-inline-block show\"><div class=\"chargepoints-stations-visual-container\"><div class=\"chargepoints-stations-visual\"><div class=\"chargepoints-stations-visual-inner\"><div class=\"chargepoints-stations-visual-icon location-1\"></div><div class=\"chargepoints-stations-visual-text\"><div class=\"body-m\">Street level</div></div></div></div></div><div class=\"chargepoints-stations-title\"><h3 class=\"xs\">E.ON Warsaw Spire  [3]</h3></div><div class=\"chargepoints-stations-text\"><div class=\"body-m\">4 plac Europejski 00-842</div></div><div class=\"chargepoints-stations-types\" data-connectors=\"true\"><div class=\"charging-point-type\" title=\"TYPE 2\"><div class=\"char-type-1-icon connector-5\"></div><div class=\"char-type-1-num\"><div class=\"char-x-text\">x</div><div class=\"body-s bold\">2</div></div></div></div></a><a href=\"/en/charging-stations/poland/warszawa/warszawa/eon-prologis-park-staniewicka\" class=\"chargepoints-stations-item w-inline-block show\"><div class=\"chargepoints-stations-visual-container\"><div class=\"chargepoints-stations-visual\"><div class=\"chargepoints-stations-visual-inner\"><div class=\"chargepoints-stations-visual-icon location-1\"></div><div class=\"chargepoints-stations-visual-text\"><div class=\"body-m\">Street level</div></div></div></div></div><div class=\"chargepoints-stations-title\"><h3 class=\"xs\">E.ON Prologis Park</h3></div><div class=\"chargepoints-stations-text\"><div class=\"body-m\">16A Staniewicka 03-310</div></div><div class=\"chargepoints-stations-types\" data-connectors=\"true\"><div class=\"charging-point-type\" title=\"TYPE 2\"><div class=\"char-type-1-icon connector-5\"></div><div class=\"char-type-1-num\"><div class=\"char-x-text\">x</div><div class=\"body-s bold\">2</div></div></div></div></a><a href=\"/en/charging-stations/poland/warszawa/warszawa/eon-siedziba-innogy-polska-sa-1-wybrzeze-kosciuszkowskie\" class=\"chargepoints-stations-item w-inline-block show\"><div class=\"chargepoints-stations-visual-container\"><div class=\"chargepoints-stations-visual\"><div class=\"chargepoints-stations-visual-inner\"><div class=\"chargepoints-stations-visual-icon location-1\"></div><div class=\"chargepoints-stations-visual-text\"><div class=\"body-m\">Street level</div></div></div></div></div><div class=\"chargepoints-stations-title\"><h3 class=\"xs\">E.ON Siedziba innogy Polska S.A. [1]</h3></div><div class=\"chargepoints-stations-text\"><div class=\"body-m\">41p Wybrzeże Kościuszkowskie 00-346</div></div><div class=\"chargepoints-stations-types\" data-connectors=\"true\"><div class=\"charging-point-type\" title=\"TYPE 2\"><div class=\"char-type-1-icon connector-5\"></div><div class=\"char-type-1-num\"><div class=\"char-x-text\">x</div><div class=\"body-s bold\">2</div></div></div></div></a><a href=\"/en/charging-stations/poland/warszawa/warszawa/eon-siedziba-innogy-polska-sa-2-wybrzeze-kosciuszkowskie\" class=\"chargepoints-stations-item w-inline-block show\"><div class=\"chargepoints-stations-visual-container\"><div class=\"chargepoints-stations-visual\"><div class=\"chargepoints-stations-visual-inner\"><div class=\"chargepoints-stations-visual-icon location-1\"></div><div class=\"chargepoints-stations-visual-text\"><div class=\"body-m\">Street level</div></div></div></div></div><div class=\"chargepoints-stations-title\"><h3 class=\"xs\">E.ON Siedziba innogy Polska S.A. [2]</h3></div><div class=\"chargepoints-stations-text\"><div class=\"body-m\">41p Wybrzeże Kościuszkowskie 00-346</div></div><div class=\"chargepoints-stations-types\" data-connectors=\"true\"><div class=\"charging-point-type\" title=\"TYPE 2\"><div class=\"char-type-1-icon connector-5\"></div><div class=\"char-type-1-num\"><div class=\"char-x-text\">x</div><div class=\"body-s bold\">2</div></div></div></div></a><a href=\"/en/charging-stations/poland/warszawa/warszawa/bobrowiecka-6-zwierzyniecka\" class=\"chargepoints-stations-item w-inline-block show\"><div class=\"chargepoints-stations-visual-container\"><div class=\"chargepoints-stations-visual\"><div class=\"chargepoints-stations-visual-inner\"><div class=\"chargepoints-stations-visual-icon location-1\"></div><div class=\"chargepoints-stations-visual-text\"><div class=\"body-m\">Street level</div></div></div></div></div><div class=\"chargepoints-stations-title\"><h3 class=\"xs\">Bobrowiecka 6</h3></div><div class=\"chargepoints-stations-text\"><div class=\"body-m\">17 Zwierzyniecka 00-719</div></div><div class=\"chargepoints-stations-types\" data-connectors=\"true\"><div class=\"charging-point-type\" title=\"TYPE 2\"><div class=\"char-type-1-icon connector-5\"></div><div class=\"char-type-1-num\"><div class=\"char-x-text\">x</div><div class=\"body-s bold\">2</div></div></div></div></a><a href=\"/en/charging-stations/poland/warszawa/warszawa/mrowcza-218-mrowcza\" class=\"chargepoints-stations-item w-inline-block show\"><div class=\"chargepoints-stations-visual-container\"><div class=\"chargepoints-stations-visual\"><div class=\"chargepoints-stations-visual-inner\"><div class=\"chargepoints-stations-visual-icon location-1\"></div><div class=\"chargepoints-stations-visual-text\"><div class=\"body-m\">Street level</div></div></div></div></div><div class=\"chargepoints-stations-title\"><h3 class=\"xs\">Mrówcza 218</h3></div><div class=\"chargepoints-stations-text\"><div class=\"body-m\">108 Mrówcza 04-697</div></div><div class=\"chargepoints-stations-types\" data-connectors=\"true\"><div class=\"charging-point-type\" title=\"TYPE 2\"><div class=\"char-type-1-icon connector-5\"></div><div class=\"char-type-1-num\"><div class=\"char-x-text\">x</div><div class=\"body-s bold\">2</div></div></div></div></a><a href=\"/en/charging-stations/poland/warszawa/warszawa/four-points-by-sheraton-warszawa-mokotow-p-konstruktorska\" class=\"chargepoints-stations-item w-inline-block show\"><div class=\"chargepoints-stations-visual-container\"><div class=\"chargepoints-stations-visual\"><div class=\"chargepoints-stations-visual-inner\"><div class=\"chargepoints-stations-visual-icon location-1\"></div><div class=\"chargepoints-stations-visual-text\"><div class=\"body-m\">Street level</div></div></div></div></div><div class=\"chargepoints-stations-title\"><h3 class=\"xs\">Four Points by Sheraton Warszawa Mokotów (P)</h3></div><div class=\"chargepoints-stations-text\"><div class=\"body-m\">10c Konstruktorska 02-673</div></div><div class=\"chargepoints-stations-types\" data-connectors=\"true\"><div class=\"charging-point-type\" title=\"TYPE 2\"><div class=\"char-type-1-icon connector-5\"></div><div class=\"char-type-1-num\"><div class=\"char-x-text\">x</div><div class=\"body-s bold\">2</div></div></div></div></a><a href=\"/en/charging-stations/poland/warszawa/warszawa/supercharger-warsaw-poland-belwederska\" class=\"chargepoints-stations-item w-inline-block show\"><div class=\"chargepoints-stations-visual-container\"><div class=\"chargepoints-stations-visual\"><div class=\"chargepoints-stations-visual-inner\"><div class=\"chargepoints-stations-visual-icon location-1\"></div><div class=\"chargepoints-stations-visual-text\"><div class=\"body-m\">Street level</div></div></div></div></div><div class=\"chargepoints-stations-title\"><h3 class=\"xs\">Supercharger Warsaw, Poland</h3></div><div class=\"chargepoints-stations-text\"><div class=\"body-m\">Belwederska 00-594</div></div><div class=\"chargepoints-stations-types\" data-connectors=\"true\"><div class=\"charging-point-type\" title=\"Tesla Supercharger\"><div class=\"char-type-1-icon connector-12\"></div><div class=\"char-type-1-num\"><div class=\"char-x-text\">x</div><div class=\"body-s bold\">2</div></div></div></div></a><a href=\"/en/charging-stations/poland/warszawa/warszawa/rwe-polska-wodarzewska\" class=\"chargepoints-stations-item w-inline-block show\"><div class=\"chargepoints-stations-visual-container\"><div class=\"chargepoints-stations-visual\"><div class=\"chargepoints-stations-visual-inner\"><div class=\"chargepoints-stations-visual-icon location-1\"></div><div class=\"chargepoints-stations-visual-text\"><div class=\"body-m\">Street level</div></div></div></div></div><div class=\"chargepoints-stations-title\"><h3 class=\"xs\">RWE Polska</h3></div><div class=\"chargepoints-stations-text\"><div class=\"body-m\">77 Włodarzewska 02-393</div></div><div class=\"chargepoints-stations-types\" data-connectors=\"true\"><div class=\"charging-point-type\" title=\"TYPE 2\"><div class=\"char-type-1-icon connector-5\"></div><div class=\"char-type-1-num\"><div class=\"char-x-text\">x</div><div class=\"body-s bold\">2</div></div></div></div></a><a href=\"/en/charging-stations/poland/warszawa/warszawa/rwe-polska-konstruktorska\" class=\"chargepoints-stations-item w-inline-block show\"><div class=\"chargepoints-stations-visual-container\"><div class=\"chargepoints-stations-visual\"><div class=\"chargepoints-stations-visual-inner\"><div class=\"chargepoints-stations-visual-icon location-1\"></div><div class=\"chargepoints-stations-visual-text\"><div class=\"body-m\">Street level</div></div></div></div></div><div class=\"chargepoints-stations-title\"><h3 class=\"xs\">RWE Polska</h3></div><div class=\"chargepoints-stations-text\"><div class=\"body-m\">Konstruktorska 02-673</div></div><div class=\"chargepoints-stations-types\" data-connectors=\"true\"><div class=\"charging-point-type\" title=\"TYPE 2\"><div class=\"char-type-1-icon connector-5\"></div><div class=\"char-type-1-num\"><div class=\"char-x-text\">x</div><div class=\"body-s bold\">2</div></div></div></div></a><a href=\"/en/charging-stations/poland/warszawa/warszawa/rwe-polska-stanisawa-rychlinskiego\" class=\"chargepoints-stations-item w-inline-block show\"><div class=\"chargepoints-stations-visual-container\"><div class=\"chargepoints-stations-visual\"><div class=\"chargepoints-stations-visual-inner\"><div class=\"chargepoints-stations-visual-icon location-1\"></div><div class=\"chargepoints-stations-visual-text\"><div class=\"body-m\">Street level</div></div></div></div></div><div class=\"chargepoints-stations-title\"><h3 class=\"xs\">RWE Polska</h3></div><div class=\"chargepoints-stations-text\"><div class=\"body-m\">2 Stanisława Rychlińskiego 00-620</div></div><div class=\"chargepoints-stations-types\" data-connectors=\"true\"><div class=\"charging-point-type\" title=\"TYPE 2\"><div class=\"char-type-1-icon connector-5\"></div><div class=\"char-type-1-num\"><div class=\"char-x-text\">x</div><div class=\"body-s bold\">2</div></div></div></div></a><a href=\"/en/charging-stations/poland/warszawa/warszawa/rwe-polska-tunel-wisostrady\" class=\"chargepoints-stations-item w-inline-block show\"><div class=\"chargepoints-stations-visual-container\"><div class=\"chargepoints-stations-visual\"><div class=\"chargepoints-stations-visual-inner\"><div class=\"chargepoints-stations-visual-icon location-1\"></div><div class=\"chargepoints-stations-visual-text\"><div class=\"body-m\">Street level</div></div></div></div></div><div class=\"chargepoints-stations-title\"><h3 class=\"xs\">RWE Polska</h3></div><div class=\"chargepoints-stations-text\"><div class=\"body-m\">Tunel Wisłostrady 00-390</div></div><div class=\"chargepoints-stations-types\" data-connectors=\"true\"><div class=\"charging-point-type\" title=\"TYPE 2\"><div class=\"char-type-1-icon connector-5\"></div><div class=\"char-type-1-num\"><div class=\"char-x-text\">x</div><div class=\"body-s bold\">2</div></div></div></div></a><a href=\"/en/charging-stations/poland/warszawa/warszawa/rwe-polska-alternatywy\" class=\"chargepoints-stations-item w-inline-block show\"><div class=\"chargepoints-stations-visual-container\"><div class=\"chargepoints-stations-visual\"><div class=\"chargepoints-stations-visual-inner\"><div class=\"chargepoints-stations-visual-icon location-1\"></div><div class=\"chargepoints-stations-visual-text\"><div class=\"body-m\">Street level</div></div></div></div></div><div class=\"chargepoints-stations-title\"><h3 class=\"xs\">RWE Polska</h3></div><div class=\"chargepoints-stations-text\"><div class=\"body-m\">4952 Alternatywy 02-775</div></div><div class=\"chargepoints-stations-types\" data-connectors=\"true\"><div class=\"charging-point-type\" title=\"TYPE 2\"><div class=\"char-type-1-icon connector-5\"></div><div class=\"char-type-1-num\"><div class=\"char-x-text\">x</div><div class=\"body-s bold\">2</div></div></div></div></a><a href=\"/en/charging-stations/poland/warszawa/warszawa/rwe-polska-pory\" class=\"chargepoints-stations-item w-inline-block show\"><div class=\"chargepoints-stations-visual-container\"><div class=\"chargepoints-stations-visual\"><div class=\"chargepoints-stations-visual-inner\"><div class=\"chargepoints-stations-visual-icon location-1\"></div><div class=\"chargepoints-stations-visual-text\"><div class=\"body-m\">Street level</div></div></div></div></div><div class=\"chargepoints-stations-title\"><h3 class=\"xs\">RWE Polska</h3></div><div class=\"chargepoints-stations-text\"><div class=\"body-m\">78 Pory 02-757</div></div><div class=\"chargepoints-stations-types\" data-connectors=\"true\"><div class=\"charging-point-type\" title=\"TYPE 2\"><div class=\"char-type-1-icon connector-5\"></div><div class=\"char-type-1-num\"><div class=\"char-x-text\">x</div><div class=\"body-s bold\">2</div></div></div></div></a><a href=\"/en/charging-stations/poland/warszawa/warszawa/equay89349964-sasiedzka\" class=\"chargepoints-stations-item w-inline-block show\"><div class=\"chargepoints-stations-visual-container\"><div class=\"chargepoints-stations-visual\"><div class=\"chargepoints-stations-visual-inner\"><div class=\"chargepoints-stations-visual-icon location-1\"></div><div class=\"chargepoints-stations-visual-text\"><div class=\"body-m\">Street level</div></div></div></div></div><div class=\"chargepoints-stations-title\"><h3 class=\"xs\">EQUAY/89349964</h3></div><div class=\"chargepoints-stations-text\"><div class=\"body-m\">6A Sąsiedzka 03-168</div></div><div class=\"chargepoints-stations-types\" data-connectors=\"true\"><div class=\"charging-point-type\" title=\"TYPE 2\"><div class=\"char-type-1-icon connector-5\"></div><div class=\"char-type-1-num\"><div class=\"char-x-text\">x</div><div class=\"body-s bold\">1</div></div></div></div></a><a href=\"/en/charging-stations/poland/warszawa/warszawa/pr-anin-skm-szpotanskiego\" class=\"chargepoints-stations-item w-inline-block show\"><div class=\"chargepoints-stations-visual-container\"><div class=\"chargepoints-stations-visual\"><div class=\"chargepoints-stations-visual-inner\"><div class=\"chargepoints-stations-visual-icon location-1\"></div><div class=\"chargepoints-stations-visual-text\"><div class=\"body-m\">Street level</div></div></div></div></div><div class=\"chargepoints-stations-title\"><h3 class=\"xs\">P+R ANIN SKM</h3></div><div class=\"chargepoints-stations-text\"><div class=\"body-m\">34 Szpotańskiego 04-760</div></div><div class=\"chargepoints-stations-types\" data-connectors=\"true\"><div class=\"charging-point-type\" title=\"TYPE 2\"><div class=\"char-type-1-icon connector-5\"></div><div class=\"char-type-1-num\"><div class=\"char-x-text\">x</div><div class=\"body-s bold\">1</div></div></div></div></a><a href=\"/en/charging-stations/poland/warszawa/warszawa/clar-waw-002-1a-marywilska\" class=\"chargepoints-stations-item w-inline-block show\"><div class=\"chargepoints-stations-visual-container\"><div class=\"chargepoints-stations-visual\"><div class=\"chargepoints-stations-visual-inner\"><div class=\"chargepoints-stations-visual-icon location-1\"></div><div class=\"chargepoints-stations-visual-text\"><div class=\"body-m\">Street level</div></div></div></div></div><div class=\"chargepoints-stations-title\"><h3 class=\"xs\">CLAR-WAW-002-1A</h3></div><div class=\"chargepoints-stations-text\"><div class=\"body-m\">60D Marywilska 03-042</div></div><div class=\"chargepoints-stations-types\" data-connectors=\"true\"><div class=\"charging-point-type\" title=\"TYPE 2\"><div class=\"char-type-1-icon connector-5\"></div><div class=\"char-type-1-num\"><div class=\"char-x-text\">x</div><div class=\"body-s bold\">1</div></div></div></div></a><a href=\"/en/charging-stations/poland/warszawa/warszawa/vw-chylinscy-warszawa-ogolnodostepna-sasiedzka\" class=\"chargepoints-stations-item w-inline-block show\"><div class=\"chargepoints-stations-visual-container\"><div class=\"chargepoints-stations-visual\"><div class=\"chargepoints-stations-visual-inner\"><div class=\"chargepoints-stations-visual-icon location-1\"></div><div class=\"chargepoints-stations-visual-text\"><div class=\"body-m\">Street level</div></div></div></div></div><div class=\"chargepoints-stations-title\"><h3 class=\"xs\">VW CHYLIŃSCY, Warszawa OGÓLNODOSTĘPNA</h3></div><div class=\"chargepoints-stations-text\"><div class=\"body-m\">6A Sąsiedzka 03-168</div></div><div class=\"chargepoints-stations-types\" data-connectors=\"true\"><div class=\"charging-point-type\" title=\"TYPE 2\"><div class=\"char-type-1-icon connector-5\"></div><div class=\"char-type-1-num\"><div class=\"char-x-text\">x</div><div class=\"body-s bold\">1</div></div></div></div></a><a href=\"/en/charging-stations/poland/warszawa/warszawa/last-mile-solutions89349779-ksiedza-troszynskiego\" class=\"chargepoints-stations-item w-inline-block show\"><div class=\"chargepoints-stations-visual-container\"><div class=\"chargepoints-stations-visual\"><div class=\"chargepoints-stations-visual-inner\"><div class=\"chargepoints-stations-visual-icon location-1\"></div><div class=\"chargepoints-stations-visual-text\"><div class=\"body-m\">Street level</div></div></div></div></div><div class=\"chargepoints-stations-title\"><h3 class=\"xs\">Last Mile Solutions/89349779</h3></div><div class=\"chargepoints-stations-text\"><div class=\"body-m\">7 Księdza Trószyńskiego 01-693</div></div><div class=\"chargepoints-stations-types\" data-connectors=\"true\"><div class=\"charging-point-type\" title=\"TYPE 2\"><div class=\"char-type-1-icon connector-5\"></div><div class=\"char-type-1-num\"><div class=\"char-x-text\">x</div><div class=\"body-s bold\">1</div></div></div></div></a><a href=\"/en/charging-stations/poland/warszawa/warszawa/evplusy07wwed7wk-hrubieszowska\" class=\"chargepoints-stations-item w-inline-block show\"><div class=\"chargepoints-stations-visual-container\"><div class=\"chargepoints-stations-visual\"><div class=\"chargepoints-stations-visual-inner\"><div class=\"chargepoints-stations-visual-icon location-1\"></div><div class=\"chargepoints-stations-visual-text\"><div class=\"body-m\">Street level</div></div></div></div></div><div class=\"chargepoints-stations-title\"><h3 class=\"xs\">EVPlus/Y07WWeD7Wk</h3></div><div class=\"chargepoints-stations-text\"><div class=\"body-m\">1/3/5 Hrubieszowska 01-209</div></div><div class=\"chargepoints-stations-types\" data-connectors=\"true\"><div class=\"charging-point-type\" title=\"TYPE 2\"><div class=\"char-type-1-icon connector-5\"></div><div class=\"char-type-1-num\"><div class=\"char-x-text\">x</div><div class=\"body-s bold\">1</div></div></div></div></a><a href=\"/en/charging-stations/poland/warszawa/warszawa/e-nergyzekeriyngljqp4ufxb-wilcza\" class=\"chargepoints-stations-item w-inline-block show\"><div class=\"chargepoints-stations-visual-container\"><div class=\"chargepoints-stations-visual\"><div class=\"chargepoints-stations-visual-inner\"><div class=\"chargepoints-stations-visual-icon location-1\"></div><div class=\"chargepoints-stations-visual-text\"><div class=\"body-m\">Street level</div></div></div></div></div><div class=\"chargepoints-stations-title\"><h3 class=\"xs\">E-nergyze/KErIyNGljQP4Ufxb</h3></div><div class=\"chargepoints-stations-text\"><div class=\"body-m\">2-12 Wilcza 00-538</div></div><div class=\"chargepoints-stations-types\" data-connectors=\"true\"><div class=\"charging-point-type\" title=\"TYPE 2\"><div class=\"char-type-1-icon connector-5\"></div><div class=\"char-type-1-num\"><div class=\"char-x-text\">x</div><div class=\"body-s bold\">1</div></div></div></div></a><a href=\"/en/charging-stations/poland/warszawa/warszawa/equay90121577-sasiedzka\" class=\"chargepoints-stations-item w-inline-block show\"><div class=\"chargepoints-stations-visual-container\"><div class=\"chargepoints-stations-visual\"><div class=\"chargepoints-stations-visual-inner\"><div class=\"chargepoints-stations-visual-icon location-1\"></div><div class=\"chargepoints-stations-visual-text\"><div class=\"body-m\">Street level</div></div></div></div></div><div class=\"chargepoints-stations-title\"><h3 class=\"xs\">EQUAY/90121577</h3></div><div class=\"chargepoints-stations-text\"><div class=\"body-m\">4 Sąsiedzka 03-168</div></div><div class=\"chargepoints-stations-types\" data-connectors=\"true\"><div class=\"charging-point-type\" title=\"CCS2\"><div class=\"char-type-1-icon connector-31\"></div><div class=\"char-type-1-num\"><div class=\"char-x-text\">x</div><div class=\"body-s bold\">1</div></div></div></div></a><a href=\"/en/charging-stations/poland/warszawa/warszawa/screencharge-dolna-41-1-dolna\" class=\"chargepoints-stations-item w-inline-block show\"><div class=\"chargepoints-stations-visual-container\"><div class=\"chargepoints-stations-visual\"><div class=\"chargepoints-stations-visual-inner\"><div class=\"chargepoints-stations-visual-icon location-1\"></div><div class=\"chargepoints-stations-visual-text\"><div class=\"body-m\">Street level</div></div></div></div></div><div class=\"chargepoints-stations-title\"><h3 class=\"xs\">ScreenCharge Dolna 41-1</h3></div><div class=\"chargepoints-stations-text\"><div class=\"body-m\">39 Dolna 02-511</div></div><div class=\"chargepoints-stations-types\" data-connectors=\"true\"><div class=\"charging-point-type\" title=\"TYPE 2\"><div class=\"char-type-1-icon connector-5\"></div><div class=\"char-type-1-num\"><div class=\"char-x-text\">x</div><div class=\"body-s bold\">1</div></div></div></div></a><a href=\"/en/charging-stations/poland/warszawa/warszawa/screencharge-grzybowska-8082-1a-grzybowska\" class=\"chargepoints-stations-item w-inline-block show\"><div class=\"chargepoints-stations-visual-container\"><div class=\"chargepoints-stations-visual\"><div class=\"chargepoints-stations-visual-inner\"><div class=\"chargepoints-stations-visual-icon location-1\"></div><div class=\"chargepoints-stations-visual-text\"><div class=\"body-m\">Street level</div></div></div></div></div><div class=\"chargepoints-stations-title\"><h3 class=\"xs\">ScreenCharge Grzybowska 80/82-1A</h3></div><div class=\"chargepoints-stations-text\"><div class=\"body-m\">77 Grzybowska 00-844</div></div><div class=\"chargepoints-stations-types\" data-connectors=\"true\"><div class=\"charging-point-type\" title=\"TYPE 2\"><div class=\"char-type-1-icon connector-5\"></div><div class=\"char-type-1-num\"><div class=\"char-x-text\">x</div><div class=\"body-s bold\">1</div></div></div></div></a><a href=\"/en/charging-stations/poland/warszawa/warszawa/pc-warszawa-charge-point-1-poczynska\" class=\"chargepoints-stations-item w-inline-block show\"><div class=\"chargepoints-stations-visual-container\"><div class=\"chargepoints-stations-visual\"><div class=\"chargepoints-stations-visual-inner\"><div class=\"chargepoints-stations-visual-icon location-1\"></div><div class=\"chargepoints-stations-visual-text\"><div class=\"body-m\">Street level</div></div></div></div></div><div class=\"chargepoints-stations-title\"><h3 class=\"xs\">PC Warszawa - Charge Point 1</h3></div><div class=\"chargepoints-stations-text\"><div class=\"body-m\">103 Połczyńska 01-303</div></div><div class=\"chargepoints-stations-types\" data-connectors=\"true\"><div class=\"charging-point-type\" title=\"CCS2\"><div class=\"char-type-1-icon connector-31\"></div><div class=\"char-type-1-num\"><div class=\"char-x-text\">x</div><div class=\"body-s bold\">1</div></div></div></div></a><a href=\"/en/charging-stations/poland/warszawa/warszawa/pc-warszawa-charge-point-2-poczynska\" class=\"chargepoints-stations-item w-inline-block show\"><div class=\"chargepoints-stations-visual-container\"><div class=\"chargepoints-stations-visual\"><div class=\"chargepoints-stations-visual-inner\"><div class=\"chargepoints-stations-visual-icon location-1\"></div><div class=\"chargepoints-stations-visual-text\"><div class=\"body-m\">Street level</div></div></div></div></div><div class=\"chargepoints-stations-title\"><h3 class=\"xs\">PC Warszawa - Charge Point 2</h3></div><div class=\"chargepoints-stations-text\"><div class=\"body-m\">103 Połczyńska 01-303</div></div><div class=\"chargepoints-stations-types\" data-connectors=\"true\"><div class=\"charging-point-type\" title=\"CCS2\"><div class=\"char-type-1-icon connector-31\"></div><div class=\"char-type-1-num\"><div class=\"char-x-text\">x</div><div class=\"body-s bold\">1</div></div></div></div></a><a href=\"/en/charging-stations/poland/warszawa/warszawa/carsed-warszawa-1-1a-opuszanska\" class=\"chargepoints-stations-item w-inline-block show\"><div class=\"chargepoints-stations-visual-container\"><div class=\"chargepoints-stations-visual\"><div class=\"chargepoints-stations-visual-inner\"><div class=\"chargepoints-stations-visual-icon location-1\"></div><div class=\"chargepoints-stations-visual-text\"><div class=\"body-m\">Street level</div></div></div></div></div><div class=\"chargepoints-stations-title\"><h3 class=\"xs\">Carsed Warszawa 1-1A</h3></div><div class=\"chargepoints-stations-text\"><div class=\"body-m\">8223 Łopuszańska 02-220</div></div><div class=\"chargepoints-stations-types\" data-connectors=\"true\"><div class=\"charging-point-type\" title=\"TYPE 2\"><div class=\"char-type-1-icon connector-5\"></div><div class=\"char-type-1-num\"><div class=\"char-x-text\">x</div><div class=\"body-s bold\">1</div></div></div></div></a><a href=\"/en/charging-stations/poland/warszawa/warszawa/carsed-warszawa-2-rownolega\" class=\"chargepoints-stations-item w-inline-block show\"><div class=\"chargepoints-stations-visual-container\"><div class=\"chargepoints-stations-visual\"><div class=\"chargepoints-stations-visual-inner\"><div class=\"chargepoints-stations-visual-icon location-1\"></div><div class=\"chargepoints-stations-visual-text\"><div class=\"body-m\">Street level</div></div></div></div></div><div class=\"chargepoints-stations-title\"><h3 class=\"xs\">Carsed Warszawa-2</h3></div><div class=\"chargepoints-stations-text\"><div class=\"body-m\">2 Równoległa 02-232</div></div><div class=\"chargepoints-stations-types\" data-connectors=\"true\"><div class=\"charging-point-type\" title=\"CCS2\"><div class=\"char-type-1-icon connector-31\"></div><div class=\"char-type-1-num\"><div class=\"char-x-text\">x</div><div class=\"body-s bold\">1</div></div></div></div></a><a href=\"/en/charging-stations/poland/warszawa/warszawa/eon-pozytywny-mokotow-konstruktorska\" class=\"chargepoints-stations-item w-inline-block show\"><div class=\"chargepoints-stations-visual-container\"><div class=\"chargepoints-stations-visual\"><div class=\"chargepoints-stations-visual-inner\"><div class=\"chargepoints-stations-visual-icon location-1\"></div><div class=\"chargepoints-stations-visual-text\"><div class=\"body-m\">Street level</div></div></div></div></div><div class=\"chargepoints-stations-title\"><h3 class=\"xs\">E.ON Pozytywny Mokotów</h3></div><div class=\"chargepoints-stations-text\"><div class=\"body-m\">5A Konstruktorska 02-673</div></div><div class=\"chargepoints-stations-types\" data-connectors=\"true\"><div class=\"charging-point-type\" title=\"TYPE 2\"><div class=\"char-type-1-icon connector-5\"></div><div class=\"char-type-1-num\"><div class=\"char-x-text\">x</div><div class=\"body-s bold\">1</div></div></div></div></a><a href=\"/en/charging-stations/poland/warszawa/warszawa/eq00049-sasiedzka\" class=\"chargepoints-stations-item w-inline-block show\"><div class=\"chargepoints-stations-visual-container\"><div class=\"chargepoints-stations-visual\"><div class=\"chargepoints-stations-visual-inner\"><div class=\"chargepoints-stations-visual-icon location-1\"></div><div class=\"chargepoints-stations-visual-text\"><div class=\"body-m\">Street level</div></div></div></div></div><div class=\"chargepoints-stations-title\"><h3 class=\"xs\">EQ00049</h3></div><div class=\"chargepoints-stations-text\"><div class=\"body-m\">4 Sąsiedzka 03-168</div></div><div class=\"chargepoints-stations-types\" data-connectors=\"true\"><div class=\"charging-point-type\" title=\"CCS2\"><div class=\"char-type-1-icon connector-31\"></div><div class=\"char-type-1-num\"><div class=\"char-x-text\">x</div><div class=\"body-s bold\">1</div></div></div></div></a><a href=\"/en/charging-stations/poland/warszawa/warszawa/pr-anin-skm-mieczysawa-pozaryskiego\" class=\"chargepoints-stations-item w-inline-block show\"><div class=\"chargepoints-stations-visual-container\"><div class=\"chargepoints-stations-visual\"><div class=\"chargepoints-stations-visual-inner\"><div class=\"chargepoints-stations-visual-icon location-1\"></div><div class=\"chargepoints-stations-visual-text\"><div class=\"body-m\">Street level</div></div></div></div></div><div class=\"chargepoints-stations-title\"><h3 class=\"xs\">P+R ANIN SKM</h3></div><div class=\"chargepoints-stations-text\"><div class=\"body-m\">73 Mieczysława Pożaryskiego 04-703</div></div><div class=\"chargepoints-stations-types\" data-connectors=\"true\"><div class=\"charging-point-type\" title=\"TYPE 2\"><div class=\"char-type-1-icon connector-5\"></div><div class=\"char-type-1-num\"><div class=\"char-x-text\">x</div><div class=\"body-s bold\">1</div></div></div></div></a><a href=\"/en/charging-stations/poland/warszawa/warszawa/marcepanowa-marcepanowa\" class=\"chargepoints-stations-item w-inline-block show\"><div class=\"chargepoints-stations-visual-container\"><div class=\"chargepoints-stations-visual\"><div class=\"chargepoints-stations-visual-inner\"><div class=\"chargepoints-stations-visual-icon location-1\"></div><div class=\"chargepoints-stations-visual-text\"><div class=\"body-m\">Street level</div></div></div></div></div><div class=\"chargepoints-stations-title\"><h3 class=\"xs\">Marcepanowa-</h3></div><div class=\"chargepoints-stations-text\"><div class=\"body-m\">42 Marcepanowa 02-962</div></div><div class=\"chargepoints-stations-types\" data-connectors=\"true\"><div class=\"charging-point-type\" title=\"TYPE 2\"><div class=\"char-type-1-icon connector-5\"></div><div class=\"char-type-1-num\"><div class=\"char-x-text\">x</div><div class=\"body-s bold\">1</div></div></div></div></a><a href=\"/en/charging-stations/poland/warszawa/warszawa/porsche-sekundowa-1-salon-volkswagen-dc-1a-sekundowa\" class=\"chargepoints-stations-item w-inline-block show\"><div class=\"chargepoints-stations-visual-container\"><div class=\"chargepoints-stations-visual\"><div class=\"chargepoints-stations-visual-inner\"><div class=\"chargepoints-stations-visual-icon location-1\"></div><div class=\"chargepoints-stations-visual-text\"><div class=\"body-m\">Street level</div></div></div></div></div><div class=\"chargepoints-stations-title\"><h3 class=\"xs\">Porsche Sekundowa 1 Salon Volkswagen DC-1A</h3></div><div class=\"chargepoints-stations-text\"><div class=\"body-m\">1 Sekundowa 02-146</div></div><div class=\"chargepoints-stations-types\" data-connectors=\"true\"><div class=\"charging-point-type\" title=\"CCS2\"><div class=\"char-type-1-icon connector-31\"></div><div class=\"char-type-1-num\"><div class=\"char-x-text\">x</div><div class=\"body-s bold\">1</div></div></div></div></a><a href=\"/en/charging-stations/poland/warszawa/warszawa/porsche-sekundowa-1-salon-volkswagen-ac-1a-sekundowa\" class=\"chargepoints-stations-item w-inline-block show\"><div class=\"chargepoints-stations-visual-container\"><div class=\"chargepoints-stations-visual\"><div class=\"chargepoints-stations-visual-inner\"><div class=\"chargepoints-stations-visual-icon location-1\"></div><div class=\"chargepoints-stations-visual-text\"><div class=\"body-m\">Street level</div></div></div></div></div><div class=\"chargepoints-stations-title\"><h3 class=\"xs\">Porsche Sekundowa 1 Salon Volkswagen AC-1A</h3></div><div class=\"chargepoints-stations-text\"><div class=\"body-m\">1b Sekundowa 02-178</div></div><div class=\"chargepoints-stations-types\" data-connectors=\"true\"><div class=\"charging-point-type\" title=\"TYPE 2\"><div class=\"char-type-1-icon connector-5\"></div><div class=\"char-type-1-num\"><div class=\"char-x-text\">x</div><div class=\"body-s bold\">1</div></div></div></div></a><a href=\"/en/charging-stations/poland/warszawa/warszawa/porsche-poczynska-125-salon-skoda-ac-1a-poczynska\" class=\"chargepoints-stations-item w-inline-block show\"><div class=\"chargepoints-stations-visual-container\"><div class=\"chargepoints-stations-visual\"><div class=\"chargepoints-stations-visual-inner\"><div class=\"chargepoints-stations-visual-icon location-1\"></div><div class=\"chargepoints-stations-visual-text\"><div class=\"body-m\">Street level</div></div></div></div></div><div class=\"chargepoints-stations-title\"><h3 class=\"xs\">Porsche Połczyńska 125 Salon Skoda AC-1A</h3></div><div class=\"chargepoints-stations-text\"><div class=\"body-m\">126 Połczyńska 03</div></div><div class=\"chargepoints-stations-types\" data-connectors=\"true\"><div class=\"charging-point-type\" title=\"TYPE 2\"><div class=\"char-type-1-icon connector-5\"></div><div class=\"char-type-1-num\"><div class=\"char-x-text\">x</div><div class=\"body-s bold\">1</div></div></div></div></a><a href=\"/en/charging-stations/poland/warszawa/warszawa/porsche-poczynska-109-salon-audi-dc-1a-poczynska\" class=\"chargepoints-stations-item w-inline-block show\"><div class=\"chargepoints-stations-visual-container\"><div class=\"chargepoints-stations-visual\"><div class=\"chargepoints-stations-visual-inner\"><div class=\"chargepoints-stations-visual-icon location-1\"></div><div class=\"chargepoints-stations-visual-text\"><div class=\"body-m\">Street level</div></div></div></div></div><div class=\"chargepoints-stations-title\"><h3 class=\"xs\">Porsche Połczyńska 109 Salon Audi DC-1A</h3></div><div class=\"chargepoints-stations-text\"><div class=\"body-m\">103 Połczyńska 01-304</div></div><div class=\"chargepoints-stations-types\" data-connectors=\"true\"><div class=\"charging-point-type\" title=\"CCS2\"><div class=\"char-type-1-icon connector-31\"></div><div class=\"char-type-1-num\"><div class=\"char-x-text\">x</div><div class=\"body-s bold\">1</div></div></div></div></a><a href=\"/en/charging-stations/poland/warszawa/warszawa/porsche-sekundowa-1b-salon-audi-dc-1a-sekundowa\" class=\"chargepoints-stations-item w-inline-block show\"><div class=\"chargepoints-stations-visual-container\"><div class=\"chargepoints-stations-visual\"><div class=\"chargepoints-stations-visual-inner\"><div class=\"chargepoints-stations-visual-icon location-1\"></div><div class=\"chargepoints-stations-visual-text\"><div class=\"body-m\">Street level</div></div></div></div></div><div class=\"chargepoints-stations-title\"><h3 class=\"xs\">Porsche Sekundowa 1B Salon Audi DC-1A</h3></div><div class=\"chargepoints-stations-text\"><div class=\"body-m\">1b Sekundowa 02-178</div></div><div class=\"chargepoints-stations-types\" data-connectors=\"true\"><div class=\"charging-point-type\" title=\"CCS2\"><div class=\"char-type-1-icon connector-31\"></div><div class=\"char-type-1-num\"><div class=\"char-x-text\">x</div><div class=\"body-s bold\">1</div></div></div></div></a><a href=\"/en/charging-stations/poland/warszawa/warszawa/ws1-ac-enext-03-1-kolejowa\" class=\"chargepoints-stations-item w-inline-block show\"><div class=\"chargepoints-stations-visual-container\"><div class=\"chargepoints-stations-visual\"><div class=\"chargepoints-stations-visual-inner\"><div class=\"chargepoints-stations-visual-icon location-1\"></div><div class=\"chargepoints-stations-visual-text\"><div class=\"body-m\">Street level</div></div></div></div></div><div class=\"chargepoints-stations-title\"><h3 class=\"xs\">WS1-AC-eNext-03-1</h3></div><div class=\"chargepoints-stations-text\"><div class=\"body-m\">1 Kolejowa 01-208</div></div><div class=\"chargepoints-stations-types\" data-connectors=\"true\"><div class=\"charging-point-type\" title=\"TYPE 2\"><div class=\"char-type-1-icon connector-5\"></div><div class=\"char-type-1-num\"><div class=\"char-x-text\">x</div><div class=\"body-s bold\">1</div></div></div></div></a><a href=\"/en/charging-stations/poland/warszawa/warszawa/bmw-polska-warszawa-p-wooska\" class=\"chargepoints-stations-item w-inline-block show\"><div class=\"chargepoints-stations-visual-container\"><div class=\"chargepoints-stations-visual\"><div class=\"chargepoints-stations-visual-inner\"><div class=\"chargepoints-stations-visual-icon location-1\"></div><div class=\"chargepoints-stations-visual-text\"><div class=\"body-m\">Street level</div></div></div></div></div><div class=\"chargepoints-stations-title\"><h3 class=\"xs\">BMW Polska Warszawa (P)</h3></div><div class=\"chargepoints-stations-text\"><div class=\"body-m\">24 Wołoska 02-675</div></div><div class=\"chargepoints-stations-types\" data-connectors=\"true\"><div class=\"charging-point-type\" title=\"CCS2\"><div class=\"char-type-1-icon connector-31\"></div><div class=\"char-type-1-num\"><div class=\"char-x-text\">x</div><div class=\"body-s bold\">1</div></div></div></div></a><a href=\"/en/charging-stations/poland/warszawa/warszawa/autoryzowany-dealer-nissan-zaborowski-puawska\" class=\"chargepoints-stations-item w-inline-block show\"><div class=\"chargepoints-stations-visual-container\"><div class=\"chargepoints-stations-visual\"><div class=\"chargepoints-stations-visual-inner\"><div class=\"chargepoints-stations-visual-icon location-1\"></div><div class=\"chargepoints-stations-visual-text\"><div class=\"body-m\">Street level</div></div></div></div></div><div class=\"chargepoints-stations-title\"><h3 class=\"xs\">Autoryzowany Dealer Nissan Zaborowski</h3></div><div class=\"chargepoints-stations-text\"><div class=\"body-m\">255A Puławska 02-743</div></div><div class=\"chargepoints-stations-types\" data-connectors=\"true\"><div class=\"charging-point-type\" title=\"CHAdeMO\"><div class=\"char-type-1-icon connector-4\"></div><div class=\"char-type-1-num\"><div class=\"char-x-text\">x</div><div class=\"body-s bold\">1</div></div></div></div></a><a href=\"/en/charging-stations/poland/warszawa/warszawa/hilton-warsaw-hotel-grzybowska\" class=\"chargepoints-stations-item w-inline-block show\"><div class=\"chargepoints-stations-visual-container\"><div class=\"chargepoints-stations-visual\"><div class=\"chargepoints-stations-visual-inner\"><div class=\"chargepoints-stations-visual-icon location-5\"></div><div class=\"chargepoints-stations-visual-text\"><div class=\"body-m\">Hotel</div></div></div></div></div><div class=\"chargepoints-stations-title\"><h3 class=\"xs\">Hilton Warsaw Hotel</h3></div><div class=\"chargepoints-stations-text\"><div class=\"body-m\">62 Grzybowska 00-855</div></div><div class=\"chargepoints-stations-types\" data-connectors=\"true\"><div class=\"charging-point-type\" title=\"Unknown\"><div class=\"char-type-1-icon connector-1\"></div><div class=\"char-type-1-num\"><div class=\"char-x-text\">x</div><div class=\"body-s bold\">1</div></div></div></div></a><a href=\"/en/charging-stations/poland/warszawa/warszawa/polenergia-polenergia-1-chargepoint-krucza\" class=\"chargepoints-stations-item w-inline-block show\"><div class=\"chargepoints-stations-visual-container\"><div class=\"chargepoints-stations-visual\"><div class=\"chargepoints-stations-visual-inner\"><div class=\"chargepoints-stations-visual-icon location-1\"></div><div class=\"chargepoints-stations-visual-text\"><div class=\"body-m\">Street level</div></div></div></div></div><div class=\"chargepoints-stations-title\"><h3 class=\"xs\">POLENERGIA  / POLENERGIA 1  ChargePoint</h3></div><div class=\"chargepoints-stations-text\"><div class=\"body-m\">24/26 Krucza 00-526</div></div><div class=\"chargepoints-stations-types\" data-connectors=\"true\"><div class=\"charging-point-type\" title=\"Schuko (EU Plug)\"><div class=\"char-type-1-icon connector-8\"></div><div class=\"char-type-1-num\"><div class=\"char-x-text\">x</div><div class=\"body-s bold\">1</div></div></div></div></a><a href=\"/en/charging-stations/poland/warszawa/warszawa/equay90121577-sasiedzka\" class=\"chargepoints-stations-item w-inline-block show\"><div class=\"chargepoints-stations-visual-container\"><div class=\"chargepoints-stations-visual\"><div class=\"chargepoints-stations-visual-inner\"><div class=\"chargepoints-stations-visual-icon location-1\"></div><div class=\"chargepoints-stations-visual-text\"><div class=\"body-m\">Street level</div></div></div></div></div><div class=\"chargepoints-stations-title\"><h3 class=\"xs\">EQUAY/90121577</h3></div><div class=\"chargepoints-stations-text\"><div class=\"body-m\">6A Sąsiedzka 03-168</div></div><div class=\"chargepoints-stations-types\" data-connectors=\"true\"></div></a><a href=\"/en/charging-stations/poland/warszawa/warszawa/evplusagnoymo7ew-aleja-jana-pawa-ii\" class=\"chargepoints-stations-item w-inline-block show\"><div class=\"chargepoints-stations-visual-container\"><div class=\"chargepoints-stations-visual\"><div class=\"chargepoints-stations-visual-inner\"><div class=\"chargepoints-stations-visual-icon location-1\"></div><div class=\"chargepoints-stations-visual-text\"><div class=\"body-m\">Street level</div></div></div></div></div><div class=\"chargepoints-stations-title\"><h3 class=\"xs\">EVPlus/aGnOymo7ew</h3></div><div class=\"chargepoints-stations-text\"><div class=\"body-m\">27 aleja Jana Pawła II 00-867</div></div><div class=\"chargepoints-stations-types\" data-connectors=\"true\"></div></a><a href=\"/en/charging-stations/poland/warszawa/warszawa/plac-kilinskiego-8-stanisawa-kierbedzia\" class=\"chargepoints-stations-item w-inline-block show\"><div class=\"chargepoints-stations-visual-container\"><div class=\"chargepoints-stations-visual\"><div class=\"chargepoints-stations-visual-inner\"><div class=\"chargepoints-stations-visual-icon location-1\"></div><div class=\"chargepoints-stations-visual-text\"><div class=\"body-m\">Street level</div></div></div></div></div><div class=\"chargepoints-stations-title\"><h3 class=\"xs\">Plac Kilinskiego  8</h3></div><div class=\"chargepoints-stations-text\"><div class=\"body-m\">3 Stanisława Kierbedzia 00-728</div></div><div class=\"chargepoints-stations-types\" data-connectors=\"true\"></div></a><a href=\"/en/charging-stations/poland/warszawa/warszawa/bobrowiecka-6-zwierzyniecka\" class=\"chargepoints-stations-item w-inline-block show\"><div class=\"chargepoints-stations-visual-container\"><div class=\"chargepoints-stations-visual\"><div class=\"chargepoints-stations-visual-inner\"><div class=\"chargepoints-stations-visual-icon location-1\"></div><div class=\"chargepoints-stations-visual-text\"><div class=\"body-m\">Street level</div></div></div></div></div><div class=\"chargepoints-stations-title\"><h3 class=\"xs\">Bobrowiecka 6</h3></div><div class=\"chargepoints-stations-text\"><div class=\"body-m\">17 Zwierzyniecka 00-719</div></div><div class=\"chargepoints-stations-types\" data-connectors=\"true\"></div></a><a href=\"/en/charging-stations/poland/warszawa/warszawa/mrowcza-218-mrowcza\" class=\"chargepoints-stations-item w-inline-block show\"><div class=\"chargepoints-stations-visual-container\"><div class=\"chargepoints-stations-visual\"><div class=\"chargepoints-stations-visual-inner\"><div class=\"chargepoints-stations-visual-icon location-1\"></div><div class=\"chargepoints-stations-visual-text\"><div class=\"body-m\">Street level</div></div></div></div></div><div class=\"chargepoints-stations-title\"><h3 class=\"xs\">Mrówcza 218</h3></div><div class=\"chargepoints-stations-text\"><div class=\"body-m\">108 Mrówcza 04-697</div></div><div class=\"chargepoints-stations-types\" data-connectors=\"true\"></div></a><a href=\"/en/charging-stations/poland/warszawa/warszawa/decathlon-targowek-geodezyjna\" class=\"chargepoints-stations-item w-inline-block show\"><div class=\"chargepoints-stations-visual-container\"><div class=\"chargepoints-stations-visual\"><div class=\"chargepoints-stations-visual-inner\"><div class=\"chargepoints-stations-visual-icon location-2\"></div><div class=\"chargepoints-stations-visual-text\"><div class=\"body-m\">Parking</div></div></div></div></div><div class=\"chargepoints-stations-title\"><h3 class=\"xs\">Decathlon Targówek</h3></div><div class=\"chargepoints-stations-text\"><div class=\"body-m\">80C Geodezyjna 03-290</div></div><div class=\"chargepoints-stations-types\" data-connectors=\"true\"></div></a><a href=\"/en/charging-stations/poland/warszawa/warszawa/eurobau-ostrobramska-101-poligonowa\" class=\"chargepoints-stations-item w-inline-block show\"><div class=\"chargepoints-stations-visual-container\"><div class=\"chargepoints-stations-visual\"><div class=\"chargepoints-stations-visual-inner\"><div class=\"chargepoints-stations-visual-icon location-2\"></div><div class=\"chargepoints-stations-visual-text\"><div class=\"body-m\">Parking</div></div></div></div></div><div class=\"chargepoints-stations-title\"><h3 class=\"xs\">Eurobau - Ostrobramska 101</h3></div><div class=\"chargepoints-stations-text\"><div class=\"body-m\">3 Poligonowa 04-051</div></div><div class=\"chargepoints-stations-types\" data-connectors=\"true\"></div></a><a href=\"/en/charging-stations/poland/warszawa/warszawa/plac-kilinskiego-8-stanisawa-kierbedzia\" class=\"chargepoints-stations-item w-inline-block show\"><div class=\"chargepoints-stations-visual-container\"><div class=\"chargepoints-stations-visual\"><div class=\"chargepoints-stations-visual-inner\"><div class=\"chargepoints-stations-visual-icon location-1\"></div><div class=\"chargepoints-stations-visual-text\"><div class=\"body-m\">Street level</div></div></div></div></div><div class=\"chargepoints-stations-title\"><h3 class=\"xs\">Plac Kilinskiego  8</h3></div><div class=\"chargepoints-stations-text\"><div class=\"body-m\">3 Stanisława Kierbedzia 00-728</div></div><div class=\"chargepoints-stations-types\" data-connectors=\"true\"></div></a></div>'"
   ]
  },
  {
   "cell_type": "code",
   "execution_count": 226,
   "id": "6c484808-19ed-45c3-bf74-d7f2360dfe63",
   "metadata": {},
   "outputs": [
    {
     "data": {
      "text/plain": [
       "182"
      ]
     },
     "execution_count": 226,
     "metadata": {},
     "output_type": "execute_result"
    }
   ],
   "source": [
    "len(BeautifulSoup(text, 'html.parser').find_all('a'))"
   ]
  },
  {
   "cell_type": "code",
   "execution_count": null,
   "id": "99e20a88-291c-48c1-a87b-3776318c8c8c",
   "metadata": {},
   "outputs": [],
   "source": []
  }
 ],
 "metadata": {
  "kernelspec": {
   "display_name": "Python 3 (ipykernel)",
   "language": "python",
   "name": "python3"
  },
  "language_info": {
   "codemirror_mode": {
    "name": "ipython",
    "version": 3
   },
   "file_extension": ".py",
   "mimetype": "text/x-python",
   "name": "python",
   "nbconvert_exporter": "python",
   "pygments_lexer": "ipython3",
   "version": "3.13.0"
  }
 },
 "nbformat": 4,
 "nbformat_minor": 5
}
