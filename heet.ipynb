{
 "cells": [
  {
   "cell_type": "code",
   "execution_count": 1,
   "id": "abb0ee22-0dbe-44fc-96de-a1ae23b4592c",
   "metadata": {},
   "outputs": [
    {
     "name": "stdout",
     "output_type": "stream",
     "text": [
      "rblImpersonation_1\n",
      "None\n"
     ]
    },
    {
     "ename": "KeyboardInterrupt",
     "evalue": "",
     "output_type": "error",
     "traceback": [
      "\u001b[1;31m---------------------------------------------------------------------------\u001b[0m",
      "\u001b[1;31mKeyboardInterrupt\u001b[0m                         Traceback (most recent call last)",
      "Cell \u001b[1;32mIn[1], line 132\u001b[0m\n\u001b[0;32m    130\u001b[0m \u001b[38;5;28;01mfor\u001b[39;00m nr,row \u001b[38;5;129;01min\u001b[39;00m df\u001b[38;5;241m.\u001b[39miterrows():\n\u001b[0;32m    131\u001b[0m     \u001b[38;5;28;01mtry\u001b[39;00m:\n\u001b[1;32m--> 132\u001b[0m         path_to_pdf \u001b[38;5;241m=\u001b[39m \u001b[43mget_timesheet\u001b[49m\u001b[43m(\u001b[49m\u001b[43mrow\u001b[49m\u001b[43m[\u001b[49m\u001b[38;5;124;43m'\u001b[39;49m\u001b[38;5;124;43mKod\u001b[39;49m\u001b[38;5;124;43m'\u001b[39;49m\u001b[43m]\u001b[49m\u001b[43m,\u001b[49m\u001b[43moptions\u001b[49m\u001b[43m,\u001b[49m\u001b[43mdownload_path\u001b[49m\u001b[43m,\u001b[49m\u001b[43mfinal_folder\u001b[49m\u001b[43m,\u001b[49m\u001b[43mdate_name\u001b[49m\u001b[43m,\u001b[49m\u001b[43mrow\u001b[49m\u001b[43m[\u001b[49m\u001b[38;5;124;43m'\u001b[39;49m\u001b[38;5;124;43mImie_nazwisko\u001b[39;49m\u001b[38;5;124;43m'\u001b[39;49m\u001b[43m]\u001b[49m\u001b[43m)\u001b[49m\n\u001b[0;32m    133\u001b[0m         okres, TC,TNC,overtime \u001b[38;5;241m=\u001b[39m check_pdf(path_to_pdf,row[\u001b[38;5;124m'\u001b[39m\u001b[38;5;124mKod\u001b[39m\u001b[38;5;124m'\u001b[39m])\n\u001b[0;32m    134\u001b[0m         df\u001b[38;5;241m.\u001b[39mloc[df[\u001b[38;5;124m'\u001b[39m\u001b[38;5;124mKod\u001b[39m\u001b[38;5;124m'\u001b[39m]\u001b[38;5;241m==\u001b[39mrow[\u001b[38;5;124m'\u001b[39m\u001b[38;5;124mKod\u001b[39m\u001b[38;5;124m'\u001b[39m],\u001b[38;5;124m'\u001b[39m\u001b[38;5;124mokres\u001b[39m\u001b[38;5;124m'\u001b[39m]\u001b[38;5;241m=\u001b[39mokres\n",
      "Cell \u001b[1;32mIn[1], line 36\u001b[0m, in \u001b[0;36mget_timesheet\u001b[1;34m(user_id, options, download_path, final_folder, date_name, user_name)\u001b[0m\n\u001b[0;32m     34\u001b[0m time\u001b[38;5;241m.\u001b[39msleep(\u001b[38;5;241m7\u001b[39m)\n\u001b[0;32m     35\u001b[0m driver\u001b[38;5;241m.\u001b[39mswitch_to\u001b[38;5;241m.\u001b[39mframe(\u001b[38;5;124m\"\u001b[39m\u001b[38;5;124mcontentFrame\u001b[39m\u001b[38;5;124m\"\u001b[39m)\n\u001b[1;32m---> 36\u001b[0m \u001b[43mtime\u001b[49m\u001b[38;5;241;43m.\u001b[39;49m\u001b[43msleep\u001b[49m\u001b[43m(\u001b[49m\u001b[38;5;241;43m15\u001b[39;49m\u001b[43m)\u001b[49m\n\u001b[0;32m     37\u001b[0m tb_ids \u001b[38;5;241m=\u001b[39m driver\u001b[38;5;241m.\u001b[39mfind_element(\u001b[38;5;124m\"\u001b[39m\u001b[38;5;124mid\u001b[39m\u001b[38;5;124m\"\u001b[39m,\u001b[38;5;124m\"\u001b[39m\u001b[38;5;124mimpersonateUserHolder\u001b[39m\u001b[38;5;124m\"\u001b[39m)\n\u001b[0;32m     39\u001b[0m soup \u001b[38;5;241m=\u001b[39m BeautifulSoup(tb_ids\u001b[38;5;241m.\u001b[39mget_attribute(\u001b[38;5;124m\"\u001b[39m\u001b[38;5;124minnerHTML\u001b[39m\u001b[38;5;124m\"\u001b[39m), \u001b[38;5;124m'\u001b[39m\u001b[38;5;124mhtml.parser\u001b[39m\u001b[38;5;124m'\u001b[39m)\n",
      "\u001b[1;31mKeyboardInterrupt\u001b[0m: "
     ]
    }
   ],
   "source": [
    "from selenium import webdriver\n",
    "from bs4 import BeautifulSoup\n",
    "from selenium.webdriver.common.by import By\n",
    "import pandas as pd\n",
    "import time\n",
    "from bs4 import BeautifulSoup\n",
    "import os\n",
    "import shutil\n",
    "from datetime import datetime\n",
    "import pypdf\n",
    "import re\n",
    "import os\n",
    "\n",
    "\n",
    "def remove_files(download_path):\n",
    "    for file in os.listdir(download_path):\n",
    "        os.remove(os.path.join(download_path,file))\n",
    "                  \n",
    "def create_final_file(download_path, final_folder,user_name,date_name):\n",
    "    for file in os.listdir(download_path):\n",
    "        old_path = os.path.join(download_path,file)\n",
    "        new_file = os.path.join(final_folder, date_name+user_name+\".pdf\")\n",
    "        break\n",
    "    shutil.copyfile(old_path, new_file)\n",
    "    remove_files(download_path)\n",
    "    return new_file\n",
    "    \n",
    "def get_timesheet(user_id,options,download_path,final_folder,date_name,user_name):\n",
    "    remove_files(download_path)\n",
    "    driver = webdriver.Chrome(options=options)\n",
    "    driver.get(\"https://timesheet.cee.kworld.kpmg.com/\")\n",
    "    time.sleep(7)\n",
    "    driver.find_element(\"id\",\"SharingLabel\").click()\n",
    "    time.sleep(7)\n",
    "    driver.switch_to.frame(\"contentFrame\")\n",
    "    time.sleep(15)\n",
    "    tb_ids = driver.find_element(\"id\",\"impersonateUserHolder\")\n",
    "    \n",
    "    soup = BeautifulSoup(tb_ids.get_attribute(\"innerHTML\"), 'html.parser')\n",
    "    \n",
    "    # Find all td elements\n",
    "    td_elements = soup.find_all('td')\n",
    "    \n",
    "    # Print the text content of each td element\n",
    "    for td in td_elements:\n",
    "        if user_id in td.text:\n",
    "            print(td.input['id'])\n",
    "            print(tb_ids.find_element(\"id\",td.input['id']).click())\n",
    "    \n",
    "    time.sleep(5)\n",
    "    driver.find_element(\"id\",\"impersonateUser\").click()\n",
    "    time.sleep(35)\n",
    "    driver.switch_to.default_content()\n",
    "    time.sleep(2)\n",
    "    driver.switch_to.frame(\"contentFrame\")\n",
    "    time.sleep(2)\n",
    "    period = driver.find_element(\"id\",\"periodLabel\").text\n",
    "    if ((datetime.now().day >15) & (\"16\" in period))|((datetime.now().day <=15)& (\"15\" in period)):\n",
    "        driver.find_element(\"id\",\"previousPeriod\").click()\n",
    "        time.sleep(10)\n",
    "        driver.switch_to.default_content()\n",
    "        driver.switch_to.frame(\"contentFrame\")\n",
    "\n",
    "    time.sleep(7)\n",
    "    driver.find_element(\"id\",\"periodReportButton\").click()\n",
    "    time.sleep(7)\n",
    "    \n",
    "    #try:\n",
    "        #dropdown = driver.find_element(\"xpath\",\"//*[@id='reportDropDownList']/option[text()='Period summary']\").click()\n",
    "    #except Exception as E:\n",
    "        #driver.find_element(\"id\",\"previousPeriod\").click()\n",
    "        #time.sleep(4)\n",
    "        #driver.switch_to.default_content()\n",
    "        #driver.switch_to.frame(\"contentFrame\")\n",
    "    dropdown = driver.find_element(\"xpath\",\"//*[@id='reportDropDownList']/option[text()='Period summary']\").click()\n",
    "    time.sleep(7)\n",
    "    driver.switch_to.frame(\"reportFrame\")\n",
    "    time.sleep(7)\n",
    "    driver.execute_script(\"$find('ReportViewerControl').exportReport('PDF');\")\n",
    "    time.sleep(7)\n",
    "    driver.quit()\n",
    "    return create_final_file(download_path, final_folder,user_name,date_name)\n",
    "\n",
    "def check_pdf(pdf_path,user_id):\n",
    "    pdf_file = pypdf.PdfReader(pdf_path, 'rb')\n",
    "    text =\"\"\n",
    "    for nr_page in range(len(pdf_file.pages)):\n",
    "        text = text+pdf_file.pages[nr_page].extract_text(extraction_mode=\"layout\")\n",
    "    charg = 0\n",
    "    noncharg = 0\n",
    "    okres = re.findall(\"\\d{2}.\\d{2}.\\d{4} - \\d{2}.\\d{2}.\\d{4}\",text)[0]\n",
    "    overtime = float(re.findall(\"(\\d+,\\d+)\\n\\s+TOIL\",text)[0].replace(\",\",\".\"))\n",
    "    text_lines = text.split(\"\\n\")\n",
    "    if user_id in text:\n",
    "        for i,line in enumerate(text_lines):\n",
    "            if \"Total Chargeable\" in line:\n",
    "                charg = float(line.split(\" \")[-1].replace(\",\",\".\"))\n",
    "            if \"Total NonChargeable\" in line:\n",
    "                noncharg = float(line.split(\" \")[-1].replace(\",\",\".\"))\n",
    "        return okres, charg, noncharg, overtime\n",
    "    else:\n",
    "        return \"Nie znaleziono uzytkownika\",\"\",\"\"\n",
    "\n",
    "if __name__==\"__main__\":\n",
    "    date_name = datetime.now().strftime(\"%y%m%d_\")\n",
    "    options= webdriver.ChromeOptions()\n",
    "    options.add_experimental_option(\"excludeSwitches\", [\"enable-automation\"])\n",
    "    options.add_experimental_option('useAutomationExtension', False)\n",
    "    download_path = os.path.join(os.getcwd(),\"work_folder\")\n",
    "    \n",
    "    final_folder = os.path.join(os.getcwd(),f\"Final folder\\\\{date_name[:-1]}\")\n",
    "    if not os.path.exists(final_folder):\n",
    "        os.mkdir(final_folder)\n",
    "        \n",
    "    \n",
    "    options.add_argument('--headless=new')\n",
    "    options.add_argument(\"--start-maximized\")\n",
    "    prefs = {\n",
    "       \"download.default_directory\": download_path,\n",
    "       \"savefile.default_directory\": download_path\n",
    "    }\n",
    "    \n",
    "    options.add_experimental_option('prefs', prefs)\n",
    "    \n",
    "    #date_name = datetime.now().strftime(\"%y%m%d_\")\n",
    "    df = pd.read_excel(\"User_list.xlsx\",na_filter=False,sheet_name=\"Rejestr\")\n",
    "    df['okres']=\"Nie znaleziono uzytkownika\"\n",
    "    df['Total Chargeable'] = 0\n",
    "    df['Total NonChargeable'] = 0\n",
    "    df['Overtime'] = 0\n",
    "    for nr,row in df.iterrows():\n",
    "        try:\n",
    "            path_to_pdf = get_timesheet(row['Kod'],options,download_path,final_folder,date_name,row['Imie_nazwisko'])\n",
    "            okres, TC,TNC,overtime = check_pdf(path_to_pdf,row['Kod'])\n",
    "            df.loc[df['Kod']==row['Kod'],'okres']=okres\n",
    "            df.loc[df['Kod']==row['Kod'],'Total Chargeable']=TC\n",
    "            df.loc[df['Kod']==row['Kod'],'Total NonChargeable']=TNC\n",
    "            df.loc[df['Kod']==row['Kod'],'Overtime']=overtime\n",
    "        except Exception as E:\n",
    "            print(E)\n",
    "    df['Total']=df['Total Chargeable']+df['Total NonChargeable']\n",
    "    writer = pd.ExcelWriter(\"User_list.xlsx\", engine = 'openpyxl',mode='a',if_sheet_exists=\"replace\")\n",
    "    df[['Imie_nazwisko','Kod','okres','Total Chargeable','Total NonChargeable','Total','Overtime']].to_excel(writer,index=False,sheet_name=date_name[:-1])\n",
    "    writer.close()"
   ]
  },
  {
   "cell_type": "code",
   "execution_count": null,
   "id": "07ccac7e-c767-4785-86f9-095660636991",
   "metadata": {},
   "outputs": [],
   "source": []
  },
  {
   "cell_type": "code",
   "execution_count": 16,
   "id": "d6d03bd7-c215-4365-a2ad-fd18d365d940",
   "metadata": {},
   "outputs": [
    {
     "name": "stdout",
     "output_type": "stream",
     "text": [
      "Bartłomiej Ekert|K9AB6\n",
      "Łukasz Gordon|K9532\n",
      "Antoni Szlafka|K99BU\n",
      "Kacper Wardziak|K8710\n"
     ]
    }
   ],
   "source": [
    "### Poniższy skrypt zwraca liste osob, dla których posiadamy dostęp w timesheet\n",
    "\n",
    "from selenium import webdriver\n",
    "import time\n",
    "from bs4 import BeautifulSoup\n",
    "\n",
    "options= webdriver.ChromeOptions()\n",
    "options.add_argument(\"--start-maximized\")\n",
    "options.add_argument('--headless=new')\n",
    "driver = webdriver.Chrome(options=options)\n",
    "driver.set_window_position(-100000,0)\n",
    "driver.get(\"https://timesheet.cee.kworld.kpmg.com/\")\n",
    "time.sleep(1)\n",
    "driver.refresh()\n",
    "time.sleep(25)\n",
    "driver.find_element(\"id\",\"SharingLabel\").click()\n",
    "time.sleep(7)\n",
    "driver.switch_to.frame(\"contentFrame\")\n",
    "time.sleep(5)\n",
    "tb_ids = driver.find_element(\"id\",\"impersonateUserHolder\")   \n",
    "soup = BeautifulSoup(tb_ids.get_attribute(\"innerHTML\"), 'html.parser')\n",
    "td_elements = soup.find_all('td')\n",
    "for td in td_elements:\n",
    "    tab_text  = td.text.split(\" \")\n",
    "    print(tab_text[1]+\" \"+tab_text[0] +\"|\"+tab_text[2][1:-1])\n",
    "driver.quit()    \n"
   ]
  },
  {
   "cell_type": "code",
   "execution_count": null,
   "id": "8662f6a5-59a5-43b1-9d92-09cc44c5a334",
   "metadata": {},
   "outputs": [],
   "source": []
  },
  {
   "cell_type": "code",
   "execution_count": null,
   "id": "c2a7b97b-72a8-47c8-b41b-94c9d6664a11",
   "metadata": {},
   "outputs": [],
   "source": []
  },
  {
   "cell_type": "code",
   "execution_count": null,
   "id": "c7cec130-94bb-4784-9480-7e515ab6af69",
   "metadata": {},
   "outputs": [],
   "source": []
  },
  {
   "cell_type": "code",
   "execution_count": null,
   "id": "437c0445-c869-475d-8f58-fa9dfbc77f89",
   "metadata": {},
   "outputs": [],
   "source": []
  },
  {
   "cell_type": "code",
   "execution_count": 36,
   "id": "a97f22f9-fd97-440e-86fd-bb5818f5c64c",
   "metadata": {},
   "outputs": [],
   "source": [
    "from selenium import webdriver\n",
    "\n",
    "options= webdriver.ChromeOptions()\n",
    "options.add_argument('--headless=new')\n",
    "#options.add_argument('disable-gpu')\n",
    "#options.add_argument(\"--start-maximized\")\n",
    "\n",
    "driver = webdriver.Chrome(options=options)\n",
    "driver.minimize_window()\n",
    "driver.get(\"https://stackoverflow.com/\")"
   ]
  },
  {
   "cell_type": "code",
   "execution_count": 37,
   "id": "9fa088a2-d40f-40de-b80c-f128a964ecab",
   "metadata": {},
   "outputs": [],
   "source": [
    "driver.quit()"
   ]
  },
  {
   "cell_type": "code",
   "execution_count": 42,
   "id": "7b672f09-4932-4e09-b445-7ad23c2f4da6",
   "metadata": {},
   "outputs": [
    {
     "data": {
      "text/plain": [
       "'4.12.0'"
      ]
     },
     "execution_count": 42,
     "metadata": {},
     "output_type": "execute_result"
    }
   ],
   "source": [
    "import selenium\n",
    "selenium.__version__"
   ]
  },
  {
   "cell_type": "code",
   "execution_count": null,
   "id": "99261589-9127-4f02-b698-540d420dd2b5",
   "metadata": {},
   "outputs": [],
   "source": []
  },
  {
   "cell_type": "code",
   "execution_count": null,
   "id": "58ba5183-ab80-49bd-a28a-8a07cb877dd2",
   "metadata": {},
   "outputs": [],
   "source": []
  }
 ],
 "metadata": {
  "kernelspec": {
   "display_name": "Python 3 (ipykernel)",
   "language": "python",
   "name": "python3"
  },
  "language_info": {
   "codemirror_mode": {
    "name": "ipython",
    "version": 3
   },
   "file_extension": ".py",
   "mimetype": "text/x-python",
   "name": "python",
   "nbconvert_exporter": "python",
   "pygments_lexer": "ipython3",
   "version": "3.11.5"
  }
 },
 "nbformat": 4,
 "nbformat_minor": 5
}
