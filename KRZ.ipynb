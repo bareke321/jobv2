{
 "cells": [
  {
   "cell_type": "code",
   "execution_count": 184,
   "id": "44eae471-9a10-4ba4-9324-d636dd36a551",
   "metadata": {},
   "outputs": [],
   "source": [
    "from selenium import webdriver\n",
    "from bs4 import BeautifulSoup\n",
    "from selenium.webdriver.common.by import By\n",
    "import pandas as pd\n",
    "import time\n",
    "from bs4 import BeautifulSoup\n",
    "import os\n",
    "from datetime import datetime\n",
    "import os"
   ]
  },
  {
   "cell_type": "code",
   "execution_count": 259,
   "id": "805bf889-1fd6-49cd-a550-36c195e8c9e7",
   "metadata": {},
   "outputs": [],
   "source": [
    "options= webdriver.ChromeOptions()\n",
    "options.add_experimental_option(\"excludeSwitches\", [\"enable-automation\"])\n",
    "options.add_experimental_option('useAutomationExtension', False)\n",
    "#options.add_argument(\"--start-maximized\")\n",
    "#options.add_argument('--headless=new')\n",
    "driver = webdriver.Chrome(options=options)\n",
    "driver.get(\"https://krz.ms.gov.pl/\")"
   ]
  },
  {
   "cell_type": "code",
   "execution_count": 260,
   "id": "b5da865c-5a1a-45fd-9b5c-959a60b56cf3",
   "metadata": {},
   "outputs": [],
   "source": [
    "Frame = driver.find_element(\"xpath\",\"/html/body/div[1]/ui-view/div[1]/application/div/div[1]/div/div/app-view-frame[1]/iframe\")"
   ]
  },
  {
   "cell_type": "code",
   "execution_count": 261,
   "id": "1f2699b8-2c53-46ef-b9e7-e3976f4b54f4",
   "metadata": {},
   "outputs": [],
   "source": [
    "\n",
    "try:\n",
    "    driver.find_element(\"xpath\",\"/html/body/div[1]/ui-view/app-cookie-info/div/div[2]/button\").click()\n",
    "except:\n",
    "    pass"
   ]
  },
  {
   "cell_type": "code",
   "execution_count": 262,
   "id": "af4b3526-c131-455e-a369-e117e94a8ffc",
   "metadata": {},
   "outputs": [],
   "source": [
    "driver.switch_to.frame(Frame)"
   ]
  },
  {
   "cell_type": "code",
   "execution_count": 226,
   "id": "2c93577b-6b1f-4642-95a0-ed39ef3ddc00",
   "metadata": {},
   "outputs": [],
   "source": [
    "driver.find_element(\"xpath\",\"/html/body/app-root/app-main-view/div/div/div/div/div[2]/ul/li[2]/a/p\").click() #typ P normlany KRS\n"
   ]
  },
  {
   "cell_type": "code",
   "execution_count": null,
   "id": "58c1cc06-fd5d-49ab-aaa4-c4a2db4c3e76",
   "metadata": {},
   "outputs": [],
   "source": []
  },
  {
   "cell_type": "code",
   "execution_count": 263,
   "id": "587a2b73-c7a8-4c8a-9f18-cd092296529f",
   "metadata": {},
   "outputs": [],
   "source": [
    "\n",
    "driver.find_element(\"xpath\",\"/html/body/app-root/app-main-view/div/div/div/div/div[2]/ul/li[3]/a/p\").click() #trzeba zmienic caly dol"
   ]
  },
  {
   "cell_type": "code",
   "execution_count": 228,
   "id": "5bf169b4-2019-4b9f-a1f7-bad569f60320",
   "metadata": {},
   "outputs": [],
   "source": [
    "driver.switch_to.default_content()\n"
   ]
  },
  {
   "cell_type": "code",
   "execution_count": 229,
   "id": "398eb222-ef4c-4789-b0e9-4b26d4ee422a",
   "metadata": {},
   "outputs": [],
   "source": [
    "Frame = driver.find_element(\"xpath\",\"/html/body/div[1]/ui-view/div[1]/application/div/div[1]/div/div/app-view-frame[2]/iframe\")\n",
    "driver.switch_to.frame(Frame)"
   ]
  },
  {
   "cell_type": "code",
   "execution_count": 231,
   "id": "b526830e-42dc-44d5-8cd0-b583683bad3f",
   "metadata": {},
   "outputs": [],
   "source": [
    "driver.find_element(\"id\",\"ui-tabpanel-1-label\").click()"
   ]
  },
  {
   "cell_type": "code",
   "execution_count": 233,
   "id": "6278bd5b-c4e4-4c8e-8c12-eb2c9c23bd70",
   "metadata": {},
   "outputs": [],
   "source": [
    "driver.find_element(\"id\",\"identyfikator\").send_keys(\"5532448985\")"
   ]
  },
  {
   "cell_type": "code",
   "execution_count": 204,
   "id": "e1e92e70-55ea-475b-bdb0-d61ce18d065f",
   "metadata": {
    "scrolled": true
   },
   "outputs": [
    {
     "ename": "NoSuchElementException",
     "evalue": "Message: no such element: Unable to locate element: {\"method\":\"css selector\",\"selector\":\"[id=\"inny_id\"]\"}\n  (Session info: chrome=126.0.6478.63); For documentation on this error, please visit: https://www.selenium.dev/documentation/webdriver/troubleshooting/errors#no-such-element-exception\nStacktrace:\n\tGetHandleVerifier [0x00007FF6239D3E32+31618]\n\t(No symbol) [0x00007FF62394B099]\n\t(No symbol) [0x00007FF62380888A]\n\t(No symbol) [0x00007FF623858524]\n\t(No symbol) [0x00007FF62385862C]\n\t(No symbol) [0x00007FF62389F787]\n\t(No symbol) [0x00007FF62387D14F]\n\t(No symbol) [0x00007FF62389CA80]\n\t(No symbol) [0x00007FF62387CEB3]\n\t(No symbol) [0x00007FF62384A46B]\n\t(No symbol) [0x00007FF62384B001]\n\tGetHandleVerifier [0x00007FF623CD9FFD+3202381]\n\tGetHandleVerifier [0x00007FF623D26A1D+3516269]\n\tGetHandleVerifier [0x00007FF623D1C490+3473888]\n\tGetHandleVerifier [0x00007FF623A85D36+760454]\n\t(No symbol) [0x00007FF623956B3F]\n\t(No symbol) [0x00007FF623951CD4]\n\t(No symbol) [0x00007FF623951E62]\n\t(No symbol) [0x00007FF62394120F]\n\tBaseThreadInitThunk [0x00007FFC522F7344+20]\n\tRtlUserThreadStart [0x00007FFC5405CC91+33]\n",
     "output_type": "error",
     "traceback": [
      "\u001b[1;31m---------------------------------------------------------------------------\u001b[0m",
      "\u001b[1;31mNoSuchElementException\u001b[0m                    Traceback (most recent call last)",
      "Cell \u001b[1;32mIn[204], line 1\u001b[0m\n\u001b[1;32m----> 1\u001b[0m \u001b[43mdriver\u001b[49m\u001b[38;5;241;43m.\u001b[39;49m\u001b[43mfind_element\u001b[49m\u001b[43m(\u001b[49m\u001b[38;5;124;43m\"\u001b[39;49m\u001b[38;5;124;43mid\u001b[39;49m\u001b[38;5;124;43m\"\u001b[39;49m\u001b[43m,\u001b[49m\u001b[38;5;124;43m\"\u001b[39;49m\u001b[38;5;124;43minny_id\u001b[39;49m\u001b[38;5;124;43m\"\u001b[39;49m\u001b[43m)\u001b[49m\u001b[38;5;241m.\u001b[39msend_keys(\u001b[38;5;124m\"\u001b[39m\u001b[38;5;124m5532448985\u001b[39m\u001b[38;5;124m\"\u001b[39m)\n",
      "File \u001b[1;32m~\\AppData\\Local\\miniconda3\\envs\\jupyter_notebook\\Lib\\site-packages\\selenium\\webdriver\\remote\\webdriver.py:738\u001b[0m, in \u001b[0;36mWebDriver.find_element\u001b[1;34m(self, by, value)\u001b[0m\n\u001b[0;32m    735\u001b[0m     by \u001b[38;5;241m=\u001b[39m By\u001b[38;5;241m.\u001b[39mCSS_SELECTOR\n\u001b[0;32m    736\u001b[0m     value \u001b[38;5;241m=\u001b[39m \u001b[38;5;124mf\u001b[39m\u001b[38;5;124m'\u001b[39m\u001b[38;5;124m[name=\u001b[39m\u001b[38;5;124m\"\u001b[39m\u001b[38;5;132;01m{\u001b[39;00mvalue\u001b[38;5;132;01m}\u001b[39;00m\u001b[38;5;124m\"\u001b[39m\u001b[38;5;124m]\u001b[39m\u001b[38;5;124m'\u001b[39m\n\u001b[1;32m--> 738\u001b[0m \u001b[38;5;28;01mreturn\u001b[39;00m \u001b[38;5;28;43mself\u001b[39;49m\u001b[38;5;241;43m.\u001b[39;49m\u001b[43mexecute\u001b[49m\u001b[43m(\u001b[49m\u001b[43mCommand\u001b[49m\u001b[38;5;241;43m.\u001b[39;49m\u001b[43mFIND_ELEMENT\u001b[49m\u001b[43m,\u001b[49m\u001b[43m \u001b[49m\u001b[43m{\u001b[49m\u001b[38;5;124;43m\"\u001b[39;49m\u001b[38;5;124;43musing\u001b[39;49m\u001b[38;5;124;43m\"\u001b[39;49m\u001b[43m:\u001b[49m\u001b[43m \u001b[49m\u001b[43mby\u001b[49m\u001b[43m,\u001b[49m\u001b[43m \u001b[49m\u001b[38;5;124;43m\"\u001b[39;49m\u001b[38;5;124;43mvalue\u001b[39;49m\u001b[38;5;124;43m\"\u001b[39;49m\u001b[43m:\u001b[49m\u001b[43m \u001b[49m\u001b[43mvalue\u001b[49m\u001b[43m}\u001b[49m\u001b[43m)\u001b[49m[\u001b[38;5;124m\"\u001b[39m\u001b[38;5;124mvalue\u001b[39m\u001b[38;5;124m\"\u001b[39m]\n",
      "File \u001b[1;32m~\\AppData\\Local\\miniconda3\\envs\\jupyter_notebook\\Lib\\site-packages\\selenium\\webdriver\\remote\\webdriver.py:344\u001b[0m, in \u001b[0;36mWebDriver.execute\u001b[1;34m(self, driver_command, params)\u001b[0m\n\u001b[0;32m    342\u001b[0m response \u001b[38;5;241m=\u001b[39m \u001b[38;5;28mself\u001b[39m\u001b[38;5;241m.\u001b[39mcommand_executor\u001b[38;5;241m.\u001b[39mexecute(driver_command, params)\n\u001b[0;32m    343\u001b[0m \u001b[38;5;28;01mif\u001b[39;00m response:\n\u001b[1;32m--> 344\u001b[0m     \u001b[38;5;28;43mself\u001b[39;49m\u001b[38;5;241;43m.\u001b[39;49m\u001b[43merror_handler\u001b[49m\u001b[38;5;241;43m.\u001b[39;49m\u001b[43mcheck_response\u001b[49m\u001b[43m(\u001b[49m\u001b[43mresponse\u001b[49m\u001b[43m)\u001b[49m\n\u001b[0;32m    345\u001b[0m     response[\u001b[38;5;124m\"\u001b[39m\u001b[38;5;124mvalue\u001b[39m\u001b[38;5;124m\"\u001b[39m] \u001b[38;5;241m=\u001b[39m \u001b[38;5;28mself\u001b[39m\u001b[38;5;241m.\u001b[39m_unwrap_value(response\u001b[38;5;241m.\u001b[39mget(\u001b[38;5;124m\"\u001b[39m\u001b[38;5;124mvalue\u001b[39m\u001b[38;5;124m\"\u001b[39m, \u001b[38;5;28;01mNone\u001b[39;00m))\n\u001b[0;32m    346\u001b[0m     \u001b[38;5;28;01mreturn\u001b[39;00m response\n",
      "File \u001b[1;32m~\\AppData\\Local\\miniconda3\\envs\\jupyter_notebook\\Lib\\site-packages\\selenium\\webdriver\\remote\\errorhandler.py:229\u001b[0m, in \u001b[0;36mErrorHandler.check_response\u001b[1;34m(self, response)\u001b[0m\n\u001b[0;32m    227\u001b[0m         alert_text \u001b[38;5;241m=\u001b[39m value[\u001b[38;5;124m\"\u001b[39m\u001b[38;5;124malert\u001b[39m\u001b[38;5;124m\"\u001b[39m]\u001b[38;5;241m.\u001b[39mget(\u001b[38;5;124m\"\u001b[39m\u001b[38;5;124mtext\u001b[39m\u001b[38;5;124m\"\u001b[39m)\n\u001b[0;32m    228\u001b[0m     \u001b[38;5;28;01mraise\u001b[39;00m exception_class(message, screen, stacktrace, alert_text)  \u001b[38;5;66;03m# type: ignore[call-arg]  # mypy is not smart enough here\u001b[39;00m\n\u001b[1;32m--> 229\u001b[0m \u001b[38;5;28;01mraise\u001b[39;00m exception_class(message, screen, stacktrace)\n",
      "\u001b[1;31mNoSuchElementException\u001b[0m: Message: no such element: Unable to locate element: {\"method\":\"css selector\",\"selector\":\"[id=\"inny_id\"]\"}\n  (Session info: chrome=126.0.6478.63); For documentation on this error, please visit: https://www.selenium.dev/documentation/webdriver/troubleshooting/errors#no-such-element-exception\nStacktrace:\n\tGetHandleVerifier [0x00007FF6239D3E32+31618]\n\t(No symbol) [0x00007FF62394B099]\n\t(No symbol) [0x00007FF62380888A]\n\t(No symbol) [0x00007FF623858524]\n\t(No symbol) [0x00007FF62385862C]\n\t(No symbol) [0x00007FF62389F787]\n\t(No symbol) [0x00007FF62387D14F]\n\t(No symbol) [0x00007FF62389CA80]\n\t(No symbol) [0x00007FF62387CEB3]\n\t(No symbol) [0x00007FF62384A46B]\n\t(No symbol) [0x00007FF62384B001]\n\tGetHandleVerifier [0x00007FF623CD9FFD+3202381]\n\tGetHandleVerifier [0x00007FF623D26A1D+3516269]\n\tGetHandleVerifier [0x00007FF623D1C490+3473888]\n\tGetHandleVerifier [0x00007FF623A85D36+760454]\n\t(No symbol) [0x00007FF623956B3F]\n\t(No symbol) [0x00007FF623951CD4]\n\t(No symbol) [0x00007FF623951E62]\n\t(No symbol) [0x00007FF62394120F]\n\tBaseThreadInitThunk [0x00007FFC522F7344+20]\n\tRtlUserThreadStart [0x00007FFC5405CC91+33]\n"
     ]
    }
   ],
   "source": [
    "driver.find_element(\"id\",\"inny_id\").send_keys(\"5532448985\")"
   ]
  },
  {
   "cell_type": "code",
   "execution_count": null,
   "id": "9f0471ba-4eac-4fdb-a005-3ae1b2835f02",
   "metadata": {},
   "outputs": [],
   "source": []
  },
  {
   "cell_type": "code",
   "execution_count": 234,
   "id": "e759098a-bfc2-4105-bce8-48e5453369ef",
   "metadata": {},
   "outputs": [],
   "source": [
    "driver.find_element(\"id\",\"butoonWyszukajMobile\").click()"
   ]
  },
  {
   "cell_type": "code",
   "execution_count": 235,
   "id": "f23df8e0-4a78-49a2-89b5-165adf2dc936",
   "metadata": {},
   "outputs": [],
   "source": [
    "for ele in driver.find_elements(\"xpath\",\"//*[@class='pi pi-chevron-down']\"):\n",
    "    ele.click()"
   ]
  },
  {
   "cell_type": "code",
   "execution_count": 252,
   "id": "152b0b48-ca00-46de-a4dc-114da4320257",
   "metadata": {},
   "outputs": [],
   "source": [
    "driver.switch_to.default_content()\n",
    "Frame = driver.find_element(\"xpath\",\"/html/body/div[1]/ui-view/div[1]/application/div/div[1]/div/div/app-view-frame[2]/iframe\")\n",
    "driver.switch_to.frame(Frame)\n",
    "html_code = driver.page_source\n",
    "soup = BeautifulSoup(html_code, 'html.parser')\n",
    "tables = soup.find_all('table')\n",
    "df = pd.read_html(io.StringIO(str(tables[0])))[0]\n",
    "df.columns = df.columns.get_level_values(0)"
   ]
  },
  {
   "cell_type": "code",
   "execution_count": 253,
   "id": "c4ceb808-5da7-47d0-a778-d7f932f13654",
   "metadata": {
    "scrolled": true
   },
   "outputs": [],
   "source": [
    "\n",
    "df = pd.read_html(io.StringIO(str(tables[1])))[0]"
   ]
  },
  {
   "cell_type": "code",
   "execution_count": 254,
   "id": "7ca29a59-3757-47be-9c36-eb94aa5fa323",
   "metadata": {},
   "outputs": [
    {
     "data": {
      "text/html": [
       "<div>\n",
       "<style scoped>\n",
       "    .dataframe tbody tr th:only-of-type {\n",
       "        vertical-align: middle;\n",
       "    }\n",
       "\n",
       "    .dataframe tbody tr th {\n",
       "        vertical-align: top;\n",
       "    }\n",
       "\n",
       "    .dataframe thead th {\n",
       "        text-align: right;\n",
       "    }\n",
       "</style>\n",
       "<table border=\"1\" class=\"dataframe\">\n",
       "  <thead>\n",
       "    <tr style=\"text-align: right;\">\n",
       "      <th></th>\n",
       "      <th>Imię</th>\n",
       "      <th>Nazwisko</th>\n",
       "      <th>Firma</th>\n",
       "      <th>Miejsce zamieszkania</th>\n",
       "      <th>PESEL</th>\n",
       "      <th>NIP</th>\n",
       "      <th>Inny identyfikator</th>\n",
       "      <th>Unnamed: 7_level_0</th>\n",
       "      <th>Unnamed: 8_level_0</th>\n",
       "    </tr>\n",
       "  </thead>\n",
       "  <tbody>\n",
       "    <tr>\n",
       "      <th>0</th>\n",
       "      <td>ImięJustyna</td>\n",
       "      <td>NazwiskoKomisarek</td>\n",
       "      <td>Firma(prow. dział. gosp. pod nazwą Firma Ogóln...</td>\n",
       "      <td>Miejsce zamieszkania</td>\n",
       "      <td>PESEL91040912567</td>\n",
       "      <td>NIP7822434254</td>\n",
       "      <td>Inny identyfikator</td>\n",
       "      <td>ui-btn</td>\n",
       "      <td>Zwiń postępowania</td>\n",
       "    </tr>\n",
       "    <tr>\n",
       "      <th>1</th>\n",
       "      <td>Organ wydający orzeczenie</td>\n",
       "      <td>Sygnatura</td>\n",
       "      <td>Data ujawnienia</td>\n",
       "      <td>Data umorzenia</td>\n",
       "      <td>NaN</td>\n",
       "      <td>NaN</td>\n",
       "      <td>NaN</td>\n",
       "      <td>NaN</td>\n",
       "      <td>NaN</td>\n",
       "    </tr>\n",
       "    <tr>\n",
       "      <th>2</th>\n",
       "      <td>Organ wydający orzeczenieKomornik Sądowy przy ...</td>\n",
       "      <td>SygnaturaKm 1405/19</td>\n",
       "      <td>Data ujawnienia 27.09.2022</td>\n",
       "      <td>Data umorzenia 08.01.2021</td>\n",
       "      <td>NaN</td>\n",
       "      <td>NaN</td>\n",
       "      <td>NaN</td>\n",
       "      <td>NaN</td>\n",
       "      <td>NaN</td>\n",
       "    </tr>\n",
       "    <tr>\n",
       "      <th>3</th>\n",
       "      <td>Organ wydający orzeczenieKomornik Sądowy przy ...</td>\n",
       "      <td>SygnaturaKms 294/20</td>\n",
       "      <td>Data ujawnienia 27.09.2022</td>\n",
       "      <td>Data umorzenia 10.06.2021</td>\n",
       "      <td>NaN</td>\n",
       "      <td>NaN</td>\n",
       "      <td>NaN</td>\n",
       "      <td>NaN</td>\n",
       "      <td>NaN</td>\n",
       "    </tr>\n",
       "    <tr>\n",
       "      <th>4</th>\n",
       "      <td>Organ wydający orzeczenieKomornik Sądowy przy ...</td>\n",
       "      <td>SygnaturaKms 287/20</td>\n",
       "      <td>Data ujawnienia 27.09.2022</td>\n",
       "      <td>Data umorzenia 02.12.2021</td>\n",
       "      <td>NaN</td>\n",
       "      <td>NaN</td>\n",
       "      <td>NaN</td>\n",
       "      <td>NaN</td>\n",
       "      <td>NaN</td>\n",
       "    </tr>\n",
       "    <tr>\n",
       "      <th>5</th>\n",
       "      <td>Organ wydający orzeczenieKomornik Sądowy przy ...</td>\n",
       "      <td>SygnaturaKm 439/20</td>\n",
       "      <td>Data ujawnienia 28.09.2022</td>\n",
       "      <td>Data umorzenia 02.12.2021</td>\n",
       "      <td>NaN</td>\n",
       "      <td>NaN</td>\n",
       "      <td>NaN</td>\n",
       "      <td>NaN</td>\n",
       "      <td>NaN</td>\n",
       "    </tr>\n",
       "    <tr>\n",
       "      <th>6</th>\n",
       "      <td>Organ wydający orzeczenieKomornik Sądowy przy ...</td>\n",
       "      <td>SygnaturaKm 1370/20</td>\n",
       "      <td>Data ujawnienia 28.09.2022</td>\n",
       "      <td>Data umorzenia 02.12.2021</td>\n",
       "      <td>NaN</td>\n",
       "      <td>NaN</td>\n",
       "      <td>NaN</td>\n",
       "      <td>NaN</td>\n",
       "      <td>NaN</td>\n",
       "    </tr>\n",
       "  </tbody>\n",
       "</table>\n",
       "</div>"
      ],
      "text/plain": [
       "                                                Imię             Nazwisko  \\\n",
       "0                                        ImięJustyna    NazwiskoKomisarek   \n",
       "1                          Organ wydający orzeczenie            Sygnatura   \n",
       "2  Organ wydający orzeczenieKomornik Sądowy przy ...  SygnaturaKm 1405/19   \n",
       "3  Organ wydający orzeczenieKomornik Sądowy przy ...  SygnaturaKms 294/20   \n",
       "4  Organ wydający orzeczenieKomornik Sądowy przy ...  SygnaturaKms 287/20   \n",
       "5  Organ wydający orzeczenieKomornik Sądowy przy ...   SygnaturaKm 439/20   \n",
       "6  Organ wydający orzeczenieKomornik Sądowy przy ...  SygnaturaKm 1370/20   \n",
       "\n",
       "                                               Firma  \\\n",
       "0  Firma(prow. dział. gosp. pod nazwą Firma Ogóln...   \n",
       "1                                    Data ujawnienia   \n",
       "2                         Data ujawnienia 27.09.2022   \n",
       "3                         Data ujawnienia 27.09.2022   \n",
       "4                         Data ujawnienia 27.09.2022   \n",
       "5                         Data ujawnienia 28.09.2022   \n",
       "6                         Data ujawnienia 28.09.2022   \n",
       "\n",
       "        Miejsce zamieszkania             PESEL            NIP  \\\n",
       "0       Miejsce zamieszkania  PESEL91040912567  NIP7822434254   \n",
       "1             Data umorzenia               NaN            NaN   \n",
       "2  Data umorzenia 08.01.2021               NaN            NaN   \n",
       "3  Data umorzenia 10.06.2021               NaN            NaN   \n",
       "4  Data umorzenia 02.12.2021               NaN            NaN   \n",
       "5  Data umorzenia 02.12.2021               NaN            NaN   \n",
       "6  Data umorzenia 02.12.2021               NaN            NaN   \n",
       "\n",
       "   Inny identyfikator Unnamed: 7_level_0 Unnamed: 8_level_0  \n",
       "0  Inny identyfikator             ui-btn  Zwiń postępowania  \n",
       "1                 NaN                NaN                NaN  \n",
       "2                 NaN                NaN                NaN  \n",
       "3                 NaN                NaN                NaN  \n",
       "4                 NaN                NaN                NaN  \n",
       "5                 NaN                NaN                NaN  \n",
       "6                 NaN                NaN                NaN  "
      ]
     },
     "execution_count": 254,
     "metadata": {},
     "output_type": "execute_result"
    }
   ],
   "source": [
    "df.columns = df.columns.get_level_values(0)\n",
    "df"
   ]
  },
  {
   "cell_type": "code",
   "execution_count": 249,
   "id": "407117be-2517-4db0-b749-452083524f1d",
   "metadata": {},
   "outputs": [
    {
     "data": {
      "text/plain": [
       "[<table role=\"grid\"><!-- --><thead class=\"ui-table-thead\"><tr _ngcontent-scu-c89=\"\" class=\"ng-star-inserted\"><th _ngcontent-scu-c89=\"\" class=\"ng-star-inserted\" hidden=\"\" style=\"width: 28%;\">Nazwa</th><th _ngcontent-scu-c89=\"\" class=\"ng-star-inserted\" hidden=\"\" style=\"width: 14%;\">Forma prawna</th><th _ngcontent-scu-c89=\"\" class=\"ng-star-inserted\" hidden=\"\" style=\"width: 14%;\">Siedziba</th><th _ngcontent-scu-c89=\"\" class=\"ng-star-inserted\" hidden=\"\" style=\"width: 14%;\">KRS</th><th _ngcontent-scu-c89=\"\" class=\"ng-star-inserted\" hidden=\"\" style=\"width: 14%;\">NIP</th><th _ngcontent-scu-c89=\"\" class=\"ng-star-inserted\" hidden=\"\" style=\"width: 14%;\">Inny identyfikator</th><!-- --><td _ngcontent-scu-c89=\"\" class=\"actions-col single-action hideMobileResolution\" hidden=\"\"></td></tr><!-- --></thead><tbody class=\"ui-table-tbody\"><!-- --><!-- --><!-- --><!-- --><!-- --><!-- --><!-- --><!-- --><!-- --></tbody><!-- --></table>,\n",
       " <table role=\"grid\"><!-- --><thead class=\"ui-table-thead\"><tr _ngcontent-scu-c90=\"\" class=\"ng-star-inserted\"><th _ngcontent-scu-c90=\"\" class=\"ng-star-inserted\" style=\"width: 10%;\">Imię</th><th _ngcontent-scu-c90=\"\" class=\"ng-star-inserted\" style=\"width: 14%;\">Nazwisko</th><th _ngcontent-scu-c90=\"\" class=\"ng-star-inserted\" style=\"width: 24%;\">Firma</th><th _ngcontent-scu-c90=\"\" class=\"ng-star-inserted\" style=\"width: 14%;\">Miejsce zamieszkania</th><th _ngcontent-scu-c90=\"\" class=\"ng-star-inserted\" style=\"width: 14%;\">PESEL</th><th _ngcontent-scu-c90=\"\" class=\"ng-star-inserted\" style=\"width: 14%;\">NIP</th><th _ngcontent-scu-c90=\"\" class=\"ng-star-inserted\" style=\"width: 10%;\">Inny identyfikator</th><!-- --><td _ngcontent-scu-c90=\"\" class=\"actions-col single-action hideMobileResolution\"></td></tr><!-- --></thead><tbody class=\"ui-table-tbody\"><!-- --><!-- --><tr _ngcontent-scu-c90=\"\" class=\"zwinietyPanel ng-star-inserted\"><td _ngcontent-scu-c90=\"\" class=\"ng-star-inserted\" style=\"width: 10%;\"><span _ngcontent-scu-c90=\"\" class=\"ui-column-title\">Imię</span><!-- --><span _ngcontent-scu-c90=\"\" class=\"ng-star-inserted\">Wiesław</span><!-- --></td><td _ngcontent-scu-c90=\"\" class=\"ng-star-inserted\" style=\"width: 14%;\"><span _ngcontent-scu-c90=\"\" class=\"ui-column-title\">Nazwisko</span><!-- --><span _ngcontent-scu-c90=\"\" class=\"ng-star-inserted\">Aszurkiewicz</span><!-- --></td><td _ngcontent-scu-c90=\"\" class=\"ng-star-inserted\" style=\"width: 24%;\"><span _ngcontent-scu-c90=\"\" class=\"ui-column-title\">Firma</span><!-- --><span _ngcontent-scu-c90=\"\" class=\"ng-star-inserted\">BRUK-ASZ</span><!-- --></td><td _ngcontent-scu-c90=\"\" class=\"ng-star-inserted\" style=\"width: 14%;\"><span _ngcontent-scu-c90=\"\" class=\"ui-column-title\">Miejsce zamieszkania</span><!-- --><span _ngcontent-scu-c90=\"\" class=\"ng-star-inserted\"></span><!-- --></td><td _ngcontent-scu-c90=\"\" class=\"ng-star-inserted\" style=\"width: 14%;\"><span _ngcontent-scu-c90=\"\" class=\"ui-column-title\">PESEL</span><span _ngcontent-scu-c90=\"\" class=\"ng-star-inserted\"><!-- --><span _ngcontent-scu-c90=\"\" class=\"ng-star-inserted\">92072804475</span><!-- --></span><!-- --><!-- --></td><td _ngcontent-scu-c90=\"\" class=\"ng-star-inserted\" style=\"width: 14%;\"><span _ngcontent-scu-c90=\"\" class=\"ui-column-title\">NIP</span><!-- --><span _ngcontent-scu-c90=\"\" class=\"ng-star-inserted\">5451817800</span><!-- --></td><td _ngcontent-scu-c90=\"\" class=\"ng-star-inserted\" style=\"width: 10%;\"><span _ngcontent-scu-c90=\"\" class=\"ui-column-title\">Inny identyfikator</span><!-- --><span _ngcontent-scu-c90=\"\" class=\"ng-star-inserted\"></span><!-- --></td><!-- --><td _ngcontent-scu-c90=\"\" class=\"actions-col hideMobileResolution\"><button _ngcontent-scu-c90=\"\" aria-expanded=\"true\" aria-label=\"Wiesław Aszurkiewicz\" class=\"hideMobileResolution ds-button link ui-button ui-widget ui-state-default ui-corner-all ui-button-text-empty\" pbutton=\"\" style=\"text-overflow: clip; height: 1.6rem !important;\" type=\"button\"><i _ngcontent-scu-c90=\"\" class=\"pi pi-chevron-up\"></i><span class=\"ui-button-text ui-clickable\">ui-btn</span></button></td><td _ngcontent-scu-c90=\"\" class=\"hideDesktopResolution\" style=\"padding-left: 16px !important; padding-right: 16px !important; min-height: 40px !important;\"><button _ngcontent-scu-c90=\"\" aria-expanded=\"true\" aria-label=\"Wiesław Aszurkiewicz\" class=\"ds-button secondary ui-button ui-widget ui-state-default ui-corner-all ui-button-text-only\" pbutton=\"\" style=\"text-overflow: clip;\" type=\"button\"><span class=\"ui-button-text ui-clickable\">Zwiń postępowania</span></button></td></tr><!-- --><td _ngcontent-scu-c90=\"\" class=\"ng-star-inserted\" colspan=\"8\" role=\"presentation\" style=\"padding-top: 0 !important; padding-left: 0!important; padding-right: 0 !important;\"><div _ngcontent-scu-c90=\"\" class=\"expanded-row-container\"><div _ngcontent-scu-c90=\"\" class=\"kafelekTeczki ng-star-inserted\"><!-- --><div _ngcontent-scu-c90=\"\" class=\"kafelekTeczki ng-star-inserted\" style=\"border: 1px solid #E6E6E6; background-color: white;\"><div _ngcontent-scu-c90=\"\" style=\"margin: 15px;\"><h3 _ngcontent-scu-c90=\"\" style=\"margin-bottom: 1.5rem;\"> Umorzone postępowania egzekucyjne </h3><p-table _ngcontent-scu-c90=\"\" responsive=\"true\"><div class=\"ui-table ui-widget ui-table-responsive\"><!-- --><!-- --><div class=\"ui-table-caption ui-widget-header ng-star-inserted\"> Lista wyszukanych postępowań <!-- --></div><!-- --><!-- --><div class=\"ui-table-wrapper ng-star-inserted\"><table role=\"grid\"><!-- --><thead class=\"ui-table-thead\"><tr _ngcontent-scu-c90=\"\" class=\"ng-star-inserted\"><th _ngcontent-scu-c90=\"\">Organ wydający orzeczenie</th><th _ngcontent-scu-c90=\"\"><span _ngcontent-scu-c90=\"\" style=\"margin-left: 1.5rem;\">Sygnatura</span></th><th _ngcontent-scu-c90=\"\">Data ujawnienia</th><th _ngcontent-scu-c90=\"\">Data umorzenia</th></tr><!-- --></thead><tbody class=\"ui-table-tbody\"><tr _ngcontent-scu-c90=\"\" class=\"ng-star-inserted\" style=\"border-bottom: 1px solid #D9D9D9 !important;\"><td _ngcontent-scu-c90=\"\"><span _ngcontent-scu-c90=\"\" class=\"ui-column-title\">Organ wydający orzeczenie</span>Komornik Sądowy przy Sądzie Rejonowym w Białymstoku Cezary Kalinowski Kancelaria Komornicza nr II w Białymstoku</td><td _ngcontent-scu-c90=\"\"><span _ngcontent-scu-c90=\"\" class=\"ui-column-title\">Sygnatura</span><a _ngcontent-scu-c90=\"\" class=\"ui-href\" href=\"javascript:void(0)\">GKm 50/22</a></td><td _ngcontent-scu-c90=\"\" style=\"font-weight: normal;\"><span _ngcontent-scu-c90=\"\" class=\"ui-column-title\">Data ujawnienia</span> 26.06.2023</td><td _ngcontent-scu-c90=\"\" style=\"font-weight: normal;\"><span _ngcontent-scu-c90=\"\" class=\"ui-column-title\">Data umorzenia</span> 30.03.2023</td></tr><div _ngcontent-scu-c90=\"\" class=\"hideDesktopResolution ng-star-inserted\" style=\"height: 0.8rem;\"></div><!-- --><!-- --><!-- --><!-- --><!-- --><!-- --><!-- --><!-- --></tbody><!-- --></table></div><!-- --><!-- --><!-- --><!-- --><!-- --><!-- --><!-- --></div></p-table></div></div><!-- --></div><!-- --></div></td><!-- --><!-- --><!-- --><!-- --><!-- --><!-- --><!-- --><!-- --></tbody><!-- --></table>,\n",
       " <table role=\"grid\"><!-- --><thead class=\"ui-table-thead\"><tr _ngcontent-scu-c90=\"\" class=\"ng-star-inserted\"><th _ngcontent-scu-c90=\"\">Organ wydający orzeczenie</th><th _ngcontent-scu-c90=\"\"><span _ngcontent-scu-c90=\"\" style=\"margin-left: 1.5rem;\">Sygnatura</span></th><th _ngcontent-scu-c90=\"\">Data ujawnienia</th><th _ngcontent-scu-c90=\"\">Data umorzenia</th></tr><!-- --></thead><tbody class=\"ui-table-tbody\"><tr _ngcontent-scu-c90=\"\" class=\"ng-star-inserted\" style=\"border-bottom: 1px solid #D9D9D9 !important;\"><td _ngcontent-scu-c90=\"\"><span _ngcontent-scu-c90=\"\" class=\"ui-column-title\">Organ wydający orzeczenie</span>Komornik Sądowy przy Sądzie Rejonowym w Białymstoku Cezary Kalinowski Kancelaria Komornicza nr II w Białymstoku</td><td _ngcontent-scu-c90=\"\"><span _ngcontent-scu-c90=\"\" class=\"ui-column-title\">Sygnatura</span><a _ngcontent-scu-c90=\"\" class=\"ui-href\" href=\"javascript:void(0)\">GKm 50/22</a></td><td _ngcontent-scu-c90=\"\" style=\"font-weight: normal;\"><span _ngcontent-scu-c90=\"\" class=\"ui-column-title\">Data ujawnienia</span> 26.06.2023</td><td _ngcontent-scu-c90=\"\" style=\"font-weight: normal;\"><span _ngcontent-scu-c90=\"\" class=\"ui-column-title\">Data umorzenia</span> 30.03.2023</td></tr><div _ngcontent-scu-c90=\"\" class=\"hideDesktopResolution ng-star-inserted\" style=\"height: 0.8rem;\"></div><!-- --><!-- --><!-- --><!-- --><!-- --><!-- --><!-- --><!-- --></tbody><!-- --></table>,\n",
       " <table role=\"grid\"><!-- --><thead class=\"ui-table-thead\"><tr _ngcontent-scu-c91=\"\" class=\"ng-star-inserted\"><th _ngcontent-scu-c91=\"\" class=\"ng-star-inserted\" hidden=\"\">Imię</th><th _ngcontent-scu-c91=\"\" class=\"ng-star-inserted\" hidden=\"\">Nazwisko</th><th _ngcontent-scu-c91=\"\" class=\"ng-star-inserted\" hidden=\"\">Miejsce zamieszkania</th><th _ngcontent-scu-c91=\"\" class=\"ng-star-inserted\" hidden=\"\">PESEL</th><th _ngcontent-scu-c91=\"\" class=\"ng-star-inserted\" hidden=\"\">NIP</th><th _ngcontent-scu-c91=\"\" class=\"ng-star-inserted\" hidden=\"\">Inny identyfikator</th><!-- --><td _ngcontent-scu-c91=\"\" class=\"actions-col single-action hideMobileResolution\" hidden=\"\"></td></tr><!-- --></thead><tbody class=\"ui-table-tbody\"><!-- --><!-- --><!-- --><!-- --><!-- --><!-- --><!-- --><!-- --><!-- --></tbody><!-- --></table>]"
      ]
     },
     "execution_count": 249,
     "metadata": {},
     "output_type": "execute_result"
    }
   ],
   "source": [
    "tables"
   ]
  },
  {
   "cell_type": "code",
   "execution_count": 90,
   "id": "1f36a0bf-f86a-43d0-89d6-daba284fd5cb",
   "metadata": {
    "scrolled": true
   },
   "outputs": [],
   "source": [
    "soup = BeautifulSoup(html_code, 'html.parser')\n",
    "tables = soup.find_all('table')"
   ]
  },
  {
   "cell_type": "code",
   "execution_count": 91,
   "id": "005d9645-2d54-4058-abc6-86fe8308483e",
   "metadata": {},
   "outputs": [
    {
     "name": "stdout",
     "output_type": "stream",
     "text": [
      "                                               Nazwa  \\\n",
      "                                 Rodzaj postępowania   \n",
      "                                 Rodzaj postępowania   \n",
      "                                 Rodzaj postępowania   \n",
      "                                 Rodzaj postępowania   \n",
      "0  NazwaVISTAL EKO SPÓŁKA Z OGRANICZONĄ ODPOWIEDZ...   \n",
      "1                                Rodzaj postępowania   \n",
      "2  Rodzaj postępowaniapostępowanie o ogłoszenie u...   \n",
      "3                                Rodzaj postępowania   \n",
      "4  Rodzaj postępowaniapostępowanie o ogłoszenie u...   \n",
      "5                                Rodzaj postępowania   \n",
      "6  Rodzaj postępowaniapostępowanie o ogłoszenie u...   \n",
      "7                                Rodzaj postępowania   \n",
      "8  Rodzaj postępowaniapostępowanie o ogłoszenie u...   \n",
      "\n",
      "                                        Forma prawna  \\\n",
      "                                           Sygnatura   \n",
      "                                           Sygnatura   \n",
      "                                           Sygnatura   \n",
      "                                           Sygnatura   \n",
      "0  Forma prawnaSpółka z ograniczoną odpowiedzialn...   \n",
      "1                                          Sygnatura   \n",
      "2                          SygnaturaGD1G/GU/786/2022   \n",
      "3                                          Sygnatura   \n",
      "4                          SygnaturaGD1G/GU/871/2023   \n",
      "5                                          Sygnatura   \n",
      "6                         SygnaturaGD1G/GU/1340/2023   \n",
      "7                                          Sygnatura   \n",
      "8                         SygnaturaGD1G/GU/1501/2023   \n",
      "\n",
      "                     Siedziba                         KRS               NIP  \\\n",
      "             Data rejestracji            Data zakończenia            Status   \n",
      "             Data rejestracji            Data zakończenia            Status   \n",
      "             Data rejestracji            Data zakończenia            Status   \n",
      "             Data rejestracji            Data zakończenia            Status   \n",
      "0          SiedzibaKartoszyno               KRS0000349096     NIP9581624786   \n",
      "1            Data rejestracji            Data zakończenia            Status   \n",
      "2  Data rejestracji25.07.2022            Data zakończenia      Statusw toku   \n",
      "3            Data rejestracji            Data zakończenia            Status   \n",
      "4  Data rejestracji28.07.2023  Data zakończenia02.11.2023  Statuszakończone   \n",
      "5            Data rejestracji            Data zakończenia            Status   \n",
      "6  Data rejestracji14.11.2023  Data zakończenia27.12.2023  Statuszakończone   \n",
      "7            Data rejestracji            Data zakończenia            Status   \n",
      "8  Data rejestracji17.12.2023  Data zakończenia09.05.2024  Statuszakończone   \n",
      "\n",
      "   Inny identyfikator Unnamed: 6_level_0 Unnamed: 7_level_0  \n",
      "   Unnamed: 5_level_1 Unnamed: 6_level_1 Unnamed: 7_level_1  \n",
      "   Unnamed: 5_level_2 Unnamed: 6_level_2 Unnamed: 7_level_2  \n",
      "   Unnamed: 5_level_3 Unnamed: 6_level_3 Unnamed: 7_level_3  \n",
      "   Unnamed: 5_level_4 Unnamed: 6_level_4 Unnamed: 7_level_4  \n",
      "0  Inny identyfikator             ui-btn  Zwiń postępowania  \n",
      "1                 NaN                NaN                NaN  \n",
      "2                 NaN                NaN                NaN  \n",
      "3                 NaN                NaN                NaN  \n",
      "4                 NaN                NaN                NaN  \n",
      "5                 NaN                NaN                NaN  \n",
      "6                 NaN                NaN                NaN  \n",
      "7                 NaN                NaN                NaN  \n",
      "8                 NaN                NaN                NaN  \n",
      "                                 Rodzaj postępowania  \\\n",
      "0  Rodzaj postępowaniapostępowanie o ogłoszenie u...   \n",
      "\n",
      "                   Sygnatura            Data rejestracji  Data zakończenia  \\\n",
      "0  SygnaturaGD1G/GU/786/2022  Data rejestracji25.07.2022  Data zakończenia   \n",
      "\n",
      "         Status  \n",
      "0  Statusw toku  \n",
      "                                 Rodzaj postępowania  \\\n",
      "0  Rodzaj postępowaniapostępowanie o ogłoszenie u...   \n",
      "\n",
      "                   Sygnatura            Data rejestracji  \\\n",
      "0  SygnaturaGD1G/GU/871/2023  Data rejestracji28.07.2023   \n",
      "\n",
      "             Data zakończenia            Status  \n",
      "0  Data zakończenia02.11.2023  Statuszakończone  \n",
      "                                 Rodzaj postępowania  \\\n",
      "0  Rodzaj postępowaniapostępowanie o ogłoszenie u...   \n",
      "\n",
      "                    Sygnatura            Data rejestracji  \\\n",
      "0  SygnaturaGD1G/GU/1340/2023  Data rejestracji14.11.2023   \n",
      "\n",
      "             Data zakończenia            Status  \n",
      "0  Data zakończenia27.12.2023  Statuszakończone  \n",
      "                                 Rodzaj postępowania  \\\n",
      "0  Rodzaj postępowaniapostępowanie o ogłoszenie u...   \n",
      "\n",
      "                    Sygnatura            Data rejestracji  \\\n",
      "0  SygnaturaGD1G/GU/1501/2023  Data rejestracji17.12.2023   \n",
      "\n",
      "             Data zakończenia            Status  \n",
      "0  Data zakończenia09.05.2024  Statuszakończone  \n",
      "Empty DataFrame\n",
      "Columns: [Imię, Nazwisko, Firma, Miejsce zamieszkania, PESEL, NIP, Inny identyfikator, Unnamed: 7]\n",
      "Index: []\n",
      "Empty DataFrame\n",
      "Columns: [Imię, Nazwisko, Miejsce zamieszkania, PESEL, NIP, Inny identyfikator, Unnamed: 6]\n",
      "Index: []\n"
     ]
    },
    {
     "name": "stderr",
     "output_type": "stream",
     "text": [
      "C:\\Users\\bekert\\AppData\\Local\\Temp\\ipykernel_20916\\2038266204.py:2: FutureWarning: Passing literal html to 'read_html' is deprecated and will be removed in a future version. To read from a literal string, wrap it in a 'StringIO' object.\n",
      "  print(pd.read_html(str(table))[0])\n",
      "C:\\Users\\bekert\\AppData\\Local\\Temp\\ipykernel_20916\\2038266204.py:2: FutureWarning: Passing literal html to 'read_html' is deprecated and will be removed in a future version. To read from a literal string, wrap it in a 'StringIO' object.\n",
      "  print(pd.read_html(str(table))[0])\n",
      "C:\\Users\\bekert\\AppData\\Local\\Temp\\ipykernel_20916\\2038266204.py:2: FutureWarning: Passing literal html to 'read_html' is deprecated and will be removed in a future version. To read from a literal string, wrap it in a 'StringIO' object.\n",
      "  print(pd.read_html(str(table))[0])\n",
      "C:\\Users\\bekert\\AppData\\Local\\Temp\\ipykernel_20916\\2038266204.py:2: FutureWarning: Passing literal html to 'read_html' is deprecated and will be removed in a future version. To read from a literal string, wrap it in a 'StringIO' object.\n",
      "  print(pd.read_html(str(table))[0])\n",
      "C:\\Users\\bekert\\AppData\\Local\\Temp\\ipykernel_20916\\2038266204.py:2: FutureWarning: Passing literal html to 'read_html' is deprecated and will be removed in a future version. To read from a literal string, wrap it in a 'StringIO' object.\n",
      "  print(pd.read_html(str(table))[0])\n",
      "C:\\Users\\bekert\\AppData\\Local\\Temp\\ipykernel_20916\\2038266204.py:2: FutureWarning: Passing literal html to 'read_html' is deprecated and will be removed in a future version. To read from a literal string, wrap it in a 'StringIO' object.\n",
      "  print(pd.read_html(str(table))[0])\n",
      "C:\\Users\\bekert\\AppData\\Local\\Temp\\ipykernel_20916\\2038266204.py:2: FutureWarning: Passing literal html to 'read_html' is deprecated and will be removed in a future version. To read from a literal string, wrap it in a 'StringIO' object.\n",
      "  print(pd.read_html(str(table))[0])\n"
     ]
    }
   ],
   "source": [
    "for table in tables:\n",
    "    print(pd.read_html(str(table))[0])"
   ]
  },
  {
   "cell_type": "code",
   "execution_count": 95,
   "id": "a00ef116-351e-4158-86c7-3d765d47250a",
   "metadata": {},
   "outputs": [],
   "source": [
    "driver = webdriver.Edge(options=options)\n",
    "driver.get(\"https://timesheet.cee.kworld.kpmg.com/\")"
   ]
  },
  {
   "cell_type": "code",
   "execution_count": 264,
   "id": "b87fcc1e-518f-42be-8720-d4e2d198cbb9",
   "metadata": {},
   "outputs": [],
   "source": [
    "from selenium import webdriver\n",
    "from bs4 import BeautifulSoup\n",
    "from selenium.webdriver.common.by import By\n",
    "import pandas as pd\n",
    "import time\n",
    "from bs4 import BeautifulSoup\n",
    "import os\n",
    "import shutil\n",
    "from datetime import datetime\n",
    "import pypdf\n",
    "import re\n",
    "import os"
   ]
  },
  {
   "cell_type": "code",
   "execution_count": 269,
   "id": "3405c9e9-14bb-4fcf-82cd-bd86a7d6d49c",
   "metadata": {},
   "outputs": [],
   "source": [
    "import requests\n",
    "import sys\n",
    "\n",
    "url = \"https://api.companieshouse.gov.uk/company/05182703\"\n",
    "query = sys.argv[1]\n",
    "api_key = \"87a161f5-895a-49ea-9247-1da73a5a9c9b\"\n",
    "\n",
    "response = requests.get(url.format(query),auth=(api_key,''))"
   ]
  },
  {
   "cell_type": "code",
   "execution_count": 270,
   "id": "de8e0b88-17f5-4972-8681-6c4e83b64a95",
   "metadata": {},
   "outputs": [
    {
     "data": {
      "text/plain": [
       "<Response [200]>"
      ]
     },
     "execution_count": 270,
     "metadata": {},
     "output_type": "execute_result"
    }
   ],
   "source": [
    "response"
   ]
  },
  {
   "cell_type": "code",
   "execution_count": 271,
   "id": "31839d48-0335-4634-8e40-6bdd83072804",
   "metadata": {},
   "outputs": [
    {
     "name": "stdout",
     "output_type": "stream",
     "text": [
      "{'company_number': '05182703', 'has_been_liquidated': False, 'status': 'active', 'date_of_creation': '2004-07-19', 'accounts': {'next_made_up_to': '2023-07-31', 'last_accounts': {'made_up_to': '2022-07-31', 'period_start_on': '2021-08-01', 'period_end_on': '2022-07-31', 'type': 'full'}, 'accounting_reference_date': {'month': '07', 'day': '31'}, 'overdue': True, 'next_accounts': {'period_end_on': '2023-07-31', 'period_start_on': '2022-08-01', 'overdue': True, 'due_on': '2024-04-30'}, 'next_due': '2024-04-30'}, 'undeliverable_registered_office_address': False, 'jurisdiction': 'england-wales', 'sic_codes': ['64910'], 'type': 'ltd', 'company_name': 'CORPORATE ASSET SOLUTIONS LIMITED', 'registered_office_address': {'address_line_1': '30 Finsbury Square', 'postal_code': 'EC2A 1AG', 'locality': 'London'}, 'last_full_members_list_date': '2015-07-19', 'has_insolvency_history': True, 'etag': 'b98e08f1a2738b646a4c692bc8ed9944cbe4031b', 'company_status': 'liquidation', 'has_charges': True, 'confirmation_statement': {'overdue': False, 'last_made_up_to': '2023-07-21', 'next_due': '2024-08-04', 'next_made_up_to': '2024-07-21'}, 'links': {'self': '/company/05182703', 'filing_history': '/company/05182703/filing-history', 'officers': '/company/05182703/officers', 'charges': '/company/05182703/charges', 'persons_with_significant_control': '/company/05182703/persons-with-significant-control', 'insolvency': '/company/05182703/insolvency'}, 'registered_office_is_in_dispute': False, 'has_super_secure_pscs': False, 'can_file': True}\n",
      "dict_keys(['company_number', 'has_been_liquidated', 'status', 'date_of_creation', 'accounts', 'undeliverable_registered_office_address', 'jurisdiction', 'sic_codes', 'type', 'company_name', 'registered_office_address', 'last_full_members_list_date', 'has_insolvency_history', 'etag', 'company_status', 'has_charges', 'confirmation_statement', 'links', 'registered_office_is_in_dispute', 'has_super_secure_pscs', 'can_file'])\n"
     ]
    }
   ],
   "source": [
    "import json\n",
    "json_search_result = response.text\n",
    "search_result = json.JSONDecoder().decode(json_search_result)\n",
    "print(search_result)\n",
    "print(search_result.keys())"
   ]
  },
  {
   "cell_type": "code",
   "execution_count": 1,
   "id": "a68ede63-7f9b-48a0-ad58-b51891c792c9",
   "metadata": {},
   "outputs": [],
   "source": [
    "from selenium import webdriver\n",
    "import time\n",
    "driver = webdriver.Chrome()\n",
    "driver.get(\"https://www.circlek.pl/wyszukaj-stacje\")"
   ]
  },
  {
   "cell_type": "code",
   "execution_count": null,
   "id": "a36ab8cb-02eb-4f29-baef-30d2aabc8590",
   "metadata": {},
   "outputs": [],
   "source": []
  },
  {
   "cell_type": "code",
   "execution_count": 15,
   "id": "7cb0821f-cfd6-4858-9e3c-6e7696172ac6",
   "metadata": {},
   "outputs": [],
   "source": [
    "import time"
   ]
  },
  {
   "cell_type": "code",
   "execution_count": 26,
   "id": "9bc959da-af6a-4de1-9ab2-df1cdf32a01a",
   "metadata": {},
   "outputs": [
    {
     "ename": "ElementNotInteractableException",
     "evalue": "Message: element not interactable\n  (Session info: chrome=126.0.6478.126)\nStacktrace:\n\tGetHandleVerifier [0x00007FF65DDEEEA2+31554]\n\t(No symbol) [0x00007FF65DD67ED9]\n\t(No symbol) [0x00007FF65DC28559]\n\t(No symbol) [0x00007FF65DC797C2]\n\t(No symbol) [0x00007FF65DC6C151]\n\t(No symbol) [0x00007FF65DC9D02A]\n\t(No symbol) [0x00007FF65DC6BA76]\n\t(No symbol) [0x00007FF65DC9D240]\n\t(No symbol) [0x00007FF65DCBC977]\n\t(No symbol) [0x00007FF65DC9CDD3]\n\t(No symbol) [0x00007FF65DC6A33B]\n\t(No symbol) [0x00007FF65DC6AED1]\n\tGetHandleVerifier [0x00007FF65E0F8B1D+3217341]\n\tGetHandleVerifier [0x00007FF65E145AE3+3532675]\n\tGetHandleVerifier [0x00007FF65E13B0E0+3489152]\n\tGetHandleVerifier [0x00007FF65DE9E776+750614]\n\t(No symbol) [0x00007FF65DD7375F]\n\t(No symbol) [0x00007FF65DD6EB14]\n\t(No symbol) [0x00007FF65DD6ECA2]\n\t(No symbol) [0x00007FF65DD5E16F]\n\tBaseThreadInitThunk [0x00007FFC522F7344+20]\n\tRtlUserThreadStart [0x00007FFC5405CC91+33]\n",
     "output_type": "error",
     "traceback": [
      "\u001b[1;31m---------------------------------------------------------------------------\u001b[0m",
      "\u001b[1;31mElementNotInteractableException\u001b[0m           Traceback (most recent call last)",
      "Cell \u001b[1;32mIn[26], line 7\u001b[0m\n\u001b[0;32m      5\u001b[0m     names\u001b[38;5;241m.\u001b[39mappend(name\u001b[38;5;241m.\u001b[39mtext)\n\u001b[0;32m      6\u001b[0m     adresy\u001b[38;5;241m.\u001b[39mappend(adress\u001b[38;5;241m.\u001b[39mtext)\n\u001b[1;32m----> 7\u001b[0m \u001b[43mdriver\u001b[49m\u001b[38;5;241;43m.\u001b[39;49m\u001b[43mfind_element\u001b[49m\u001b[43m(\u001b[49m\u001b[38;5;124;43m\"\u001b[39;49m\u001b[38;5;124;43mxpath\u001b[39;49m\u001b[38;5;124;43m\"\u001b[39;49m\u001b[43m,\u001b[49m\u001b[38;5;124;43m'\u001b[39;49m\u001b[38;5;124;43m//*[@id=\u001b[39;49m\u001b[38;5;124;43m\"\u001b[39;49m\u001b[38;5;124;43mnext-page\u001b[39;49m\u001b[38;5;124;43m\"\u001b[39;49m\u001b[38;5;124;43m]\u001b[39;49m\u001b[38;5;124;43m'\u001b[39;49m\u001b[43m)\u001b[49m\u001b[38;5;241;43m.\u001b[39;49m\u001b[43mclick\u001b[49m\u001b[43m(\u001b[49m\u001b[43m)\u001b[49m\n\u001b[0;32m      8\u001b[0m time\u001b[38;5;241m.\u001b[39msleep(\u001b[38;5;241m2\u001b[39m)\n",
      "File \u001b[1;32m~\\AppData\\Local\\miniconda3\\envs\\jupyter_notebook\\Lib\\site-packages\\selenium\\webdriver\\remote\\webelement.py:93\u001b[0m, in \u001b[0;36mWebElement.click\u001b[1;34m(self)\u001b[0m\n\u001b[0;32m     91\u001b[0m \u001b[38;5;28;01mdef\u001b[39;00m \u001b[38;5;21mclick\u001b[39m(\u001b[38;5;28mself\u001b[39m) \u001b[38;5;241m-\u001b[39m\u001b[38;5;241m>\u001b[39m \u001b[38;5;28;01mNone\u001b[39;00m:\n\u001b[0;32m     92\u001b[0m \u001b[38;5;250m    \u001b[39m\u001b[38;5;124;03m\"\"\"Clicks the element.\"\"\"\u001b[39;00m\n\u001b[1;32m---> 93\u001b[0m     \u001b[38;5;28;43mself\u001b[39;49m\u001b[38;5;241;43m.\u001b[39;49m\u001b[43m_execute\u001b[49m\u001b[43m(\u001b[49m\u001b[43mCommand\u001b[49m\u001b[38;5;241;43m.\u001b[39;49m\u001b[43mCLICK_ELEMENT\u001b[49m\u001b[43m)\u001b[49m\n",
      "File \u001b[1;32m~\\AppData\\Local\\miniconda3\\envs\\jupyter_notebook\\Lib\\site-packages\\selenium\\webdriver\\remote\\webelement.py:394\u001b[0m, in \u001b[0;36mWebElement._execute\u001b[1;34m(self, command, params)\u001b[0m\n\u001b[0;32m    392\u001b[0m     params \u001b[38;5;241m=\u001b[39m {}\n\u001b[0;32m    393\u001b[0m params[\u001b[38;5;124m\"\u001b[39m\u001b[38;5;124mid\u001b[39m\u001b[38;5;124m\"\u001b[39m] \u001b[38;5;241m=\u001b[39m \u001b[38;5;28mself\u001b[39m\u001b[38;5;241m.\u001b[39m_id\n\u001b[1;32m--> 394\u001b[0m \u001b[38;5;28;01mreturn\u001b[39;00m \u001b[38;5;28;43mself\u001b[39;49m\u001b[38;5;241;43m.\u001b[39;49m\u001b[43m_parent\u001b[49m\u001b[38;5;241;43m.\u001b[39;49m\u001b[43mexecute\u001b[49m\u001b[43m(\u001b[49m\u001b[43mcommand\u001b[49m\u001b[43m,\u001b[49m\u001b[43m \u001b[49m\u001b[43mparams\u001b[49m\u001b[43m)\u001b[49m\n",
      "File \u001b[1;32m~\\AppData\\Local\\miniconda3\\envs\\jupyter_notebook\\Lib\\site-packages\\selenium\\webdriver\\remote\\webdriver.py:344\u001b[0m, in \u001b[0;36mWebDriver.execute\u001b[1;34m(self, driver_command, params)\u001b[0m\n\u001b[0;32m    342\u001b[0m response \u001b[38;5;241m=\u001b[39m \u001b[38;5;28mself\u001b[39m\u001b[38;5;241m.\u001b[39mcommand_executor\u001b[38;5;241m.\u001b[39mexecute(driver_command, params)\n\u001b[0;32m    343\u001b[0m \u001b[38;5;28;01mif\u001b[39;00m response:\n\u001b[1;32m--> 344\u001b[0m     \u001b[38;5;28;43mself\u001b[39;49m\u001b[38;5;241;43m.\u001b[39;49m\u001b[43merror_handler\u001b[49m\u001b[38;5;241;43m.\u001b[39;49m\u001b[43mcheck_response\u001b[49m\u001b[43m(\u001b[49m\u001b[43mresponse\u001b[49m\u001b[43m)\u001b[49m\n\u001b[0;32m    345\u001b[0m     response[\u001b[38;5;124m\"\u001b[39m\u001b[38;5;124mvalue\u001b[39m\u001b[38;5;124m\"\u001b[39m] \u001b[38;5;241m=\u001b[39m \u001b[38;5;28mself\u001b[39m\u001b[38;5;241m.\u001b[39m_unwrap_value(response\u001b[38;5;241m.\u001b[39mget(\u001b[38;5;124m\"\u001b[39m\u001b[38;5;124mvalue\u001b[39m\u001b[38;5;124m\"\u001b[39m, \u001b[38;5;28;01mNone\u001b[39;00m))\n\u001b[0;32m    346\u001b[0m     \u001b[38;5;28;01mreturn\u001b[39;00m response\n",
      "File \u001b[1;32m~\\AppData\\Local\\miniconda3\\envs\\jupyter_notebook\\Lib\\site-packages\\selenium\\webdriver\\remote\\errorhandler.py:229\u001b[0m, in \u001b[0;36mErrorHandler.check_response\u001b[1;34m(self, response)\u001b[0m\n\u001b[0;32m    227\u001b[0m         alert_text \u001b[38;5;241m=\u001b[39m value[\u001b[38;5;124m\"\u001b[39m\u001b[38;5;124malert\u001b[39m\u001b[38;5;124m\"\u001b[39m]\u001b[38;5;241m.\u001b[39mget(\u001b[38;5;124m\"\u001b[39m\u001b[38;5;124mtext\u001b[39m\u001b[38;5;124m\"\u001b[39m)\n\u001b[0;32m    228\u001b[0m     \u001b[38;5;28;01mraise\u001b[39;00m exception_class(message, screen, stacktrace, alert_text)  \u001b[38;5;66;03m# type: ignore[call-arg]  # mypy is not smart enough here\u001b[39;00m\n\u001b[1;32m--> 229\u001b[0m \u001b[38;5;28;01mraise\u001b[39;00m exception_class(message, screen, stacktrace)\n",
      "\u001b[1;31mElementNotInteractableException\u001b[0m: Message: element not interactable\n  (Session info: chrome=126.0.6478.126)\nStacktrace:\n\tGetHandleVerifier [0x00007FF65DDEEEA2+31554]\n\t(No symbol) [0x00007FF65DD67ED9]\n\t(No symbol) [0x00007FF65DC28559]\n\t(No symbol) [0x00007FF65DC797C2]\n\t(No symbol) [0x00007FF65DC6C151]\n\t(No symbol) [0x00007FF65DC9D02A]\n\t(No symbol) [0x00007FF65DC6BA76]\n\t(No symbol) [0x00007FF65DC9D240]\n\t(No symbol) [0x00007FF65DCBC977]\n\t(No symbol) [0x00007FF65DC9CDD3]\n\t(No symbol) [0x00007FF65DC6A33B]\n\t(No symbol) [0x00007FF65DC6AED1]\n\tGetHandleVerifier [0x00007FF65E0F8B1D+3217341]\n\tGetHandleVerifier [0x00007FF65E145AE3+3532675]\n\tGetHandleVerifier [0x00007FF65E13B0E0+3489152]\n\tGetHandleVerifier [0x00007FF65DE9E776+750614]\n\t(No symbol) [0x00007FF65DD7375F]\n\t(No symbol) [0x00007FF65DD6EB14]\n\t(No symbol) [0x00007FF65DD6ECA2]\n\t(No symbol) [0x00007FF65DD5E16F]\n\tBaseThreadInitThunk [0x00007FFC522F7344+20]\n\tRtlUserThreadStart [0x00007FFC5405CC91+33]\n"
     ]
    }
   ],
   "source": [
    "names =[]\n",
    "adresy = []\n",
    "for x in range(40):\n",
    "    for name, adress in zip(driver.find_elements('class name',\"container-station-name\"),driver.find_elements('class name',\"container-station-address\")):\n",
    "        names.append(name.text)\n",
    "        adresy.append(adress.text)\n",
    "    driver.find_element(\"xpath\",'//*[@id=\"next-page\"]').click()\n",
    "    time.sleep(2)"
   ]
  },
  {
   "cell_type": "code",
   "execution_count": 28,
   "id": "0ac7c733-e359-4e0f-82ac-608b5ec7e728",
   "metadata": {},
   "outputs": [],
   "source": [
    "import pandas as pd\n",
    "pd.DataFrame(zip(names,adresy),columns=['Nazwa',\"Adress\"]).to_excel(\"Stacje_cricle_K.xlsx\",sheet_name=\"stacje\",index=False)"
   ]
  },
  {
   "cell_type": "code",
   "execution_count": 12,
   "id": "2c923e24-86f1-4e9f-abc6-6152074e6f04",
   "metadata": {},
   "outputs": [
    {
     "name": "stdout",
     "output_type": "stream",
     "text": [
      "0\n",
      "1\n",
      "2\n",
      "3\n",
      "4\n",
      "5\n",
      "6\n",
      "7\n",
      "8\n",
      "9\n",
      "10\n",
      "11\n",
      "12\n",
      "13\n",
      "14\n",
      "15\n",
      "16\n",
      "17\n",
      "18\n",
      "19\n",
      "20\n",
      "21\n",
      "22\n",
      "23\n",
      "24\n",
      "25\n",
      "26\n",
      "27\n",
      "28\n",
      "29\n",
      "30\n",
      "31\n",
      "32\n",
      "33\n",
      "34\n",
      "35\n",
      "36\n",
      "37\n",
      "38\n",
      "39\n"
     ]
    }
   ],
   "source": [
    "for x in range(40):\n",
    "    print(x)"
   ]
  },
  {
   "cell_type": "code",
   "execution_count": null,
   "id": "f9be7490-e367-42b8-a0da-4c3c8e5e2522",
   "metadata": {},
   "outputs": [],
   "source": []
  }
 ],
 "metadata": {
  "kernelspec": {
   "display_name": "Python 3 (ipykernel)",
   "language": "python",
   "name": "python3"
  },
  "language_info": {
   "codemirror_mode": {
    "name": "ipython",
    "version": 3
   },
   "file_extension": ".py",
   "mimetype": "text/x-python",
   "name": "python",
   "nbconvert_exporter": "python",
   "pygments_lexer": "ipython3",
   "version": "3.11.5"
  }
 },
 "nbformat": 4,
 "nbformat_minor": 5
}
